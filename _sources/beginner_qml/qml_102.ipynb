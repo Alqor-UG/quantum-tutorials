{
 "cells": [
  {
   "cell_type": "markdown",
   "metadata": {
    "id": "PnKV8Zx8mioZ"
   },
   "source": [
    "(qml102)=\n",
    "# QML 102 - Deeper Classifiers\n",
    "\n",
    "\n",
    "In the [last tutorial](qml101) we saw the most basic ideas of quantum machine learning algorithms. They included:\n",
    "\n",
    "- division in training and test data\n",
    "- simple training\n",
    "- accuracy tests.\n",
    "\n",
    "However, all of this happened in an extremely simple case, which allowed us to work with simple algorithms. In this tutorial, we will discuss the possibility to learn more complicated structures with deeper circuits. As in the last tutorial, the task will be once again  the classification of data points $x_i$ with labels $y_i$. However the structure will be more complicated, such that the previous circuits would fail. So in this tutorial we will learn:\n",
    "\n",
    "- deeper reuploading circuits\n",
    "- training with optimizers.\n",
    "- All circuits will be implemented with `qiskit` because of its wide ranging use.\n",
    "\n",
    "We will always focus on simplicity throughout this tutorial and leave the more complex discussions to the extensive literature and later tutorials."
   ]
  },
  {
   "cell_type": "code",
   "execution_count": null,
   "metadata": {
    "id": "r_lP5JN4vt9p"
   },
   "outputs": [],
   "source": [
    "# only necessary on colab to have all the required packages installed\n",
    "\n",
    "!pip install qiskit\n",
    "!pip install pylatexenc"
   ]
  },
  {
   "cell_type": "markdown",
   "metadata": {
    "id": "FgQjg2qvneFB"
   },
   "source": [
    "## The learning  task\n",
    "\n",
    "As previously, we will focus on a problem with one dimensional input data, which we associate with a label {0, 1}. However, the data set has a strucute, which will require deeper circuits."
   ]
  },
  {
   "cell_type": "code",
   "execution_count": null,
   "metadata": {
    "id": "ZttXKz30nylz"
   },
   "outputs": [],
   "source": [
    "from typing import Union, List\n",
    "\n",
    "import numpy as np\n",
    "import matplotlib.pyplot as plt\n",
    "\n",
    "from tqdm import tqdm\n",
    "\n",
    "# for splitting the data set\n",
    "from sklearn.model_selection import train_test_split\n",
    "\n",
    "# for the quantum circuits\n",
    "from qiskit.circuit import QuantumCircuit, Parameter\n",
    "from qiskit import Aer"
   ]
  },
  {
   "cell_type": "code",
   "execution_count": null,
   "metadata": {
    "colab": {
     "base_uri": "https://localhost:8080/",
     "height": 297
    },
    "executionInfo": {
     "elapsed": 275,
     "status": "ok",
     "timestamp": 1649159090085,
     "user": {
      "displayName": "Fred Jendrzejewski",
      "userId": "18233741657522664753"
     },
     "user_tz": -120
    },
    "id": "Ng1SglPRoBT9",
    "outputId": "7c717082-b4fe-43ba-f493-ff81130f86af"
   },
   "outputs": [
    {
     "data": {
      "text/plain": [
       "Text(0, 0.5, 'label')"
      ]
     },
     "execution_count": 3,
     "metadata": {},
     "output_type": "execute_result"
    },
    {
     "data": {
      "image/png": "[encoded data removed]",
      "text/plain": [
       "<Figure size 432x288 with 1 Axes>"
      ]
     },
     "metadata": {
      "needs_background": "light"
     },
     "output_type": "display_data"
    }
   ],
   "source": [
    "np.random.seed(1)\n",
    "x = np.random.uniform(-np.pi, np.pi, 100)\n",
    "y = 1.0 * (abs(x) > 1.4*np.pi/2)\n",
    "\n",
    "f, ax = plt.subplots()\n",
    "ax.plot(x, y, \"o\")\n",
    "ax.set_xlabel(\"input value\")\n",
    "ax.set_ylabel(\"label\")"
   ]
  },
  {
   "cell_type": "markdown",
   "metadata": {
    "id": "C7Imt-gGoypd"
   },
   "source": [
    "Once again we split the data set and get into the training."
   ]
  },
  {
   "cell_type": "code",
   "execution_count": null,
   "metadata": {
    "colab": {
     "base_uri": "https://localhost:8080/",
     "height": 368
    },
    "executionInfo": {
     "elapsed": 678,
     "status": "ok",
     "timestamp": 1649159343076,
     "user": {
      "displayName": "Fred Jendrzejewski",
      "userId": "18233741657522664753"
     },
     "user_tz": -120
    },
    "id": "G_oeKC3JpeBJ",
    "outputId": "d2ae821b-a2f0-44db-ddd1-7d1e0dc246aa"
   },
   "outputs": [
    {
     "data": {
      "text/plain": [
       "Text(0.5, 1.0, 'test data')"
      ]
     },
     "execution_count": 8,
     "metadata": {},
     "output_type": "execute_result"
    },
    {
     "data": {
      "image/png": "[encoded data removed]",
      "text/plain": [
       "<Figure size 1080x360 with 2 Axes>"
      ]
     },
     "metadata": {
      "needs_background": "light"
     },
     "output_type": "display_data"
    }
   ],
   "source": [
    "x_train, x_test, y_train, y_test = train_test_split(\n",
    "    x, y, test_size=0.20, random_state=42\n",
    ")\n",
    "\n",
    "\n",
    "f, (ax1, ax2) = plt.subplots(1, 2, figsize=(15, 5), sharex=True, sharey=True)\n",
    "ax1.plot(x_train, y_train, \"o\")\n",
    "ax1.set_xlabel(\"input value\")\n",
    "ax1.set_ylabel(\" given labels\")\n",
    "ax1.set_title(\"training data\")\n",
    "\n",
    "ax2.plot(x_test, y_test, \"o\")\n",
    "ax2.set_xlabel(\"input value\")\n",
    "ax2.set_title(\"test data\")"
   ]
  },
  {
   "cell_type": "markdown",
   "metadata": {
    "id": "jRy_bpqPqglm"
   },
   "source": [
    "## A deeper algorithm\n",
    "\n",
    "\n",
    "To achieve training for this more complex data set we have to work with a [data-reuploading approach](https://quantum-journal.org/papers/q-2020-02-06-226/). It is similiar to our previous approach as it does the following.\n",
    "\n",
    "1. Prepare the initial state.\n",
    "2. Apply a parametrized circuit with parameters $\\mathbf{w}$ that depend on the input $U(\\mathbf{w}, x_i)$.\n",
    "3. Read out the label from the measurement of the qubit.\n",
    "\n",
    "However, the circuit has now a structure, where input parameter is is applied again and again, interleaved with some processing layer. This allows for non-trivial classification tasks, which was analyzed in great detail [here](https://journals.aps.org/pra/abstract/10.1103/PhysRevA.103.032430)."
   ]
  },
  {
   "cell_type": "code",
   "execution_count": null,
   "metadata": {
    "id": "X4sZra11pyHs"
   },
   "outputs": [],
   "source": [
    "sim = Aer.get_backend(\"aer_simulator\")"
   ]
  },
  {
   "cell_type": "code",
   "execution_count": null,
   "metadata": {
    "colab": {
     "base_uri": "https://localhost:8080/",
     "height": 140
    },
    "executionInfo": {
     "elapsed": 1842,
     "status": "ok",
     "timestamp": 1649159312424,
     "user": {
      "displayName": "Fred Jendrzejewski",
      "userId": "18233741657522664753"
     },
     "user_tz": -120
    },
    "id": "tnceVURft-W5",
    "outputId": "6e0787fa-ecec-4ec0-8e43-92883a13f047"
   },
   "outputs": [
    {
     "data": {
      "image/png": "[encoded data removed]",
      "text/plain": [
       "<Figure size 417.879x144.48 with 1 Axes>"
      ]
     },
     "execution_count": 5,
     "metadata": {},
     "output_type": "execute_result"
    }
   ],
   "source": [
    "theta = Parameter(r\"$\\theta$\")\n",
    "alpha1 = Parameter(r\"$\\alpha_1$\")\n",
    "qc = QuantumCircuit(1)\n",
    "qc.rx(theta, 0)\n",
    "qc.rz(alpha1, 0)\n",
    "qc.rx(theta, 0)\n",
    "qc.measure_all()\n",
    "qc.draw(\"mpl\")"
   ]
  },
  {
   "cell_type": "markdown",
   "metadata": {
    "id": "dBDzX75c0bqC"
   },
   "source": [
    "We can now look at the performance of the code with some randomly initialized weight in predicting the appropiate label."
   ]
  },
  {
   "cell_type": "code",
   "execution_count": null,
   "metadata": {
    "id": "-bs7d-A7yyZh"
   },
   "outputs": [],
   "source": [
    "def get_accuracy(\n",
    "    qc: QuantumCircuit, alpha: float, weight: float,\n",
    "    xvals: List[float], yvals: List[int]\n",
    ") -> Union[float, List[int]]:\n",
    "    \"\"\"\n",
    "    Calculates the accuracy of the circuit for a given set of data.\n",
    "\n",
    "    Args:\n",
    "      qc: the quantum circuit\n",
    "      alphas: the training parameter\n",
    "      weights: the weights for the inputs\n",
    "      xvals: the input values\n",
    "      yvals: the labels\n",
    "    Returns:\n",
    "      The accuracy and the predicted labels.\n",
    "    \"\"\"\n",
    "    pred_labels = np.zeros(len(xvals))\n",
    "    accurate_prediction = 0\n",
    "    for ii, xinput, yinput in zip(range(len(xvals)), xvals, yvals.astype(int)):\n",
    "        # set the circuit parameter\n",
    "        circuit = qc.assign_parameters(\n",
    "            {theta: weight*xinput,\n",
    "             alpha1: alpha,\n",
    "             },\n",
    "            inplace=False,\n",
    "        )\n",
    "        # run the job and obtain the counts\n",
    "        Nshots = 4000\n",
    "        job = sim.run(circuit, shots=Nshots)\n",
    "        counts1 = job.result().get_counts()\n",
    "\n",
    "        # obtain the predicted label on average\n",
    "        if \"0\" in counts1:\n",
    "            pred_label = 1 * (counts1[\"0\"] < Nshots/2)\n",
    "        else:\n",
    "            pred_label = 1\n",
    "        pred_labels[ii] = pred_label\n",
    "        if yinput == pred_label:\n",
    "            accurate_prediction += 1\n",
    "    return accurate_prediction / len(yvals), pred_labels"
   ]
  },
  {
   "cell_type": "code",
   "execution_count": null,
   "metadata": {
    "colab": {
     "base_uri": "https://localhost:8080/",
     "height": 302
    },
    "executionInfo": {
     "elapsed": 957,
     "status": "ok",
     "timestamp": 1649159349601,
     "user": {
      "displayName": "Fred Jendrzejewski",
      "userId": "18233741657522664753"
     },
     "user_tz": -120
    },
    "id": "7ebklqJn0HwQ",
    "outputId": "ee7d9ee8-0ba3-49c6-dded-71fce807e832"
   },
   "outputs": [
    {
     "name": "stdout",
     "output_type": "stream",
     "text": [
      "The circuit has an accuracy of 0.275\n"
     ]
    },
    {
     "data": {
      "text/plain": [
       "<matplotlib.legend.Legend at 0x7f1f9a216a10>"
      ]
     },
     "execution_count": 9,
     "metadata": {},
     "output_type": "execute_result"
    },
    {
     "data": {
      "image/png": "[encoded data removed]",
      "text/plain": [
       "<Figure size 432x288 with 1 Axes>"
      ]
     },
     "metadata": {
      "needs_background": "light"
     },
     "output_type": "display_data"
    }
   ],
   "source": [
    "weight = 1\n",
    "alpha = np.pi/4\n",
    "\n",
    "accuracy, y_pred = get_accuracy(qc, alpha=alpha, weight=weight, xvals=x_train, yvals=y_train)\n",
    "\n",
    "false_label = abs(y_pred - y_train) > 0\n",
    "\n",
    "x_false = x_train[false_label]\n",
    "y_false = y_pred[false_label]\n",
    "\n",
    "print(f\"The circuit has an accuracy of {accuracy}\")\n",
    "f, ax = plt.subplots()\n",
    "ax.plot(x_train, y_pred, \"o\", label=\"predicted label\")\n",
    "ax.plot(x_false, y_false, \"ro\", label=\"false label\")\n",
    "ax.legend()"
   ]
  },
  {
   "cell_type": "markdown",
   "metadata": {
    "id": "FUpRQY2m3zd8"
   },
   "source": [
    "## Training\n",
    "\n",
    "We once again have to train the circuit. However, this time it does not have a single training variable, but four. We therefore have to fall back to [`scipy.optimize`](https://docs.scipy.org/doc/scipy/reference/optimize.html) package to optimize the target function."
   ]
  },
  {
   "cell_type": "code",
   "execution_count": null,
   "metadata": {
    "id": "mIkhchO33G2N"
   },
   "outputs": [],
   "source": [
    "from scipy.optimize import minimize"
   ]
  },
  {
   "cell_type": "code",
   "execution_count": null,
   "metadata": {
    "id": "M4-nNB-o3WbS"
   },
   "outputs": [],
   "source": [
    "def get_cost_for_circ(xvals, yvals, machine=sim):\n",
    "    \"\"\"\n",
    "    Runs parametrized circuit\n",
    "\n",
    "    Args:\n",
    "        x: position of the dot\n",
    "        y: its state label\n",
    "        params: parameters of the circuit\n",
    "    \"\"\"\n",
    "\n",
    "    def execute_circ(params_flat):\n",
    "        weight = params_flat[0]\n",
    "        alpha = params_flat[1]\n",
    "        accuracy, y_pred = get_accuracy(qc, alpha=alpha, weight=weight, xvals=xvals, yvals=yvals)\n",
    "        print(f\"accuracy = {accuracy}\")\n",
    "        return 1-accuracy\n",
    "\n",
    "    return execute_circ"
   ]
  },
  {
   "cell_type": "code",
   "execution_count": null,
   "metadata": {
    "colab": {
     "base_uri": "https://localhost:8080/"
    },
    "executionInfo": {
     "elapsed": 14259,
     "status": "ok",
     "timestamp": 1649159608363,
     "user": {
      "displayName": "Fred Jendrzejewski",
      "userId": "18233741657522664753"
     },
     "user_tz": -120
    },
    "id": "sJD6ZB-_3KEK",
    "outputId": "c8e7c078-27cf-4738-ccd8-bbfec42a308e"
   },
   "outputs": [
    {
     "name": "stdout",
     "output_type": "stream",
     "text": [
      "accuracy = 0.675\n",
      "accuracy = 0.6\n",
      "accuracy = 0.775\n",
      "accuracy = 0.65\n",
      "accuracy = 0.4\n",
      "accuracy = 0.9\n",
      "accuracy = 0.65\n",
      "accuracy = 0.65\n",
      "accuracy = 0.825\n",
      "accuracy = 0.825\n",
      "accuracy = 1.0\n",
      "accuracy = 0.925\n",
      "accuracy = 0.9625\n",
      "accuracy = 1.0\n",
      "accuracy = 0.9625\n",
      "accuracy = 0.975\n",
      "accuracy = 1.0\n",
      "accuracy = 1.0\n",
      "accuracy = 1.0\n",
      "accuracy = 1.0\n",
      "accuracy = 1.0\n",
      "accuracy = 1.0\n"
     ]
    }
   ],
   "source": [
    "total_cost = get_cost_for_circ(x_train, y_train, sim)\n",
    "\n",
    "# initial parameters which are randomly initialized\n",
    "np.random.seed(123)\n",
    "params = np.random.uniform(size=2)\n",
    "params_flat = params.flatten()\n",
    "\n",
    "# minimze with COBYLA optimize, which often performs quite well\n",
    "res = minimize(total_cost, params_flat, method=\"COBYLA\")"
   ]
  },
  {
   "cell_type": "markdown",
   "metadata": {
    "id": "FQKjrklslGmK"
   },
   "source": [
    "We can see that the accuracy is converging throughout the training quite nicely and it is now time to look into the optimal training parameters."
   ]
  },
  {
   "cell_type": "code",
   "execution_count": null,
   "metadata": {
    "colab": {
     "base_uri": "https://localhost:8080/"
    },
    "executionInfo": {
     "elapsed": 318,
     "status": "ok",
     "timestamp": 1649159734405,
     "user": {
      "displayName": "Fred Jendrzejewski",
      "userId": "18233741657522664753"
     },
     "user_tz": -120
    },
    "id": "pV2o-yta82hm",
    "outputId": "2a7a018e-24b7-4c76-ac4f-f1cbfef406aa"
   },
   "outputs": [
    {
     "name": "stdout",
     "output_type": "stream",
     "text": [
      "optimal weight = 0.5093757145525236\n",
      "optimal alpha = 1.3032510317367447\n"
     ]
    }
   ],
   "source": [
    "opt_weight, opt_alpha = res.x\n",
    "print(f\"optimal weight = {opt_weight}\")\n",
    "print(f\"optimal alpha = {opt_alpha}\")"
   ]
  },
  {
   "cell_type": "markdown",
   "metadata": {
    "id": "9gf8m_uM6i8E"
   },
   "source": [
    "We can now test the accuracy on the optimal value of the weights again to test the accuracy."
   ]
  },
  {
   "cell_type": "code",
   "execution_count": null,
   "metadata": {
    "colab": {
     "base_uri": "https://localhost:8080/",
     "height": 283
    },
    "executionInfo": {
     "elapsed": 994,
     "status": "ok",
     "timestamp": 1649159767182,
     "user": {
      "displayName": "Fred Jendrzejewski",
      "userId": "18233741657522664753"
     },
     "user_tz": -120
    },
    "id": "8ZzCgUBe1XlI",
    "outputId": "5b19fb2a-e48c-4060-90b1-5bb0e1529d0f"
   },
   "outputs": [
    {
     "name": "stdout",
     "output_type": "stream",
     "text": [
      "The trained circuit has an accuracy of 1.0\n"
     ]
    },
    {
     "data": {
      "image/png": "[encoded data removed]",
      "text/plain": [
       "<Figure size 432x288 with 1 Axes>"
      ]
     },
     "metadata": {
      "needs_background": "light"
     },
     "output_type": "display_data"
    }
   ],
   "source": [
    "accuracy, y_pred = get_accuracy(qc, weight=opt_weight, alpha = opt_alpha, xvals=x_train, yvals=y_train)\n",
    "\n",
    "false_label = abs(y_pred - y_train) > 0\n",
    "\n",
    "x_false = x_train[false_label]\n",
    "y_false = y_pred[false_label]\n",
    "\n",
    "f, ax = plt.subplots()\n",
    "ax.plot(x_train, y_pred, \"o\", label=\"predicted label\")\n",
    "ax.plot(x_false, y_false, \"ro\", label=\"false label\")\n",
    "ax.legend()\n",
    "\n",
    "\n",
    "print(f\"The trained circuit has an accuracy of {accuracy:.2}\")"
   ]
  },
  {
   "cell_type": "markdown",
   "metadata": {
    "id": "gDU-Cv4P6wn5"
   },
   "source": [
    "## Test\n",
    "\n",
    "Having finished the training, we can test the circuit now on data points that it has never seen."
   ]
  },
  {
   "cell_type": "code",
   "execution_count": null,
   "metadata": {
    "colab": {
     "base_uri": "https://localhost:8080/",
     "height": 302
    },
    "executionInfo": {
     "elapsed": 809,
     "status": "ok",
     "timestamp": 1649159780810,
     "user": {
      "displayName": "Fred Jendrzejewski",
      "userId": "18233741657522664753"
     },
     "user_tz": -120
    },
    "id": "NAuM4pYscZUQ",
    "outputId": "8c7b0153-9d96-4ded-b20e-7fef6907fdf9"
   },
   "outputs": [
    {
     "name": "stdout",
     "output_type": "stream",
     "text": [
      "The circuit has a test accuracy of 1.0\n"
     ]
    },
    {
     "data": {
      "text/plain": [
       "<matplotlib.legend.Legend at 0x7f1f99613150>"
      ]
     },
     "execution_count": 24,
     "metadata": {},
     "output_type": "execute_result"
    },
    {
     "data": {
      "image/png": "[encoded data removed]",
      "text/plain": [
       "<Figure size 432x288 with 1 Axes>"
      ]
     },
     "metadata": {
      "needs_background": "light"
     },
     "output_type": "display_data"
    }
   ],
   "source": [
    "test_accuracy, y_test_pred = get_accuracy(\n",
    "    qc, weight=opt_weight, alpha = opt_alpha, xvals=x_test, yvals=y_test\n",
    ")\n",
    "\n",
    "false_label = abs(y_test_pred - y_test) > 0\n",
    "\n",
    "x_false = x_test[false_label]\n",
    "y_false = y_test_pred[false_label]\n",
    "\n",
    "print(f\"The circuit has a test accuracy of {test_accuracy:.2}\")\n",
    "f, ax = plt.subplots()\n",
    "ax.plot(x_test, y_test_pred, \"o\", label=\"predicted label\")\n",
    "ax.plot(x_false, y_false, \"ro\", label=\"false label\")\n",
    "ax.legend()"
   ]
  },
  {
   "cell_type": "markdown",
   "metadata": {
    "id": "YOtwNStAlYzU"
   },
   "source": [
    "## Summary and outlook\n",
    "\n",
    "In this tutorial, we have seen that the extension of the circuit to deeper structures allows us to learn training sets, which were previously impossible to evaluate. In the next tutorials, we will extend these circuits in two directions:\n",
    "\n",
    "1. Work with larger dimensions of input parameters. This is what we would like to do quantum machine learning anyways and where the main innovation of the data reuploading circuits lies.\n",
    "2. Work on circuits with multiple qubits to classify different classes and introduce entanglement in a systematic fashion. "
   ]
  },
  {
   "cell_type": "code",
   "execution_count": null,
   "metadata": {
    "id": "cl4gedIEnoDt"
   },
   "outputs": [],
   "source": []
  }
 ],
 "metadata": {
  "colab": {
   "collapsed_sections": [],
   "name": "qml_102.ipynb",
   "provenance": [
    {
     "file_id": "1XMkIBrU1lBLTT-oVufVTifHivss0HDI1",
     "timestamp": 1646996143437
    }
   ]
  },
  "kernelspec": {
   "display_name": "Python 3 (ipykernel)",
   "language": "python",
   "name": "python3"
  },
  "language_info": {
   "codemirror_mode": {
    "name": "ipython",
    "version": 3
   },
   "file_extension": ".py",
   "mimetype": "text/x-python",
   "name": "python",
   "nbconvert_exporter": "python",
   "pygments_lexer": "ipython3",
   "version": "3.10.8"
  }
 },
 "nbformat": 4,
 "nbformat_minor": 4
}
