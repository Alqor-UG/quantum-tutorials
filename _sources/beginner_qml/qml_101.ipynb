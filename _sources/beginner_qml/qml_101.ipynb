{
 "cells": [
  {
   "cell_type": "markdown",
   "metadata": {
    "id": "PnKV8Zx8mioZ"
   },
   "source": [
    "(qml101)=\n",
    "# QML 101 - Some basic concepts\n",
    "\n",
    "This is the second part of our beginners guide to quantum machine learning. In the last part we introduced some basic notions of classical supervised learning, on which we will build up on. In this tutorial, we will discuss some basic ideas behind quantum machine learning. Hereby, we focus on classifiers, which are part of the big class of supervised (deep) learning algorithms.\n",
    "\n",
    "The notebook is structured as follows:\n",
    "\n",
    "- We introduce the learning task of classifying data points $x_i$ with labels $y_i$\n",
    "- We introduce the circuit structure and the cost function.\n",
    "- We provide simple training\n",
    "- We test the performance of the circuit.\n",
    "\n",
    "We will always focus on simplicity throughout this tutorial and leave the more complex discussions to the extensive literature."
   ]
  },
  {
   "cell_type": "markdown",
   "metadata": {
    "id": "FgQjg2qvneFB"
   },
   "source": [
    "## A simple learning task\n",
    "\n",
    "For simplicity we will start out with a simple problem, where each data set has only a single variable and extend it later to higher dimensional data sets."
   ]
  },
  {
   "cell_type": "code",
   "execution_count": null,
   "metadata": {
    "id": "r_lP5JN4vt9p"
   },
   "outputs": [],
   "source": [
    "# only necessary on colab\n",
    "\n",
    "!pip install qiskit\n",
    "!pip install pylatexenc"
   ]
  },
  {
   "cell_type": "code",
   "execution_count": null,
   "metadata": {
    "id": "ZttXKz30nylz"
   },
   "outputs": [],
   "source": [
    "from typing import Union, List\n",
    "\n",
    "import numpy as np\n",
    "import matplotlib.pyplot as plt\n",
    "\n",
    "from tqdm import tqdm\n"
   ]
  },
  {
   "cell_type": "code",
   "execution_count": null,
   "metadata": {
    "colab": {
     "base_uri": "https://localhost:8080/",
     "height": 296
    },
    "executionInfo": {
     "elapsed": 314,
     "status": "ok",
     "timestamp": 1646922777922,
     "user": {
      "displayName": "Niklas Hegemann",
      "photoUrl": "https://lh3.googleusercontent.com/a-/AOh14GhzrftyCXlAQpkGZbX84q5fjIMGfUN6dF0g7GClVg=s64",
      "userId": "13335160519372393230"
     },
     "user_tz": -60
    },
    "id": "Ng1SglPRoBT9",
    "outputId": "3116a33d-8056-4a06-ba11-40f8fb24971c"
   },
   "outputs": [
    {
     "data": {
      "text/plain": [
       "Text(0, 0.5, 'label')"
      ]
     },
     "execution_count": 3,
     "metadata": {},
     "output_type": "execute_result"
    },
    {
     "data": {
      "image/png": "[encoded data removed]",
      "text/plain": [
       "<Figure size 432x288 with 1 Axes>"
      ]
     },
     "metadata": {
      "needs_background": "light"
     },
     "output_type": "display_data"
    }
   ],
   "source": [
    "np.random.seed(1)\n",
    "x = np.random.uniform(-np.pi, np.pi, 100)\n",
    "y = 1.0 * (abs(x) > np.pi / 2)\n",
    "\n",
    "f, ax = plt.subplots()\n",
    "ax.plot(x, y, \"o\")\n",
    "ax.set_xlabel(\"input value\")\n",
    "ax.set_ylabel(\"label\")"
   ]
  },
  {
   "cell_type": "markdown",
   "metadata": {
    "id": "C7Imt-gGoypd"
   },
   "source": [
    "The task will then be to predict the label $y_i$ from the input value $x_i$. To get started we have to divide the data set into a training part and a test part:\n",
    "\n",
    "- On the *training set* we will optimize the algorithm to achieve the highest possible accuracy in predicting the label.\n",
    "- On the *test set* we will test the performance of the algorithm with data it has never seen.\n",
    "\n",
    "The usual problem is here to find a good balance between a sufficient amount of training data, yet leaving enough test data to have a statistically significant test."
   ]
  },
  {
   "cell_type": "code",
   "execution_count": null,
   "metadata": {
    "id": "TpncjVfspXRE"
   },
   "outputs": [],
   "source": [
    "from sklearn.model_selection import train_test_split"
   ]
  },
  {
   "cell_type": "code",
   "execution_count": null,
   "metadata": {
    "colab": {
     "base_uri": "https://localhost:8080/",
     "height": 367
    },
    "executionInfo": {
     "elapsed": 441,
     "status": "ok",
     "timestamp": 1646922779033,
     "user": {
      "displayName": "Niklas Hegemann",
      "photoUrl": "https://lh3.googleusercontent.com/a-/AOh14GhzrftyCXlAQpkGZbX84q5fjIMGfUN6dF0g7GClVg=s64",
      "userId": "13335160519372393230"
     },
     "user_tz": -60
    },
    "id": "G_oeKC3JpeBJ",
    "outputId": "1c889d08-c0cf-4031-e6ef-baf3f47a8236"
   },
   "outputs": [
    {
     "data": {
      "text/plain": [
       "Text(0.5, 1.0, 'test data')"
      ]
     },
     "execution_count": 5,
     "metadata": {},
     "output_type": "execute_result"
    },
    {
     "data": {
      "image/png": "[encoded data removed]",
      "text/plain": [
       "<Figure size 1080x360 with 2 Axes>"
      ]
     },
     "metadata": {
      "needs_background": "light"
     },
     "output_type": "display_data"
    }
   ],
   "source": [
    "x_train, x_test, y_train, y_test = train_test_split(\n",
    "    x, y, test_size=0.20, random_state=42\n",
    ")\n",
    "\n",
    "f, (ax1, ax2) = plt.subplots(1, 2, figsize=(15, 5), sharex=True, sharey=True)\n",
    "ax1.plot(x_train, y_train, \"o\")\n",
    "ax1.set_xlabel(\"input value\")\n",
    "ax1.set_ylabel(\" given labels\")\n",
    "ax1.set_title(\"training data\")\n",
    "\n",
    "ax2.plot(x_test, y_test, \"o\")\n",
    "ax2.set_xlabel(\"input value\")\n",
    "ax2.set_title(\"test data\")"
   ]
  },
  {
   "cell_type": "markdown",
   "metadata": {
    "id": "jRy_bpqPqglm"
   },
   "source": [
    "## A first algorithm\n",
    "\n",
    "It is now time to set up the algorithm for the training. Given that there are only two labels, we can directly work with a single qubit. The algorithm is then of the following structure:\n",
    "\n",
    "1. Prepare the initial state.\n",
    "2. Apply a parametrized circuit with parameters $\\mathbf{w}$ that depend on the input $U(\\mathbf{w}, x_i)$.\n",
    "3. Read out the label from the measurement of the qubit.\n",
    "\n",
    "In the simplest of all cases, we might then just apply a single qubit rotation with the angle $w x_i$"
   ]
  },
  {
   "cell_type": "code",
   "execution_count": null,
   "metadata": {
    "id": "X4sZra11pyHs"
   },
   "outputs": [],
   "source": [
    "from qiskit.circuit import QuantumCircuit, Parameter\n",
    "from qiskit import Aer\n",
    "\n",
    "sim = Aer.get_backend(\"aer_simulator\")"
   ]
  },
  {
   "cell_type": "code",
   "execution_count": null,
   "metadata": {
    "colab": {
     "base_uri": "https://localhost:8080/",
     "height": 140
    },
    "executionInfo": {
     "elapsed": 1566,
     "status": "ok",
     "timestamp": 1646922781541,
     "user": {
      "displayName": "Niklas Hegemann",
      "photoUrl": "https://lh3.googleusercontent.com/a-/AOh14GhzrftyCXlAQpkGZbX84q5fjIMGfUN6dF0g7GClVg=s64",
      "userId": "13335160519372393230"
     },
     "user_tz": -60
    },
    "id": "tnceVURft-W5",
    "outputId": "5dfb8dcd-1c43-4599-ed1c-0c94af13d28d"
   },
   "outputs": [
    {
     "data": {
      "image/png": "[encoded data removed]",
      "text/plain": [
       "<Figure size 297.479x144.48 with 1 Axes>"
      ]
     },
     "execution_count": 7,
     "metadata": {},
     "output_type": "execute_result"
    }
   ],
   "source": [
    "theta = Parameter(r\"$\\theta$\")\n",
    "\n",
    "qc = QuantumCircuit(1)\n",
    "qc.rx(theta, 0)\n",
    "qc.measure_all()\n",
    "qc.draw(\"mpl\")"
   ]
  },
  {
   "cell_type": "markdown",
   "metadata": {
    "id": "dBDzX75c0bqC"
   },
   "source": [
    "We can now look at the performance of the code with some randomly initialized weight in predicting the appropiate label."
   ]
  },
  {
   "cell_type": "code",
   "execution_count": null,
   "metadata": {
    "id": "-bs7d-A7yyZh"
   },
   "outputs": [],
   "source": [
    "def get_accuracy(\n",
    "    qc: QuantumCircuit, weight: float, xvals: List[float], yvals: List[int]\n",
    ") -> Union[float, List[int]]:\n",
    "    \"\"\"\n",
    "    Calculates the accuracy of the circuit for a given set of data.\n",
    "\n",
    "    Args:\n",
    "      qc: the quantum circuit\n",
    "      weight: the training parameter\n",
    "      xvals: the input values\n",
    "      yvals: the labels\n",
    "    Returns:\n",
    "      The accuracy and the predicted labels.\n",
    "    \"\"\"\n",
    "    pred_labels = np.zeros(len(xvals))\n",
    "    accurate_prediction = 0\n",
    "    for ii, xinput, yinput in zip(range(len(xvals)), xvals, yvals.astype(int)):\n",
    "        # set the circuit parameter\n",
    "        circuit = qc.assign_parameters(\n",
    "            {theta: weight * xinput},\n",
    "            inplace=False,\n",
    "        )\n",
    "        # run the job and obtain the counts\n",
    "        job = sim.run(circuit, shots=1000)\n",
    "        counts1 = job.result().get_counts()\n",
    "\n",
    "        # obtain the predicted label on average\n",
    "        if \"0\" in counts1:\n",
    "            pred_label = 1 * (counts1[\"0\"] < 500)\n",
    "        else:\n",
    "            pred_label = 1\n",
    "        pred_labels[ii] = pred_label\n",
    "        if yinput == pred_label:\n",
    "            accurate_prediction += 1\n",
    "    return accurate_prediction / len(yvals), pred_labels"
   ]
  },
  {
   "cell_type": "code",
   "execution_count": null,
   "metadata": {
    "colab": {
     "base_uri": "https://localhost:8080/",
     "height": 300
    },
    "executionInfo": {
     "elapsed": 1070,
     "status": "ok",
     "timestamp": 1646922782600,
     "user": {
      "displayName": "Niklas Hegemann",
      "photoUrl": "https://lh3.googleusercontent.com/a-/AOh14GhzrftyCXlAQpkGZbX84q5fjIMGfUN6dF0g7GClVg=s64",
      "userId": "13335160519372393230"
     },
     "user_tz": -60
    },
    "id": "7ebklqJn0HwQ",
    "outputId": "e191a113-98ff-4a39-ce61-22256b4488da"
   },
   "outputs": [
    {
     "name": "stdout",
     "output_type": "stream",
     "text": [
      "The circuit has an accuracy of 0.9\n"
     ]
    },
    {
     "data": {
      "text/plain": [
       "<matplotlib.legend.Legend at 0x7ff478a0ef70>"
      ]
     },
     "execution_count": 9,
     "metadata": {},
     "output_type": "execute_result"
    },
    {
     "data": {
      "image/png": "[encoded data removed]",
      "text/plain": [
       "<Figure size 432x288 with 1 Axes>"
      ]
     },
     "metadata": {
      "needs_background": "light"
     },
     "output_type": "display_data"
    }
   ],
   "source": [
    "weight = 0.8\n",
    "\n",
    "accuracy, y_pred = get_accuracy(qc, weight=weight, xvals=x_train, yvals=y_train)\n",
    "\n",
    "false_label = abs(y_pred - y_train) > 0\n",
    "\n",
    "x_false = x_train[false_label]\n",
    "y_false = y_pred[false_label]\n",
    "\n",
    "print(f\"The circuit has an accuracy of {accuracy}\")\n",
    "f, ax = plt.subplots()\n",
    "ax.plot(x_train, y_pred, \"o\", label=\"predicted label\")\n",
    "ax.plot(x_false, y_false, \"ro\", label=\"false label\")\n",
    "ax.legend()"
   ]
  },
  {
   "cell_type": "markdown",
   "metadata": {
    "id": "FUpRQY2m3zd8"
   },
   "source": [
    "## Training\n",
    "\n",
    "To improve the performance of the circuit, we have to train it. This basically involves the minimization of some loss function as a function of the circuit parameters $\\mathbf{w}$. In this example we can simply calculate the accuracy of the circuit as a function of the weight and obtain its minimimum."
   ]
  },
  {
   "cell_type": "code",
   "execution_count": null,
   "metadata": {
    "colab": {
     "base_uri": "https://localhost:8080/"
    },
    "executionInfo": {
     "elapsed": 19742,
     "status": "ok",
     "timestamp": 1646922802334,
     "user": {
      "displayName": "Niklas Hegemann",
      "photoUrl": "https://lh3.googleusercontent.com/a-/AOh14GhzrftyCXlAQpkGZbX84q5fjIMGfUN6dF0g7GClVg=s64",
      "userId": "13335160519372393230"
     },
     "user_tz": -60
    },
    "id": "j7w-5-n-4bWp",
    "outputId": "df971b8b-055f-4923-f2d4-41d840580cad"
   },
   "outputs": [
    {
     "name": "stderr",
     "output_type": "stream",
     "text": [
      "100%|███████████████████████████████████████████| 50/50 [00:06<00:00,  8.14it/s]\n"
     ]
    }
   ],
   "source": [
    "weights = np.linspace(0, 2, 50)\n",
    "accuracies = np.zeros(50)\n",
    "\n",
    "for ii, weight_val in enumerate(tqdm(weights)):\n",
    "    accuracy, y_pred = get_accuracy(qc, weight=weight_val, xvals=x_train, yvals=y_train)\n",
    "    accuracies[ii] = accuracy"
   ]
  },
  {
   "cell_type": "code",
   "execution_count": null,
   "metadata": {
    "colab": {
     "base_uri": "https://localhost:8080/",
     "height": 296
    },
    "executionInfo": {
     "elapsed": 321,
     "status": "ok",
     "timestamp": 1646922802645,
     "user": {
      "displayName": "Niklas Hegemann",
      "photoUrl": "https://lh3.googleusercontent.com/a-/AOh14GhzrftyCXlAQpkGZbX84q5fjIMGfUN6dF0g7GClVg=s64",
      "userId": "13335160519372393230"
     },
     "user_tz": -60
    },
    "id": "NBPrIS_X5wCi",
    "outputId": "75403c5e-9ca2-41c1-f383-cb641dfea57f"
   },
   "outputs": [
    {
     "data": {
      "text/plain": [
       "<matplotlib.legend.Legend at 0x7ff4aca197f0>"
      ]
     },
     "execution_count": 11,
     "metadata": {},
     "output_type": "execute_result"
    },
    {
     "data": {
      "image/png": "[encoded data removed]",
      "text/plain": [
       "<Figure size 432x288 with 1 Axes>"
      ]
     },
     "metadata": {
      "needs_background": "light"
     },
     "output_type": "display_data"
    }
   ],
   "source": [
    "opt_weight = weights[accuracies.argmax()]\n",
    "\n",
    "f, ax = plt.subplots()\n",
    "ax.plot(weights, accuracies)\n",
    "ax.axvline(opt_weight, color=\"C1\", label=\"optimal weight\")\n",
    "ax.set_ylabel(\"accuracy\")\n",
    "ax.set_xlabel(\"weights\")\n",
    "ax.legend()"
   ]
  },
  {
   "cell_type": "markdown",
   "metadata": {
    "id": "9gf8m_uM6i8E"
   },
   "source": [
    "We can now test the accuracy on the optimal value of the weights again to obtain."
   ]
  },
  {
   "cell_type": "code",
   "execution_count": null,
   "metadata": {
    "colab": {
     "base_uri": "https://localhost:8080/",
     "height": 282
    },
    "executionInfo": {
     "elapsed": 498,
     "status": "ok",
     "timestamp": 1646922803139,
     "user": {
      "displayName": "Niklas Hegemann",
      "photoUrl": "https://lh3.googleusercontent.com/a-/AOh14GhzrftyCXlAQpkGZbX84q5fjIMGfUN6dF0g7GClVg=s64",
      "userId": "13335160519372393230"
     },
     "user_tz": -60
    },
    "id": "8ZzCgUBe1XlI",
    "outputId": "c058bd33-34f4-409c-a0ac-51b8fb3fe37e"
   },
   "outputs": [
    {
     "name": "stdout",
     "output_type": "stream",
     "text": [
      "The trained circuit has an accuracy of 1.0\n"
     ]
    },
    {
     "data": {
      "image/png": "[encoded data removed]",
      "text/plain": [
       "<Figure size 432x288 with 1 Axes>"
      ]
     },
     "metadata": {
      "needs_background": "light"
     },
     "output_type": "display_data"
    }
   ],
   "source": [
    "accuracy, y_pred = get_accuracy(qc, weight=opt_weight, xvals=x_train, yvals=y_train)\n",
    "\n",
    "false_label = abs(y_pred - y_train) > 0\n",
    "\n",
    "x_false = x_train[false_label]\n",
    "y_false = y_pred[false_label]\n",
    "\n",
    "f, ax = plt.subplots()\n",
    "ax.plot(x_train, y_pred, \"o\", label=\"predicted label\")\n",
    "ax.plot(x_false, y_false, \"ro\", label=\"false label\")\n",
    "ax.legend()\n",
    "\n",
    "\n",
    "print(f\"The trained circuit has an accuracy of {accuracy:.2}\")"
   ]
  },
  {
   "cell_type": "markdown",
   "metadata": {
    "id": "gDU-Cv4P6wn5"
   },
   "source": [
    "## Test\n",
    "\n",
    "Having finished the training, we can test the circuit now on data points that it has never seen."
   ]
  },
  {
   "cell_type": "code",
   "execution_count": null,
   "metadata": {
    "colab": {
     "base_uri": "https://localhost:8080/",
     "height": 300
    },
    "executionInfo": {
     "elapsed": 526,
     "status": "ok",
     "timestamp": 1646922803654,
     "user": {
      "displayName": "Niklas Hegemann",
      "photoUrl": "https://lh3.googleusercontent.com/a-/AOh14GhzrftyCXlAQpkGZbX84q5fjIMGfUN6dF0g7GClVg=s64",
      "userId": "13335160519372393230"
     },
     "user_tz": -60
    },
    "id": "NAuM4pYscZUQ",
    "outputId": "6734a695-f79a-4b68-9705-841ab549c0ea"
   },
   "outputs": [
    {
     "name": "stdout",
     "output_type": "stream",
     "text": [
      "The circuit has a test accuracy of 1.0\n"
     ]
    },
    {
     "data": {
      "text/plain": [
       "<matplotlib.legend.Legend at 0x7ff4acb05cd0>"
      ]
     },
     "execution_count": 13,
     "metadata": {},
     "output_type": "execute_result"
    },
    {
     "data": {
      "image/png": "[encoded data removed]",
      "text/plain": [
       "<Figure size 432x288 with 1 Axes>"
      ]
     },
     "metadata": {
      "needs_background": "light"
     },
     "output_type": "display_data"
    }
   ],
   "source": [
    "test_accuracy, y_test_pred = get_accuracy(\n",
    "    qc, weight=opt_weight, xvals=x_test, yvals=y_test\n",
    ")\n",
    "\n",
    "false_label = abs(y_test_pred - y_test) > 0\n",
    "\n",
    "x_false = x_test[false_label]\n",
    "y_false = y_test_pred[false_label]\n",
    "\n",
    "print(f\"The circuit has a test accuracy of {test_accuracy:.2}\")\n",
    "f, ax = plt.subplots()\n",
    "ax.plot(x_test, y_test_pred, \"o\", label=\"predicted label\")\n",
    "ax.plot(x_false, y_false, \"ro\", label=\"false label\")\n",
    "ax.legend()"
   ]
  },
  {
   "cell_type": "markdown",
   "metadata": {
    "id": "YjSZ3vEC7v5b"
   },
   "source": [
    "## Outlook for supervised learning\n",
    "\n",
    "In this tutorial, we studied some basic concepts like training and classification for an extremely simple case. \n",
    "\n",
    "- In the [next tutorial](qml102), we will see how deeper circuits allow us to learn more complex dependencies between input and output.\n",
    "- The extension towards higher dimensional inputs allows us to look into more complext tasks like image processing.\n"
   ]
  },
  {
   "cell_type": "code",
   "execution_count": null,
   "metadata": {},
   "outputs": [],
   "source": []
  }
 ],
 "metadata": {
  "colab": {
   "provenance": []
  },
  "kernelspec": {
   "display_name": "Python 3 (ipykernel)",
   "language": "python",
   "name": "python3"
  },
  "language_info": {
   "codemirror_mode": {
    "name": "ipython",
    "version": 3
   },
   "file_extension": ".py",
   "mimetype": "text/x-python",
   "name": "python",
   "nbconvert_exporter": "python",
   "pygments_lexer": "ipython3",
   "version": "3.10.8"
  }
 },
 "nbformat": 4,
 "nbformat_minor": 4
}
