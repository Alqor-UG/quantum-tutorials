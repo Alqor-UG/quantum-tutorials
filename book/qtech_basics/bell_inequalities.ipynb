{
 "cells": [
  {
   "cell_type": "markdown",
   "metadata": {
    "id": "heC1f1ssT6ND"
   },
   "source": [
    "# Tutorial on the nobel prize 2022 - How to win Bell's game\n",
    "\n",
    "The nobel prize of physics for the year 2022 was awarded to three physicists for the test of Bell inequalities. As this work is foundational to any kind of modern quantum technology, we decided to provide you here with a description of the experiments in terms of a game. While the game is slightly odd it shows you nicely how quantum mechanics allow you to break the casino and what the experiments demonstrated specifically. \n",
    "\n",
    "To make the discussion very direct and hands-on we will implement it in some simple `qiskit` circuits such that you can test them directly on your own. "
   ]
  },
  {
   "cell_type": "code",
   "execution_count": 1,
   "metadata": {
    "executionInfo": {
     "elapsed": 515,
     "status": "ok",
     "timestamp": 1665986534221,
     "user": {
      "displayName": "Fred Jendrzejewski",
      "userId": "18233741657522664753"
     },
     "user_tz": -120
    },
    "id": "5jNesSWtiFLo"
   },
   "outputs": [],
   "source": [
    "import random\n",
    "\n",
    "from qiskit.circuit import QuantumCircuit\n",
    "from qiskit import Aer\n",
    "\n",
    "import numpy as np\n",
    "import matplotlib.pyplot as plt\n",
    "from tqdm import trange"
   ]
  },
  {
   "cell_type": "markdown",
   "metadata": {
    "id": "9ClCu-OXvCRD"
   },
   "source": [
    "## The casino version of Bell's (CHSH) game\n",
    "\n",
    "A casino invented a new and exciting game, where Alice and Bob can try to win some nice objects at a huge discount  together. To participate in the game they have to pay 300 € as a team, but they have a good chance to come out of the game with objects that are worth 400€. Here are the rules of the game:\n",
    "\n",
    "- Alice and Bob have to go into isolated cabins, where they get to see one out of two nice Apple watches (one being black and one being white). Quite importantly, they do not know which car was given to the other contestant.\n",
    "- Now Alice and Bob have to tell the Referee what they would like to do. They have two options. They can either say that they would like to \"sell\" the watch or \"keep\" it. \n",
    "\n",
    "After they told the referee, their answers are compared. They can win in the following fashion:\n",
    "\n",
    "- If Alice and Bob both saw a white watch, they win of one wanted to \"sell\" and the other one wanted to \"keep\" the car.\n",
    "- In any other case, they win if both answered the same way (\"keep\" or \"sell\")\n",
    "\n",
    "Let us simply translate these rules into python code.\n",
    "\n",
    "\n"
   ]
  },
  {
   "cell_type": "code",
   "execution_count": 2,
   "metadata": {
    "executionInfo": {
     "elapsed": 4,
     "status": "aborted",
     "timestamp": 1665986507211,
     "user": {
      "displayName": "Fred Jendrzejewski",
      "userId": "18233741657522664753"
     },
     "user_tz": -120
    },
    "id": "YpJAFitKlNtr"
   },
   "outputs": [],
   "source": [
    "def bell_game(color_a: str, color_b: str, choice_a: str, choice_b: str) -> str:\n",
    "    \"\"\"\n",
    "    The bell casino game translated into python\n",
    "\n",
    "    Args:\n",
    "      color_a: the color that Alice sees (either `black` or `white`)\n",
    "      color_b: the color that Alice sees (either `black` or `white`)\n",
    "      choice_a: the choice the Alice makes (`keep` or `sell`)\n",
    "      choice_b: the choice the Bob makes (`keep` or `sell`)\n",
    "\n",
    "    Returns:\n",
    "      A sring that says if Alice and Bob \"won\" or \"lost\"\n",
    "    \"\"\"\n",
    "    # the one case where Alice and Bob have to have different results\n",
    "    if color_a == \"white\" and color_b == \"white\":\n",
    "        if choice_a == \"keep\" and choice_b == \"sell\":\n",
    "            return \"won\"\n",
    "        if choice_a == \"sell\" and choice_b == \"keep\":\n",
    "            return \"won\"\n",
    "    else:\n",
    "        if choice_a == choice_b:\n",
    "            return \"won\"\n",
    "    return \"lost\""
   ]
  },
  {
   "cell_type": "markdown",
   "metadata": {
    "id": "YxE_RWkIlSPu"
   },
   "source": [
    "## The best classical strategy\n",
    "It turns out that the best way to win for Alice and Bob is to cooperate and decide before if they would like to \"keep\" or \"sell\" the watch. Then they will get their wish in 75% of the cases and only lose if both see a white watch. We can even simulate this casino session in simple python code"
   ]
  },
  {
   "cell_type": "code",
   "execution_count": 3,
   "metadata": {
    "executionInfo": {
     "elapsed": 4,
     "status": "aborted",
     "timestamp": 1665986507211,
     "user": {
      "displayName": "Fred Jendrzejewski",
      "userId": "18233741657522664753"
     },
     "user_tz": -120
    },
    "id": "VFFYq1n6E5jR"
   },
   "outputs": [
    {
     "name": "stdout",
     "output_type": "stream",
     "text": [
      "Alice and Bob won 7489.0 games out of 10000. Hence a win rate of 74.89 %\n"
     ]
    }
   ],
   "source": [
    "n_games = 10000\n",
    "wins = np.zeros(n_games)\n",
    "\n",
    "# Alice and Bob decided to cooperate and always say \"sell\"\n",
    "choice_alice = \"sell\"\n",
    "choice_bob = \"sell\"\n",
    "\n",
    "for ii in range(n_games):\n",
    "\n",
    "    # get the colors\n",
    "    color_alice = random.choice([\"black\", \"white\"])\n",
    "    color_bob = random.choice([\"black\", \"white\"])\n",
    "\n",
    "    result = bell_game(color_alice, color_bob, choice_alice, choice_bob)\n",
    "    if result == \"won\":\n",
    "        wins[ii] = 1\n",
    "\n",
    "print(\n",
    "    \"Alice and Bob won {} games out of {}. Hence a win rate of {:.2f} %\".format(\n",
    "        wins.sum(), n_games, wins.sum() / n_games * 100\n",
    "    )\n",
    ")"
   ]
  },
  {
   "cell_type": "markdown",
   "metadata": {
    "id": "qcXfBVFN5Sh3"
   },
   "source": [
    "We can see this makes the game fair as Bob and Alice have an expectation value of exactly 300€, so the casino and the players will have just an enjoyable time if we look at the wins and losses over the games. "
   ]
  },
  {
   "cell_type": "code",
   "execution_count": 4,
   "metadata": {
    "executionInfo": {
     "elapsed": 4,
     "status": "aborted",
     "timestamp": 1665986507211,
     "user": {
      "displayName": "Fred Jendrzejewski",
      "userId": "18233741657522664753"
     },
     "user_tz": -120
    },
    "id": "r42yMFZ55ZvM"
   },
   "outputs": [
    {
     "data": {
      "text/plain": [
       "<matplotlib.lines.Line2D at 0x1111181f0>"
      ]
     },
     "execution_count": 4,
     "metadata": {},
     "output_type": "execute_result"
    },
    {
     "data": {
      "image/png": "[encoded data removed]",
      "text/plain": [
       "<Figure size 640x480 with 1 Axes>"
      ]
     },
     "metadata": {},
     "output_type": "display_data"
    }
   ],
   "source": [
    "profit = wins * 400 - np.ones(n_games) * 300\n",
    "accu_profit = profit.cumsum()\n",
    "\n",
    "f, ax = plt.subplots()\n",
    "ax.plot(accu_profit)\n",
    "ax.set_ylabel(\"profit in €\")\n",
    "ax.set_xlabel(\"number of games\")\n",
    "ax.axhline(0, color=\"k\")"
   ]
  },
  {
   "cell_type": "markdown",
   "metadata": {
    "id": "b_HwJrnc4nKc"
   },
   "source": [
    "## Breaking the casino with quantum technologies\n",
    "\n",
    "Quite interestingly Alice and Bob could win more often if they have access to quantum technologies. So we just assume that Alice and Bob are really good techies and had access to a quantum computer, which allows them to entangle two qubits. Let us first plot up the kind of instructions that Alice and Bob have to give the quantum computer to obtain the entangled pair."
   ]
  },
  {
   "cell_type": "code",
   "execution_count": 5,
   "metadata": {
    "executionInfo": {
     "elapsed": 4,
     "status": "aborted",
     "timestamp": 1665986507211,
     "user": {
      "displayName": "Fred Jendrzejewski",
      "userId": "18233741657522664753"
     },
     "user_tz": -120
    },
    "id": "Ts74IetYxUHh"
   },
   "outputs": [
    {
     "data": {
      "image/png": "[encoded data removed]",
      "text/plain": [
       "<Figure size 287.294x200.667 with 1 Axes>"
      ]
     },
     "execution_count": 5,
     "metadata": {},
     "output_type": "execute_result"
    }
   ],
   "source": [
    "sim = Aer.get_backend(\"aer_simulator\")\n",
    "\n",
    "qc = QuantumCircuit(2)\n",
    "qc.h(0)\n",
    "qc.cx(0, 1)\n",
    "qc.draw(\"mpl\")"
   ]
  },
  {
   "cell_type": "markdown",
   "metadata": {
    "id": "1IVj_BA5xZRW"
   },
   "source": [
    "As a result of the circuit they have created a pair of entangled qubits. Imagine now that Alice and Bob can each one take one of the qubits into their cabin to play the quantum game. Given that Alice and Bob have to carry the qubit they have to have it in a box with two buttons. \n",
    "\n",
    "- The first button says `measurement` such that they can read out the recommendation of their qubit. \n",
    "- The second button allows them change their personal qubit a bit once they saw if they have a white or black watch in front of them.\n",
    "- The key thing is that the box is not sending out any signal to the other player. So they are following perfectly the rules of the casino.\n",
    "\n",
    "## A naive quantum strategy\n",
    "\n",
    "A naive way of using the qubit is to simply push the `measurement` and nothing else.If the qubit results in a zero, they will tell the casino that they would like to \"keep\" the watch. If it is qubit result is a one, they decide to \"sell\" the watch. \n",
    "\n",
    "We can just implement this once as a `qiskit` circuit and look at the result."
   ]
  },
  {
   "cell_type": "code",
   "execution_count": 6,
   "metadata": {
    "executionInfo": {
     "elapsed": 4,
     "status": "aborted",
     "timestamp": 1665986507211,
     "user": {
      "displayName": "Fred Jendrzejewski",
      "userId": "18233741657522664753"
     },
     "user_tz": -120
    },
    "id": "6hHVbQFnyybH"
   },
   "outputs": [
    {
     "name": "stderr",
     "output_type": "stream",
     "text": [
      "100%|███████████████████████████████████| 10000/10000 [00:03<00:00, 2953.99it/s]"
     ]
    },
    {
     "name": "stdout",
     "output_type": "stream",
     "text": [
      "\n",
      "Alice and Bob won 7500.0 games out of 10000. Hence a win rate of 75.00 %\n"
     ]
    },
    {
     "name": "stderr",
     "output_type": "stream",
     "text": [
      "\n"
     ]
    }
   ],
   "source": [
    "n_games = 10000\n",
    "\n",
    "naive_q_wins = np.zeros(n_games)\n",
    "for ii in trange(n_games):\n",
    "\n",
    "    color_alice = random.choice([\"black\", \"white\"])\n",
    "    color_bob = random.choice([\"black\", \"white\"])\n",
    "\n",
    "    # time to prepare the Bell pair\n",
    "    qc = QuantumCircuit(2)\n",
    "    qc.h(0)\n",
    "    qc.cx(0, 1)\n",
    "\n",
    "    # both measure\n",
    "    qc.measure_all()\n",
    "\n",
    "    # now run the circuit\n",
    "    job = sim.run(qc, shots=1)\n",
    "    outcome = job.result().get_counts()\n",
    "\n",
    "    # a horribly intransparent way to get the value of the outcome\n",
    "    keys = [*outcome][0]\n",
    "    choice_alice = \"sell\" if keys[0] == \"0\" else \"keep\"\n",
    "    choice_bob = \"sell\" if keys[1] == \"0\" else \"keep\"\n",
    "\n",
    "    result = bell_game(color_alice, color_bob, choice_alice, choice_bob)\n",
    "    if result == \"won\":\n",
    "        naive_q_wins[ii] = 1\n",
    "\n",
    "print(\"\")\n",
    "print(\n",
    "    \"Alice and Bob won {} games out of {}. Hence a win rate of {:.2f} %\".format(\n",
    "        naive_q_wins.sum(), n_games, naive_q_wins.sum() / n_games * 100\n",
    "    )\n",
    ")"
   ]
  },
  {
   "cell_type": "markdown",
   "metadata": {
    "id": "FzCXYzBpz15A"
   },
   "source": [
    "As you can see above the players right now will always make the same choice. This is just a very geeky variation of the classical strategy that we implemented above. \n",
    "\n",
    "\n"
   ]
  },
  {
   "cell_type": "markdown",
   "metadata": {
    "id": "h7o1lnVk6NJo"
   },
   "source": [
    "## The winning quantum strategy\n",
    "\n",
    "But being really good in quantum tech, Alice and Bob now also have the second button  at hand to have a more sophisticated strategy, which allows them to take into account the color of the watches that they see in front of them. \n",
    "\n",
    "So what is the physics Bob and Alice developped the following strategy:\n",
    "\n",
    "- If Alice sees a *black* watch she simply measures her qubit.\n",
    "- If Alice sees a *white* watch she changes her personal qubit a bit by pushing the button on her qubit bag. In physics terms, it applies a hardamard gate on her qubit. Then she measures her qubit.\n",
    "\n",
    "\n",
    "Bob does the following:\n",
    "\n",
    "- If he sees a *white* watch he switches the button to `white`. This performs $R_y$ a rotation of qubit by $\\frac{\\pi}{8}$. \n",
    "- If he sees a *black* watch he switches the button to `black`. This performs $R_y$ a rotation of qubit by $-\\frac{\\pi}{8}$. "
   ]
  },
  {
   "cell_type": "code",
   "execution_count": 7,
   "metadata": {
    "executionInfo": {
     "elapsed": 5,
     "status": "aborted",
     "timestamp": 1665986507212,
     "user": {
      "displayName": "Fred Jendrzejewski",
      "userId": "18233741657522664753"
     },
     "user_tz": -120
    },
    "id": "jUtcH9zeeYcs"
   },
   "outputs": [
    {
     "name": "stderr",
     "output_type": "stream",
     "text": [
      "100%|███████████████████████████████████| 10000/10000 [00:03<00:00, 2636.13it/s]"
     ]
    },
    {
     "name": "stdout",
     "output_type": "stream",
     "text": [
      "\n",
      "Alice and Bob won 8318.0 games out of 10000. Hence a win rate of 83.18 %\n"
     ]
    },
    {
     "name": "stderr",
     "output_type": "stream",
     "text": [
      "\n"
     ]
    }
   ],
   "source": [
    "n_games = 10000\n",
    "\n",
    "fancy_q_wins = np.zeros(n_games)\n",
    "for ii in trange(n_games):\n",
    "\n",
    "    # get the numbers that tell us if Alice and Bob obtained\n",
    "    # a white or a black watch\n",
    "    color_alice = random.choice([\"black\", \"white\"])\n",
    "    color_bob = random.choice([\"black\", \"white\"])\n",
    "\n",
    "    # time to prepare the Bell pair\n",
    "    qc = QuantumCircuit(2)\n",
    "    qc.h(0)\n",
    "    qc.cx(0, 1)\n",
    "\n",
    "    # Alice acts her qubit\n",
    "    if color_alice == \"white\":\n",
    "        qc.h(0)\n",
    "\n",
    "    # Bob acts on his qubit\n",
    "    if color_bob == \"white\":\n",
    "        qc.ry(np.pi / 8, 1)\n",
    "    else:\n",
    "        qc.ry(-np.pi / 8, 1)\n",
    "\n",
    "    # both measure\n",
    "    qc.measure_all()\n",
    "\n",
    "    # now run the circuit\n",
    "    job = sim.run(qc, shots=1)\n",
    "    outcome = job.result().get_counts()\n",
    "    result = \"lost\"\n",
    "\n",
    "    # a horribly intransparent way to get the value of the outcome\n",
    "    keys = [*outcome][0]\n",
    "    choice_alice = \"sell\" if keys[0] == \"0\" else \"keep\"\n",
    "    choice_bob = \"sell\" if keys[1] == \"0\" else \"keep\"\n",
    "\n",
    "    result = bell_game(color_alice, color_bob, choice_alice, choice_bob)\n",
    "    if result == \"won\":\n",
    "        fancy_q_wins[ii] = 1\n",
    "\n",
    "print(\"\")\n",
    "print(\n",
    "    \"Alice and Bob won {} games out of {}. Hence a win rate of {:.2f} %\".format(\n",
    "        fancy_q_wins.sum(), n_games, fancy_q_wins.sum() / n_games * 100\n",
    "    )\n",
    ")"
   ]
  },
  {
   "cell_type": "code",
   "execution_count": 8,
   "metadata": {
    "executionInfo": {
     "elapsed": 4,
     "status": "aborted",
     "timestamp": 1665986507212,
     "user": {
      "displayName": "Fred Jendrzejewski",
      "userId": "18233741657522664753"
     },
     "user_tz": -120
    },
    "id": "SMhgwuiTOFYa"
   },
   "outputs": [
    {
     "data": {
      "text/plain": [
       "(0.0, 10000.0)"
      ]
     },
     "execution_count": 8,
     "metadata": {},
     "output_type": "execute_result"
    },
    {
     "data": {
      "image/png": "[encoded data removed]",
      "text/plain": [
       "<Figure size 640x480 with 1 Axes>"
      ]
     },
     "metadata": {},
     "output_type": "display_data"
    }
   ],
   "source": [
    "fancy_profit = fancy_q_wins * 400 - np.ones(n_games) * 300\n",
    "fancy_accu_profit = fancy_profit.cumsum()\n",
    "\n",
    "f, ax = plt.subplots()\n",
    "ax.plot(accu_profit, label=\"classical tech\", lw=3, alpha=0.5)\n",
    "ax.plot(fancy_accu_profit, label=\"quantum tech\", lw=3)\n",
    "ax.axhline(0, color=\"k\")\n",
    "ax.set_ylabel(\"profit in €\")\n",
    "ax.set_xlabel(\"number of games\")\n",
    "ax.legend()\n",
    "ax.set_xlim(0, n_games)"
   ]
  },
  {
   "cell_type": "markdown",
   "metadata": {
    "id": "lPn1-ZsQO7_c"
   },
   "source": [
    "This graph nicely summarizes that Alice and Bob have found a clear **quantum advantage** in the game. They could break the casino if the casino let's them play long enough. It is fairly crucial to underline that Alice and Bob did not cheat in any way. They were simply able to do **more** with quantum technologies than it would be possible with any classical approach."
   ]
  },
  {
   "cell_type": "markdown",
   "metadata": {
    "id": "3SrRvnsVPb8Q"
   },
   "source": [
    "## The link to the Nobel prize\n",
    "\n",
    "This quantum advantage was formulated in a clean fashion in Bell's inequalities in the 1970s. The three Nobel prize winners (John Clauser, Alain Aspect, Anton Zeilinger) tested experimentally that it is indeed possible for Alice and Bob to break the casino without any cheating. \n",
    "\n",
    "Of course, the experimentalists did not take qubits into a casino. The experiments performed the game in highly controlled lab experiments. The qubits were implemented through flying photons and the decisions on the colors of the watches were high quality random number generators. Even as the experiments became more and more sophisticated they continued to show that the entangled qubits allowed for quantum advantage. And this work was so foundational to modern quantum technologies that it obtained this years [Nobel prize](https://www.nobelprize.org/prizes/physics/2022/press-release/). Modern quantum computing systems and sophisticated algorithms essentially attempts to reproduce this clear advantage in increasingly complex situations like [unsupervised machine learning](https://alqor.io/tutorials/introduction-to-generative-modelling-with-quantum-hardware).\n"
   ]
  },
  {
   "cell_type": "code",
   "execution_count": null,
   "metadata": {},
   "outputs": [],
   "source": []
  }
 ],
 "metadata": {
  "colab": {
   "collapsed_sections": [],
   "provenance": []
  },
  "kernelspec": {
   "display_name": "Python 3 (ipykernel)",
   "language": "python",
   "name": "python3"
  },
  "language_info": {
   "codemirror_mode": {
    "name": "ipython",
    "version": 3
   },
   "file_extension": ".py",
   "mimetype": "text/x-python",
   "name": "python",
   "nbconvert_exporter": "python",
   "pygments_lexer": "ipython3",
   "version": "3.10.8"
  }
 },
 "nbformat": 4,
 "nbformat_minor": 4
}
