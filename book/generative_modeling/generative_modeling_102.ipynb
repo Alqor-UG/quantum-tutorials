{
 "cells": [
  {
   "cell_type": "markdown",
   "id": "7674fc07-9b54-4173-a6f9-bdf2ea63e099",
   "metadata": {
    "id": "7674fc07-9b54-4173-a6f9-bdf2ea63e099"
   },
   "source": [
    "# Tutorial 2 – Training generative models"
   ]
  },
  {
   "cell_type": "markdown",
   "id": "RjcTin3-efuK",
   "metadata": {
    "id": "RjcTin3-efuK"
   },
   "source": [
    "Welcome back to our tutorial on generative modeling! [Last time](gmqh) we learned about some of the components in a generative modeling tasks, i.e., the **the dataset** and **the model**. However, we were still missing **the learning** part. This is what we will do today.\n",
    "\n",
    "## A recap\n",
    "\n",
    "But first, lets recap:"
   ]
  },
  {
   "cell_type": "code",
   "execution_count": 1,
   "id": "uXcVQ3IpvnbM",
   "metadata": {
    "id": "uXcVQ3IpvnbM"
   },
   "outputs": [],
   "source": [
    "import numpy as np"
   ]
  },
  {
   "cell_type": "code",
   "execution_count": 2,
   "id": "a6361e26-b366-450b-915c-4d1b37540402",
   "metadata": {
    "colab": {
     "base_uri": "https://localhost:8080/"
    },
    "executionInfo": {
     "elapsed": 3,
     "status": "ok",
     "timestamp": 1665000182083,
     "user": {
      "displayName": "Manuel Rudolph",
      "userId": "10788476904675569866"
     },
     "user_tz": -120
    },
    "id": "a6361e26-b366-450b-915c-4d1b37540402",
    "outputId": "3f4f2c49-737f-489c-b5d2-b563209f89ee"
   },
   "outputs": [
    {
     "name": "stdout",
     "output_type": "stream",
     "text": [
      "(100,)\n"
     ]
    }
   ],
   "source": [
    "# fmt: off\n",
    "data_samples = np.array(\n",
    "      [-3.61078109e-01, -1.29291442e-01, -9.82588388e-02, -2.58432923e-01,\n",
    "       -4.97863965e-01, -4.78795061e-01, -5.10663163e-01,  4.36223299e-02,\n",
    "       -1.01858250e-02, -5.57657880e-01, -5.61011437e-01, -2.63656495e-01,\n",
    "       -5.00136079e-01, -6.30125377e-01, -1.12999295e-01, -3.22838879e-01,\n",
    "       -7.75881873e-01,  1.68190537e-01, -2.69496934e-01, -3.04754810e-01,\n",
    "       -2.62099948e-01,  1.36922064e-01,  3.93391710e-01, -8.12181958e-01,\n",
    "       -3.15903057e-01,  1.10533721e-01, -2.50864695e-01,  6.56386891e-02,\n",
    "       -2.37497275e-01, -6.04398679e-01, -5.32560555e-01, -1.62669444e-01,\n",
    "       -4.45701188e-01, -1.67952827e-01, -5.07722157e-01, -8.51854037e-02,\n",
    "       -1.35821066e+00, -3.39440908e-01, -6.41656480e-01, -9.51452941e-01,\n",
    "       -8.23083293e-01, -5.69844420e-01, -1.04400576e-01, -3.71350420e-01,\n",
    "       -8.65458568e-01, -2.64222047e-01,  8.06578890e-04, -5.68337779e-01,\n",
    "       -6.25077227e-01, -1.00012510e+00,  7.59518951e-01,  2.46827712e-01,\n",
    "        5.70561107e-01,  6.52003162e-01,  6.73384341e-01,  8.04894781e-01,\n",
    "        6.34541410e-01,  3.63315273e-01,  4.36242632e-01,  3.31473086e-01,\n",
    "        5.18170902e-01,  6.00943305e-01,  7.09919182e-01,  5.42156544e-01,\n",
    "        5.96010036e-01,  6.32350524e-01,  5.11792431e-01,  7.26352234e-01,\n",
    "        5.24889933e-01,  6.33500447e-01,  7.76251971e-01,  7.53647980e-01,\n",
    "        3.36153030e-01,  8.15441364e-01,  5.57272462e-01,  1.44661947e-01,\n",
    "        6.16792976e-01,  6.91086153e-01,  6.87286823e-01,  3.98429153e-01,\n",
    "        1.07054311e+00,  6.24690432e-01,  6.84406406e-01,  7.26905590e-01,\n",
    "        3.09651946e-01,  7.78085930e-01,  3.60425786e-01,  6.33481589e-01,\n",
    "        3.17310855e-01,  6.56363955e-01,  6.10979533e-01,  8.08938177e-01,\n",
    "        7.71336408e-01,  6.11452930e-01,  5.03192825e-01,  5.66868324e-01,\n",
    "        7.22434360e-01,  5.64687162e-01,  5.11510302e-01,  7.02255988e-01]\n",
    ")\n",
    "# fmt: on\n",
    "print(data_samples.shape)"
   ]
  },
  {
   "cell_type": "markdown",
   "id": "e9830333-714b-4aa6-b89a-2dedc360f10b",
   "metadata": {
    "id": "e9830333-714b-4aa6-b89a-2dedc360f10b"
   },
   "source": [
    "This is our dataset. It consists of 100 real numbers that are mostly in the interval [-1, 1]. After plotting a histogram of the data, we realized that it might be distributed according to a gaussian distribution. This is why we defined our model to consist of the sum of two parametrized gaussians:"
   ]
  },
  {
   "cell_type": "code",
   "execution_count": 3,
   "id": "66da5f8a-e33f-43d2-a226-95b4fca2facd",
   "metadata": {
    "id": "66da5f8a-e33f-43d2-a226-95b4fca2facd"
   },
   "outputs": [],
   "source": [
    "def gaussian(x, mu, sigma):\n",
    "    return np.exp(-0.5 * ((x - mu) / sigma) ** 2.0) / (sigma * np.sqrt(2 * np.pi))"
   ]
  },
  {
   "cell_type": "code",
   "execution_count": 4,
   "id": "0496f5e0-ccc9-41ea-aa3d-b4b8f707a49e",
   "metadata": {
    "id": "0496f5e0-ccc9-41ea-aa3d-b4b8f707a49e"
   },
   "outputs": [],
   "source": [
    "def model_density_function(x_points, mus, sigmas):\n",
    "    density_left = gaussian(x_points, mus[0], sigmas[0])\n",
    "    density_right = gaussian(x_points, mus[1], sigmas[1])\n",
    "    return (density_left + density_right) / 2"
   ]
  },
  {
   "cell_type": "markdown",
   "id": "f4aa6b91-e9b5-482c-8c8b-e218db7c5dcb",
   "metadata": {
    "id": "f4aa6b91-e9b5-482c-8c8b-e218db7c5dcb"
   },
   "source": [
    "As the initial guesses to the model parameters, we chose $\\mu_1=-0.3, \\mu_2 = 0.6$, which are close to the peaks that we observe in the histogram with wider bins. For the width of the gaussians,we picked $\\sigma_1=\\sigma_2=0.2$. "
   ]
  },
  {
   "cell_type": "code",
   "execution_count": 5,
   "id": "cda88aca-7315-4665-9b96-66563f37259b",
   "metadata": {
    "id": "cda88aca-7315-4665-9b96-66563f37259b"
   },
   "outputs": [],
   "source": [
    "model_mus = [-0.3, 0.6]\n",
    "model_sigmas = [0.2, 0.2]"
   ]
  },
  {
   "cell_type": "markdown",
   "id": "2e7eedb8-3fde-422a-ab95-1f7c9cdc5649",
   "metadata": {
    "id": "2e7eedb8-3fde-422a-ab95-1f7c9cdc5649"
   },
   "source": [
    "When we input these values for $\\mu$ and $\\sigma$ into the model density function, and then scan values of $x$, we get the following plot:"
   ]
  },
  {
   "cell_type": "code",
   "execution_count": 6,
   "id": "WnUWyq4Lw4kt",
   "metadata": {
    "id": "WnUWyq4Lw4kt"
   },
   "outputs": [],
   "source": [
    "import matplotlib.pyplot as plt"
   ]
  },
  {
   "cell_type": "code",
   "execution_count": 7,
   "id": "138cc2d5-1109-4c54-aa42-d52993e0464c",
   "metadata": {
    "colab": {
     "base_uri": "https://localhost:8080/",
     "height": 288
    },
    "executionInfo": {
     "elapsed": 670,
     "status": "ok",
     "timestamp": 1665000519567,
     "user": {
      "displayName": "Manuel Rudolph",
      "userId": "10788476904675569866"
     },
     "user_tz": -120
    },
    "id": "138cc2d5-1109-4c54-aa42-d52993e0464c",
    "outputId": "1430e179-59aa-40b4-fddb-fb03296c816d"
   },
   "outputs": [
    {
     "data": {
      "image/png": "[encoded data removed]",
      "text/plain": [
       "<Figure size 432x288 with 1 Axes>"
      ]
     },
     "metadata": {
      "needs_background": "light"
     },
     "output_type": "display_data"
    }
   ],
   "source": [
    "fig, ax = plt.subplots(1, 1)\n",
    "\n",
    "x_points = np.linspace(-1.5, 1.5, 1000)\n",
    "\n",
    "plt.hist(\n",
    "    data_samples,\n",
    "    bins=15,\n",
    "    density=True,\n",
    "    alpha=0.5,\n",
    "    edgecolor=\"royalblue\",\n",
    "    linewidth=2,\n",
    "    label=\"Training Data\",\n",
    ")\n",
    "plt.plot(\n",
    "    x_points,\n",
    "    model_density_function(x_points, model_mus, model_sigmas),\n",
    "    color=\"red\",\n",
    "    linewidth=2,\n",
    "    label=\"Model\",\n",
    ")\n",
    "\n",
    "plt.legend(fontsize=15)\n",
    "ax.set_ylabel(\"Density\", fontsize=16)\n",
    "ax.set_xlabel(\"Data Value\", fontsize=16)\n",
    "ax.tick_params(labelsize=14)\n",
    "plt.show()"
   ]
  },
  {
   "cell_type": "markdown",
   "id": "e36b1e9b-e13c-4da0-afbe-b7c2bd23882e",
   "metadata": {
    "id": "e36b1e9b-e13c-4da0-afbe-b7c2bd23882e"
   },
   "source": [
    "## Learning by training the generative model\n",
    "\n",
    "Given this dataset is relatively simple compared to real-world cases, we may wonder how to find good parameters for machine learning models in general. This is done via **learning**. Learning (oftentimes also called \"training\") a model is commonly done by tuning the parameters of the model to minimize a loss function (oftentimes also called \"cost function\"). The loss function is designed to describe how well your model fits the data you were given.\n",
    "\n",
    "A loss function for generative models, for example, should measure the discrepancy between the samples from the dataset and the samples generated by our model. In other words, you should not be able to tell by looking at a sample whether it was part of the dataset or generated from the model. \n",
    "\n",
    "One popular loss function is the KL divergence\n",
    "\n",
    "$$\\text{KL}(p_{data}, p_{model}) = \\sum_{x\\sim \\mathcal{D}} \\left[ p_{data}(x) \\log(p_{data}(x)) - p_{data}(x) \\log(p_{model}(x)) \\right]$$"
   ]
  },
  {
   "cell_type": "markdown",
   "id": "df3ef33c-9437-4034-8715-be3ceedd855d",
   "metadata": {
    "id": "df3ef33c-9437-4034-8715-be3ceedd855d"
   },
   "source": [
    "In Python code:"
   ]
  },
  {
   "cell_type": "code",
   "execution_count": 8,
   "id": "3bf1d6fa-a086-45c0-aaa2-c44283678dd4",
   "metadata": {
    "id": "3bf1d6fa-a086-45c0-aaa2-c44283678dd4"
   },
   "outputs": [],
   "source": [
    "def kl_divergence(px_data, px_model):\n",
    "    # px_data and px_model are numpy arrays\n",
    "    return np.mean(px_data * np.log(px_data) - px_data * np.log(px_model))"
   ]
  },
  {
   "cell_type": "markdown",
   "id": "30be2999-4319-421b-a11f-acd72db76e9b",
   "metadata": {
    "id": "30be2999-4319-421b-a11f-acd72db76e9b"
   },
   "source": [
    "By tuning the model parameters to decrease the KL divergence, we tend to obtain a model which generates samples that are more similar to the training data. You can imagine that every model with a collection of parameters has one or more constellations of parameters such that the loss value is minimal. Further improving it could either be impossible because it is the absolute minimal possible value (0 in the case of the KL divergence), or it may require a different, more potent model. Interestingly, we might not want a perfect fit on the training data. The keyword here is _generalization_, but more on that later. For now, we will try to lower the KL divergence of our model relative to the training dataset as much as we can."
   ]
  },
  {
   "cell_type": "markdown",
   "id": "09119172-345f-4c70-85d0-e74a7aa33eb5",
   "metadata": {
    "id": "09119172-345f-4c70-85d0-e74a7aa33eb5"
   },
   "source": [
    "First, for convenience, lets put all parameters into one array."
   ]
  },
  {
   "cell_type": "code",
   "execution_count": 9,
   "id": "2031656a-ca3c-462b-93c8-749418276ead",
   "metadata": {
    "colab": {
     "base_uri": "https://localhost:8080/"
    },
    "executionInfo": {
     "elapsed": 234,
     "status": "ok",
     "timestamp": 1665001487322,
     "user": {
      "displayName": "Manuel Rudolph",
      "userId": "10788476904675569866"
     },
     "user_tz": -120
    },
    "id": "2031656a-ca3c-462b-93c8-749418276ead",
    "outputId": "f8c05d66-dea9-47c0-9f8b-4f4f163b0b68"
   },
   "outputs": [
    {
     "name": "stdout",
     "output_type": "stream",
     "text": [
      "[-0.3  0.6  0.2  0.2]\n"
     ]
    }
   ],
   "source": [
    "model_parameters = np.array(\n",
    "    [\n",
    "        model_mus[0],\n",
    "        model_mus[1],\n",
    "        model_sigmas[0],\n",
    "        model_sigmas[1],\n",
    "    ]\n",
    ")\n",
    "print(model_parameters)"
   ]
  },
  {
   "cell_type": "markdown",
   "id": "5159cae5-9337-46d9-b0d7-b9e96f5118ed",
   "metadata": {
    "id": "5159cae5-9337-46d9-b0d7-b9e96f5118ed"
   },
   "source": [
    "Now, lets see how we could calculate the empirical data distribtion $p_{\\mathcal{D}}(x)$ given the dataset $\\mathcal{D}$. But wait, why $p_{\\mathcal{D}}(x)$? The above formula for the KL divergence requires $p_{data}(x)$, which is the true probability distribution underlying the training data. Unfortunately, the dataset is all we have and we have to use it as a substitute for the unknown $p_{data}(x)$.\n",
    "\n",
    "So, how can we estimate $p_{\\mathcal{D}}(x)$? One idea is to count the number of data samples which are inside a small interval $[x-b, x+b]$ for a small $b$, and divide that number by the total number of data samples. This is connected to the integral $p_{\\mathcal{D}}(x) \\sim \\int \\rho_{\\mathcal{D}}(x) dx$ of the empirical data density $\\rho_{\\mathcal{D}}(x)$."
   ]
  },
  {
   "cell_type": "code",
   "execution_count": 10,
   "id": "983c8068-67e0-41d7-b8d3-40039ca32677",
   "metadata": {
    "id": "983c8068-67e0-41d7-b8d3-40039ca32677"
   },
   "outputs": [],
   "source": [
    "b = 1e-3"
   ]
  },
  {
   "cell_type": "code",
   "execution_count": 11,
   "id": "5ebc9f7a-791e-4627-ad59-ffce0ec9d901",
   "metadata": {
    "id": "5ebc9f7a-791e-4627-ad59-ffce0ec9d901"
   },
   "outputs": [],
   "source": [
    "def calculate_px_data(x):\n",
    "    points_in_interval = (data_samples >= x - b / 2) * (data_samples < x + b / 2)\n",
    "    return sum(points_in_interval) / len(data_samples)"
   ]
  },
  {
   "cell_type": "markdown",
   "id": "b814997a-d3f4-4d91-a599-75fe31e962f1",
   "metadata": {
    "id": "b814997a-d3f4-4d91-a599-75fe31e962f1"
   },
   "source": [
    "As for our gaussian model, we apply a more sophisticated version of the numerical integration which is enabled by the ability to precisely calculate the density function $\\rho_{model}(x)$ for any $x$. The integration is then done using the [_trapezoidal rule_](https://en.wikipedia.org/wiki/Numerical_integration):\n",
    "\n",
    "$$ p_{model}(x) \\approx \\int_{-b}^{b} \\rho_{model}(x+s) ds \\approx b\\cdot\\frac{\\rho_{model}(x+b) + \\rho_{model}(x-b)}{2}$$ \n",
    "\n",
    "This may appear a little cumbersome, but just keep in mind that here we are implementing the necessary numerics to estimate $p_{model}(x)$ for this specific gaussian model. If we were instead utilizing a neural network or a parametrized quantum circuit, we could (or would need to) do it differently. In general, each choice of parametrized model allows or requires different methods for estimating the current probability distribution. Interestingly, some generative model do not allow the *explicit* calculation of  $p_{model}(x)$, but they can be trained using clever techniques. GANs are one such example! For further reading on *implicit* generative models, we refer to [this paper](https://arxiv.org/abs/1610.03483). \n",
    "\n",
    "Lets code our case up:"
   ]
  },
  {
   "cell_type": "code",
   "execution_count": 12,
   "id": "62189bc9-d98c-4c8a-8791-284ca9d46ee6",
   "metadata": {
    "id": "62189bc9-d98c-4c8a-8791-284ca9d46ee6"
   },
   "outputs": [],
   "source": [
    "def calculate_px_model(x, model_parameters):\n",
    "    mus = model_parameters[:2]\n",
    "    sigmas = model_parameters[2:4]\n",
    "\n",
    "    density_left = model_density_function(x - b / 2, mus, sigmas)\n",
    "    density_right = model_density_function(x + b, mus, sigmas)\n",
    "    px_model = b * (density_right + density_left) / 2\n",
    "\n",
    "    return px_model"
   ]
  },
  {
   "cell_type": "markdown",
   "id": "aa21fb80-1f22-4f42-9944-b163715a4183",
   "metadata": {
    "id": "aa21fb80-1f22-4f42-9944-b163715a4183"
   },
   "source": [
    "To train the parameters of our model, we need an optimization algorithm. Here, we will use a simple gradient descent algorithm that is based on finite-difference gradients. The finite-difference gradient is defined via\n",
    "\n",
    "$$ grad(\\text{KL})(x) \\equiv \\nabla \\text{KL}(x) \\approx \\frac{\\text{KL}(x+\\epsilon) - \\text{KL}(x+\\epsilon)}{2\\epsilon} $$\n",
    "\n",
    "with a small $\\epsilon$ (epsilon)."
   ]
  },
  {
   "cell_type": "code",
   "execution_count": 13,
   "id": "11cf1fc8-03b3-41a4-8eb3-43b8956c62d3",
   "metadata": {
    "id": "11cf1fc8-03b3-41a4-8eb3-43b8956c62d3"
   },
   "outputs": [],
   "source": [
    "def calculate_gradient(model_parameters, finite_distance_eps):\n",
    "    gradient_vector = np.zeros(len(model_parameters))\n",
    "\n",
    "    for kk in range(len(model_parameters)):\n",
    "        delta_vector = np.zeros(len(model_parameters))\n",
    "        delta_vector[kk] = finite_distance_eps\n",
    "\n",
    "        params_plus = model_parameters + delta_vector\n",
    "        params_minus = model_parameters - delta_vector\n",
    "\n",
    "        px_data = np.array([calculate_px_data(x) for x in data_samples])\n",
    "\n",
    "        px_model_plus = np.array(\n",
    "            [calculate_px_model(x, params_plus) for x in data_samples]\n",
    "        )\n",
    "        px_model_minus = np.array(\n",
    "            [calculate_px_model(x, params_minus) for x in data_samples]\n",
    "        )\n",
    "\n",
    "        kl_plus = kl_divergence(px_data, px_model_plus)\n",
    "        kl_minus = kl_divergence(px_data, px_model_minus)\n",
    "\n",
    "        gradient = (kl_plus - kl_minus) / (2 * finite_distance_eps)\n",
    "        gradient_vector[kk] = gradient\n",
    "\n",
    "    return gradient_vector"
   ]
  },
  {
   "cell_type": "markdown",
   "id": "3757249d-7c78-4d01-b5ea-b242e864fdcc",
   "metadata": {
    "id": "3757249d-7c78-4d01-b5ea-b242e864fdcc"
   },
   "source": [
    "Choose $\\epsilon = 10^{-3}$"
   ]
  },
  {
   "cell_type": "code",
   "execution_count": 14,
   "id": "5abc3afa-8485-4c60-876b-b1818f692ffe",
   "metadata": {
    "id": "5abc3afa-8485-4c60-876b-b1818f692ffe"
   },
   "outputs": [],
   "source": [
    "eps = 1e-3"
   ]
  },
  {
   "cell_type": "markdown",
   "id": "808b25c1-2fe9-46b7-ae9e-885314544c5c",
   "metadata": {
    "id": "808b25c1-2fe9-46b7-ae9e-885314544c5c"
   },
   "source": [
    "As for the gradient descent, we perform $T=100$ iterations, and the following update to the model parameters $\\theta^{(t)}$ is performed at every iteration $t$:\n",
    "\n",
    "$$ \\theta^{(t+1)} = \\theta^{(t+1)} - \\eta\\cdot \\nabla\\text{KL}(x; \\theta^{(t)}),$$\n",
    "\n",
    "with a _learning rate_ $\\eta$ (eta)."
   ]
  },
  {
   "cell_type": "code",
   "execution_count": 15,
   "id": "b1288699-3caf-4e9d-8eb8-b4c8b821a377",
   "metadata": {
    "colab": {
     "base_uri": "https://localhost:8080/"
    },
    "executionInfo": {
     "elapsed": 12469,
     "status": "ok",
     "timestamp": 1665002397811,
     "user": {
      "displayName": "Manuel Rudolph",
      "userId": "10788476904675569866"
     },
     "user_tz": -120
    },
    "id": "b1288699-3caf-4e9d-8eb8-b4c8b821a377",
    "outputId": "7b23fd22-b6a6-4423-c31d-11c549c27ab8"
   },
   "outputs": [
    {
     "name": "stdout",
     "output_type": "stream",
     "text": [
      "Wall time: 10.1 s\n"
     ]
    }
   ],
   "source": [
    "%%time\n",
    "\n",
    "learning_rate = 0.2\n",
    "T = 100\n",
    "\n",
    "all_kls = []\n",
    "\n",
    "# evaluate and record the initial KL divergence loss\n",
    "initial_model_parameters = model_parameters.copy()\n",
    "px_data = np.array([calculate_px_data(x) for x in data_samples])\n",
    "px_model = np.array(\n",
    "    [calculate_px_model(x, initial_model_parameters) for x in data_samples]\n",
    ")\n",
    "all_kls.append(kl_divergence(px_data, px_model))\n",
    "\n",
    "for it in range(T):\n",
    "    # one gradient descent step\n",
    "    gradient_vector = calculate_gradient(model_parameters, eps)\n",
    "    model_parameters -= learning_rate * gradient_vector\n",
    "\n",
    "    # evaluate and record the KL divergence loss\n",
    "    px_data = np.array([calculate_px_data(x) for x in data_samples])\n",
    "    px_model = np.array([calculate_px_model(x, model_parameters) for x in data_samples])\n",
    "    all_kls.append(kl_divergence(px_data, px_model))"
   ]
  },
  {
   "cell_type": "markdown",
   "id": "66a79d70-d511-4765-a558-02375e5e500a",
   "metadata": {
    "id": "66a79d70-d511-4765-a558-02375e5e500a"
   },
   "source": [
    "Plot up the loss progression of over the training iterations:"
   ]
  },
  {
   "cell_type": "code",
   "execution_count": 16,
   "id": "f67957a3-e89c-4c14-9805-f63b9a258728",
   "metadata": {
    "colab": {
     "base_uri": "https://localhost:8080/",
     "height": 285
    },
    "executionInfo": {
     "elapsed": 490,
     "status": "ok",
     "timestamp": 1665002398298,
     "user": {
      "displayName": "Manuel Rudolph",
      "userId": "10788476904675569866"
     },
     "user_tz": -120
    },
    "id": "f67957a3-e89c-4c14-9805-f63b9a258728",
    "outputId": "44cb5665-a31f-4b2a-d3bc-727eafd0c685"
   },
   "outputs": [
    {
     "data": {
      "image/png": "[encoded data removed]",
      "text/plain": [
       "<Figure size 432x288 with 1 Axes>"
      ]
     },
     "metadata": {
      "needs_background": "light"
     },
     "output_type": "display_data"
    }
   ],
   "source": [
    "fig, ax = plt.subplots(1, 1)\n",
    "\n",
    "x_points = np.linspace(-1.5, 1.5, 1000)\n",
    "\n",
    "plt.plot(all_kls, linewidth=3)\n",
    "\n",
    "ax.set_ylabel(\"KL Divergence\", fontsize=16)\n",
    "ax.set_xlabel(\"Iteration $t$\", fontsize=16)\n",
    "plt.show()"
   ]
  },
  {
   "cell_type": "markdown",
   "id": "a7751bf7-8e11-46b5-b9aa-414161517dc9",
   "metadata": {
    "id": "a7751bf7-8e11-46b5-b9aa-414161517dc9"
   },
   "source": [
    "We see that the KL divergence loss value is slowly plateauing, which means that our model has converged. Now, compare the initial model distribution to the final distribution and the training data."
   ]
  },
  {
   "cell_type": "code",
   "execution_count": 17,
   "id": "b87214d4-09a6-4729-a01f-25718bd24d63",
   "metadata": {
    "colab": {
     "base_uri": "https://localhost:8080/",
     "height": 288
    },
    "executionInfo": {
     "elapsed": 779,
     "status": "ok",
     "timestamp": 1665002409289,
     "user": {
      "displayName": "Manuel Rudolph",
      "userId": "10788476904675569866"
     },
     "user_tz": -120
    },
    "id": "b87214d4-09a6-4729-a01f-25718bd24d63",
    "outputId": "dbdc92d2-298c-46ae-d4f0-10636faf2f1d"
   },
   "outputs": [
    {
     "data": {
      "image/png": "[encoded data removed]",
      "text/plain": [
       "<Figure size 432x288 with 1 Axes>"
      ]
     },
     "metadata": {
      "needs_background": "light"
     },
     "output_type": "display_data"
    }
   ],
   "source": [
    "fig, ax = plt.subplots(1, 1)\n",
    "\n",
    "points = np.linspace(-1.5, 1.5, 1000)\n",
    "\n",
    "ax.hist(\n",
    "    data_samples,\n",
    "    bins=100,\n",
    "    density=True,\n",
    "    alpha=0.5,\n",
    "    edgecolor=\"royalblue\",\n",
    "    linewidth=1,\n",
    "    label=\"Training Data\",\n",
    ")\n",
    "ax.plot(\n",
    "    points,\n",
    "    model_density_function(\n",
    "        points, initial_model_parameters[:2], initial_model_parameters[2:]\n",
    "    ),\n",
    "    color=\"red\",\n",
    "    linewidth=3,\n",
    "    label=\"Initial Model\",\n",
    ")\n",
    "ax.plot(\n",
    "    points,\n",
    "    model_density_function(points, model_parameters[:2], model_parameters[2:]),\n",
    "    color=\"orange\",\n",
    "    linewidth=3,\n",
    "    label=\"Final Model\",\n",
    ")\n",
    "ax.legend(fontsize=15)\n",
    "ax.set_xlabel(\"Data Value\", fontsize=16)\n",
    "ax.set_ylabel(\"Density\", fontsize=16)\n",
    "ax.tick_params(labelsize=14)\n",
    "plt.show()"
   ]
  },
  {
   "cell_type": "markdown",
   "id": "c696a400-0dc4-4e2d-bbc7-d75cff4e89fc",
   "metadata": {
    "id": "c696a400-0dc4-4e2d-bbc7-d75cff4e89fc"
   },
   "source": [
    "While our inital parameter guess were quite good, the optimized parameters appear to define a model which describes the data much better. But let us not just guess. We (here at alqor.io) know the _true_ distribution from which the data was sampled. The \"correct\" parameters were:"
   ]
  },
  {
   "cell_type": "code",
   "execution_count": 18,
   "id": "2a1901f6-f9f0-4b43-8bf7-f7709fc70131",
   "metadata": {
    "id": "2a1901f6-f9f0-4b43-8bf7-f7709fc70131"
   },
   "outputs": [],
   "source": [
    "mus = [-0.4, 0.6]\n",
    "sigmas = [0.3, 0.15]"
   ]
  },
  {
   "cell_type": "markdown",
   "id": "3bcd1bb3-0850-435c-b202-89a61b25a958",
   "metadata": {
    "id": "3bcd1bb3-0850-435c-b202-89a61b25a958"
   },
   "source": [
    "When comparing this to our final trained parameters,"
   ]
  },
  {
   "cell_type": "code",
   "execution_count": 19,
   "id": "72ce2a76-23d5-4ed8-a3f0-27186f44a4ff",
   "metadata": {
    "colab": {
     "base_uri": "https://localhost:8080/"
    },
    "executionInfo": {
     "elapsed": 252,
     "status": "ok",
     "timestamp": 1665002434363,
     "user": {
      "displayName": "Manuel Rudolph",
      "userId": "10788476904675569866"
     },
     "user_tz": -120
    },
    "id": "72ce2a76-23d5-4ed8-a3f0-27186f44a4ff",
    "outputId": "feeef89d-d052-401f-8c10-e648e1659102"
   },
   "outputs": [
    {
     "name": "stdout",
     "output_type": "stream",
     "text": [
      "model mus: [-0.33731584  0.60914317]\n",
      "model sigmas: [0.3387956  0.14697371]\n"
     ]
    }
   ],
   "source": [
    "model_mus = model_parameters[:2]\n",
    "print(\"model mus:\", model_mus)\n",
    "model_sigmas = model_parameters[2:]\n",
    "print(\"model sigmas:\", model_sigmas)"
   ]
  },
  {
   "cell_type": "markdown",
   "id": "2c6f0660-966d-40dc-9d80-89b16344c7d1",
   "metadata": {
    "id": "2c6f0660-966d-40dc-9d80-89b16344c7d1"
   },
   "source": [
    "we don't see a perfect match - but it's really close! And this is given only 100 samples, that lie rather sparsely in the domain $x \\in [-1.5, 1.5]$. "
   ]
  },
  {
   "cell_type": "markdown",
   "id": "e27a96bb-9d9d-4804-9ef5-b2ef6899e990",
   "metadata": {
    "id": "e27a96bb-9d9d-4804-9ef5-b2ef6899e990"
   },
   "source": [
    "Plotting all distributions together makes it much clearer how much the training improved our model:  "
   ]
  },
  {
   "cell_type": "code",
   "execution_count": 20,
   "id": "bfad49be-5301-4071-b4e5-05edad7716f4",
   "metadata": {
    "colab": {
     "base_uri": "https://localhost:8080/",
     "height": 288
    },
    "executionInfo": {
     "elapsed": 771,
     "status": "ok",
     "timestamp": 1665002437353,
     "user": {
      "displayName": "Manuel Rudolph",
      "userId": "10788476904675569866"
     },
     "user_tz": -120
    },
    "id": "bfad49be-5301-4071-b4e5-05edad7716f4",
    "outputId": "40d58bb0-7326-49a5-926c-6a184dcfe2ae"
   },
   "outputs": [
    {
     "data": {
      "image/png": "[encoded data removed]",
      "text/plain": [
       "<Figure size 432x288 with 1 Axes>"
      ]
     },
     "metadata": {
      "needs_background": "light"
     },
     "output_type": "display_data"
    }
   ],
   "source": [
    "fig, ax = plt.subplots(1, 1)\n",
    "\n",
    "points = np.linspace(-1.5, 1.5, 1000)\n",
    "\n",
    "ax.hist(\n",
    "    data_samples,\n",
    "    bins=100,\n",
    "    density=True,\n",
    "    alpha=0.5,\n",
    "    edgecolor=\"royalblue\",\n",
    "    linewidth=1,\n",
    "    label=\"Training Data\",\n",
    ")\n",
    "ax.plot(\n",
    "    points,\n",
    "    model_density_function(\n",
    "        points, initial_model_parameters[:2], initial_model_parameters[2:]\n",
    "    ),\n",
    "    color=\"red\",\n",
    "    linewidth=3,\n",
    "    label=\"Initial Model\",\n",
    ")\n",
    "ax.plot(\n",
    "    points,\n",
    "    model_density_function(points, model_parameters[:2], model_parameters[2:]),\n",
    "    color=\"orange\",\n",
    "    linewidth=3,\n",
    "    label=\"Final Model\",\n",
    ")\n",
    "ax.plot(\n",
    "    points,\n",
    "    model_density_function(points, mus, sigmas),\n",
    "    color=\"Black\",\n",
    "    linewidth=3,\n",
    "    label=\"True Distribution\",\n",
    ")\n",
    "ax.legend(fontsize=15)\n",
    "ax.set_xlabel(\"Data Value\", fontsize=16)\n",
    "ax.set_ylabel(\"Density\", fontsize=16)\n",
    "ax.tick_params(labelsize=14)\n",
    "plt.show()"
   ]
  },
  {
   "cell_type": "markdown",
   "id": "08d817fc-779a-4c74-aeed-af6bac43e5cf",
   "metadata": {
    "id": "08d817fc-779a-4c74-aeed-af6bac43e5cf"
   },
   "source": [
    "Lets sample 100 times from our newly trained model, and decide for yourself if you can spot a systematic difference:"
   ]
  },
  {
   "cell_type": "code",
   "execution_count": 21,
   "id": "BeULfsZ402Mb",
   "metadata": {
    "id": "BeULfsZ402Mb"
   },
   "outputs": [],
   "source": [
    "def sample_model_distribution(n_samples, mus, sigmas):\n",
    "    n_left_samples = n_samples // 2\n",
    "    n_right_samples = n_samples - n_left_samples\n",
    "\n",
    "    samples = np.append(\n",
    "        np.random.normal(mus[0], sigmas[0], size=n_left_samples),\n",
    "        np.random.normal(mus[1], sigmas[1], size=n_right_samples),\n",
    "    )\n",
    "    return samples"
   ]
  },
  {
   "cell_type": "code",
   "execution_count": 22,
   "id": "cfcc5e4a-cf35-464b-bbd9-1cd1acc7c319",
   "metadata": {
    "id": "cfcc5e4a-cf35-464b-bbd9-1cd1acc7c319"
   },
   "outputs": [],
   "source": [
    "np.random.seed(42)\n",
    "generated_samples = sample_model_distribution(100, model_mus, model_sigmas)"
   ]
  },
  {
   "cell_type": "code",
   "execution_count": 23,
   "id": "938e4430-88e8-4626-aece-77b67157e95e",
   "metadata": {
    "colab": {
     "base_uri": "https://localhost:8080/",
     "height": 361
    },
    "executionInfo": {
     "elapsed": 668,
     "status": "ok",
     "timestamp": 1665002465130,
     "user": {
      "displayName": "Manuel Rudolph",
      "userId": "10788476904675569866"
     },
     "user_tz": -120
    },
    "id": "938e4430-88e8-4626-aece-77b67157e95e",
    "outputId": "d5067a23-4b3d-4173-d2ef-c3262a0d3638"
   },
   "outputs": [
    {
     "data": {
      "image/png": "[encoded data removed]",
      "text/plain": [
       "<Figure size 1008x360 with 2 Axes>"
      ]
     },
     "metadata": {
      "needs_background": "light"
     },
     "output_type": "display_data"
    }
   ],
   "source": [
    "fig, (ax1, ax2) = plt.subplots(1, 2, figsize=(14, 5))\n",
    "\n",
    "ax1.hist(\n",
    "    data_samples,\n",
    "    bins=15,\n",
    "    density=True,\n",
    "    alpha=0.5,\n",
    "    edgecolor=\"royalblue\",\n",
    "    linewidth=2,\n",
    "    label=\"Training Data\",\n",
    ")\n",
    "ax1.hist(\n",
    "    generated_samples,\n",
    "    bins=15,\n",
    "    density=True,\n",
    "    alpha=0.5,\n",
    "    edgecolor=\"red\",\n",
    "    linewidth=2,\n",
    "    label=\"Generated Data\",\n",
    ")\n",
    "ax2.hist(\n",
    "    data_samples,\n",
    "    bins=100,\n",
    "    density=True,\n",
    "    alpha=0.5,\n",
    "    edgecolor=\"royalblue\",\n",
    "    linewidth=1,\n",
    "    label=\"Training Data\",\n",
    ")\n",
    "ax2.hist(\n",
    "    generated_samples,\n",
    "    bins=100,\n",
    "    density=True,\n",
    "    alpha=0.5,\n",
    "    edgecolor=\"red\",\n",
    "    linewidth=1,\n",
    "    label=\"Generated Data\",\n",
    ")\n",
    "\n",
    "ax1.set_title(\"Wider Histogram Bins\", fontsize=16)\n",
    "ax2.set_title(\"Thinner Histogram Bins\", fontsize=16)\n",
    "ax1.set_xlabel(\"Data Value\", fontsize=16)\n",
    "ax1.set_ylabel(\"Density\", fontsize=16)\n",
    "ax2.set_xlabel(\"Data Value\", fontsize=16)\n",
    "ax2.set_ylabel(\"Density\", fontsize=16)\n",
    "ax1.tick_params(labelsize=14)\n",
    "ax2.tick_params(labelsize=14)\n",
    "\n",
    "plt.show()"
   ]
  },
  {
   "cell_type": "markdown",
   "id": "f49dd765-ebfe-44d2-9ff4-5c1dfd934872",
   "metadata": {
    "id": "f49dd765-ebfe-44d2-9ff4-5c1dfd934872"
   },
   "source": [
    "This looks like a high-quality approximation of the true underlying distribution. But is the KL divergence loss is not 0. Is that a problem? No! In fact, this is one of the things that makes ML in general, but generative ML in particular, challenging. We don't want to completely \"memorize\" the training data with our model - we want to _generalize_ to parts of the data space that we did not observe. If we modeled the data with, for example, 20 overlapping gaussians, we would likely achieve lower KL divergence values, but the comparison with the true distribution would be worse. This is called _overfitting_. In our example, we circumvented overfitting by defining a model which is highly specific to the structure we observed in the data, and has only few tunable model parameters.  "
   ]
  },
  {
   "cell_type": "markdown",
   "id": "8f7acb92-7956-456a-8df9-8d6d5e324993",
   "metadata": {
    "id": "8f7acb92-7956-456a-8df9-8d6d5e324993"
   },
   "source": [
    "## Summary and outlook\n",
    "\n",
    "Let us recap:"
   ]
  },
  {
   "cell_type": "markdown",
   "id": "1b913ca6-c194-4e81-a396-305c10ea80ac",
   "metadata": {
    "id": "1b913ca6-c194-4e81-a396-305c10ea80ac"
   },
   "source": [
    "In a generative machine learning task, you receive data, and the goal is to learn a model of the true underlying probability distribution of the data, i.e., you want to learn the distribution from which the data itself was sampled from. Then, you want to be able to generate new data from this model, which has similar characteristics, but is not inside the training set.\\\n",
    "The moving pieces in such a task are:\n",
    "- **The dataset**. How does it look like?\n",
    "- **The model**. Is it flexible enough to approximate the data distribution well? Or is it highly specialized like in our gaussian case?\n",
    "- **The loss function**. How do you estimate the distance the training data samples and your model distribution?\n",
    "- **The optimization algorithm**. How do you get from (potentially very bad) initial parameters to a good set of parameters?"
   ]
  },
  {
   "cell_type": "markdown",
   "id": "ad059bfe-d0dd-42ae-839f-d3a82c0ab6fe",
   "metadata": {
    "id": "ad059bfe-d0dd-42ae-839f-d3a82c0ab6fe"
   },
   "source": [
    "In the following sessions, you will see how we replace **the model** with a parameterized quantum circuit. This brings about new choices and challenges, but also new interesting opportunities. See you soon!"
   ]
  }
 ],
 "metadata": {
  "colab": {
   "collapsed_sections": [],
   "provenance": [
    {
     "file_id": "https://github.com/MSRudolph/Alqor_Tutorials/blob/main/generative_modeling/Generative_modeling_tuturial_1_2.ipynb",
     "timestamp": 1663699540120
    }
   ]
  },
  "kernelspec": {
   "display_name": "Python 3 (ipykernel)",
   "language": "python",
   "name": "python3"
  },
  "language_info": {
   "codemirror_mode": {
    "name": "ipython",
    "version": 3
   },
   "file_extension": ".py",
   "mimetype": "text/x-python",
   "name": "python",
   "nbconvert_exporter": "python",
   "pygments_lexer": "ipython3",
   "version": "3.10.8"
  }
 },
 "nbformat": 4,
 "nbformat_minor": 5
}
