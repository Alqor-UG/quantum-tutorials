{
 "cells": [
  {
   "cell_type": "markdown",
   "metadata": {
    "id": "vl4RYMy1aJ14"
   },
   "source": [
    "# Tutorial 4 – A trained generative model with a few qubits"
   ]
  },
  {
   "cell_type": "markdown",
   "metadata": {
    "id": "M0qyiQtLaGqU"
   },
   "source": [
    "Welcome back to our tutorial on generative modeling with quantum hardware. In this tutorial, we will optimize the parameters of a quantum circuit generative model and find out which role entanglement plays for learning complicated data distributions.\n",
    "\n",
    "So far, we have learned that, in a generative machine learning task, you receive data and the goal is to learn a model of the true distribution underlying the data. Then, you want to be able to generate new data from this model, which has similar characteristics, but is not necessarily inside the training set."
   ]
  },
  {
   "cell_type": "markdown",
   "metadata": {
    "id": "7Pygls-edpr-"
   },
   "source": [
    "Lets get started and import the necessary Python tools."
   ]
  },
  {
   "cell_type": "code",
   "execution_count": 2,
   "metadata": {
    "id": "7vihxjk2fkzR"
   },
   "outputs": [],
   "source": [
    "import numpy as np\n",
    "import matplotlib.pyplot as plt\n",
    "\n",
    "from qiskit.circuit import QuantumCircuit, Parameter\n",
    "from qiskit import Aer"
   ]
  },
  {
   "cell_type": "markdown",
   "metadata": {
    "id": "tY7a1KV2fpFj"
   },
   "source": [
    "## Recap: Defining a quantum circuit generative model and the dataset"
   ]
  },
  {
   "cell_type": "markdown",
   "metadata": {
    "id": "sxPL7bhUdTmj"
   },
   "source": [
    "Last time, we introduced a quantum circuit generative model which encodes probability distributions over discrete data. Particularly, the data are binary qubit measurements $x$, e.g. $x = 0000, 0001, 0010, ... ,1111$ for $n=4$ qubits. The probability $p_{model}(x)$ can formally be written as\n",
    "$ |\\langle x | \\psi(\\theta) \\rangle|^2 $\n",
    "where $\\theta$ are the parameters of a parametrized quantum circuit which prepares the quantum state $\\psi(\\theta)$. In practice, this represents the probability of obtaining the outcome $x$ when you measure the prepared quantum state."
   ]
  },
  {
   "cell_type": "markdown",
   "metadata": {
    "id": "JVg7W_t9xW5s"
   },
   "source": [
    "Let us recollect the function that flexibly constructs a quantum circuit with any number of qubits $n$ and layers $d$:"
   ]
  },
  {
   "cell_type": "code",
   "execution_count": 3,
   "metadata": {
    "id": "Iv9v0Rmia1_K"
   },
   "outputs": [],
   "source": [
    "def get_circuit(number_of_qubits, number_of_layers):\n",
    "\n",
    "    number_of_parameters = 2 * number_of_qubits * number_of_layers\n",
    "    thetas = [Parameter(r\"$\\theta$\" + f\"{ii+1}\") for ii in range(number_of_parameters)]\n",
    "\n",
    "    # initialize the qiskit circuit\n",
    "    circuit = QuantumCircuit(number_of_qubits)\n",
    "\n",
    "    parameter_counter = 0\n",
    "\n",
    "    # loop over the layers of the quantum circuit\n",
    "    for l in range(number_of_layers):\n",
    "\n",
    "        # apply a layer of RX rotations\n",
    "        for n in range(number_of_qubits):\n",
    "            circuit.rx(thetas[parameter_counter], n)\n",
    "            parameter_counter += 1\n",
    "\n",
    "        # apply a layer of RZ rotations\n",
    "        for n in range(number_of_qubits):\n",
    "            circuit.rz(thetas[parameter_counter], n)\n",
    "            parameter_counter += 1\n",
    "\n",
    "        # apply a layer of CNOTs\n",
    "        for n in range(number_of_qubits - 1):\n",
    "            circuit.cnot(n, n + 1)\n",
    "\n",
    "    # instructions to measure all qubits\n",
    "    circuit.measure_all()\n",
    "\n",
    "    return circuit"
   ]
  },
  {
   "cell_type": "markdown",
   "metadata": {
    "id": "v7daBwrtd0Pk"
   },
   "source": [
    "For  $n=4$ and $d=2$, the quantum circuit looks like this:"
   ]
  },
  {
   "cell_type": "code",
   "execution_count": 4,
   "metadata": {
    "colab": {
     "base_uri": "https://localhost:8080/",
     "height": 276
    },
    "executionInfo": {
     "elapsed": 625,
     "status": "ok",
     "timestamp": 1667649929254,
     "user": {
      "displayName": "Manuel Rudolph",
      "userId": "10788476904675569866"
     },
     "user_tz": -60
    },
    "id": "b-X5BHHHdzV8",
    "outputId": "4b173faf-1d3a-4194-e36e-ab7edfa77450"
   },
   "outputs": [
    {
     "data": {
      "image/png": "[encoded data removed]",
      "text/plain": [
       "<Figure size 959.679x325.08 with 1 Axes>"
      ]
     },
     "execution_count": 4,
     "metadata": {},
     "output_type": "execute_result"
    }
   ],
   "source": [
    "number_of_qubits = 4\n",
    "number_of_layers = 2\n",
    "\n",
    "circuit = get_circuit(number_of_qubits, number_of_layers)\n",
    "circuit.draw(\"mpl\")"
   ]
  },
  {
   "cell_type": "markdown",
   "metadata": {
    "id": "-8SJXSjweHEO"
   },
   "source": [
    "The dataset that we constructed last time was a discretized version of the dataset used in Part 1 and Part 2 of our tutorial series:"
   ]
  },
  {
   "cell_type": "code",
   "execution_count": 5,
   "metadata": {
    "colab": {
     "base_uri": "https://localhost:8080/"
    },
    "executionInfo": {
     "elapsed": 32,
     "status": "ok",
     "timestamp": 1667649929256,
     "user": {
      "displayName": "Manuel Rudolph",
      "userId": "10788476904675569866"
     },
     "user_tz": -60
    },
    "id": "nQwGsdZad7P4",
    "outputId": "efa50932-c9f7-4725-f152-a6fe5c689762"
   },
   "outputs": [
    {
     "name": "stdout",
     "output_type": "stream",
     "text": [
      "{'0000': 0.01, '0001': 0.0, '0010': 0.02, '0011': 0.04, '0100': 0.04, '0101': 0.1, '0110': 0.07, '0111': 0.09, '1000': 0.07, '1001': 0.05, '1010': 0.03, '1011': 0.08, '1100': 0.14, '1101': 0.19, '1110': 0.06, '1111': 0.01}\n"
     ]
    }
   ],
   "source": [
    "training_data_dict = {\n",
    "    \"0000\": 1,\n",
    "    \"0001\": 0,\n",
    "    \"0010\": 2,\n",
    "    \"0011\": 4,\n",
    "    \"0100\": 4,\n",
    "    \"0101\": 10,\n",
    "    \"0110\": 7,\n",
    "    \"0111\": 9,\n",
    "    \"1000\": 7,\n",
    "    \"1001\": 5,\n",
    "    \"1010\": 3,\n",
    "    \"1011\": 8,\n",
    "    \"1100\": 14,\n",
    "    \"1101\": 19,\n",
    "    \"1110\": 6,\n",
    "    \"1111\": 1,\n",
    "}\n",
    "\n",
    "# normalize the counts to be interpreted as probabilities\n",
    "count_sum = sum(training_data_dict.values())\n",
    "for x, prob in training_data_dict.items():\n",
    "    training_data_dict[x] = prob / count_sum\n",
    "\n",
    "print(training_data_dict)"
   ]
  },
  {
   "cell_type": "markdown",
   "metadata": {
    "id": "QSrr5cp7jItR"
   },
   "source": [
    "For convenience, let us define a function to get samples from our model given a circuit and a vector of parameters."
   ]
  },
  {
   "cell_type": "code",
   "execution_count": 6,
   "metadata": {
    "id": "N8CLFJbljHZh"
   },
   "outputs": [],
   "source": [
    "simulator = Aer.get_backend(\"aer_simulator\")\n",
    "\n",
    "\n",
    "def get_model_dict(circuit, parameters):\n",
    "    # bind the circuit parameters to numbers\n",
    "    circuit_with_params = circuit.bind_parameters(parameters)\n",
    "\n",
    "    # run the circuit and get the result\n",
    "\n",
    "    result = simulator.run(circuit_with_params, shots=10000).result()\n",
    "\n",
    "    # extract the measurement counts as a python dictionary\n",
    "    model_dict = result.get_counts()\n",
    "\n",
    "    return model_dict"
   ]
  },
  {
   "cell_type": "markdown",
   "metadata": {
    "id": "HCKCTLxJeac3"
   },
   "source": [
    "With a random initial guess for our parameter vector $\\theta$, we can plot the quantum circuit model distribution together with the dataset."
   ]
  },
  {
   "cell_type": "code",
   "execution_count": 7,
   "metadata": {
    "colab": {
     "base_uri": "https://localhost:8080/",
     "height": 315
    },
    "executionInfo": {
     "elapsed": 1547,
     "status": "ok",
     "timestamp": 1667650213067,
     "user": {
      "displayName": "Manuel Rudolph",
      "userId": "10788476904675569866"
     },
     "user_tz": -60
    },
    "id": "gSsMinE_eZDu",
    "outputId": "58d63cde-41ed-438f-cf5a-b7234f4d8091"
   },
   "outputs": [
    {
     "data": {
      "image/png": "[encoded data removed]",
      "text/plain": [
       "<Figure size 432x288 with 1 Axes>"
      ]
     },
     "metadata": {
      "needs_background": "light"
     },
     "output_type": "display_data"
    }
   ],
   "source": [
    "np.random.seed(42)\n",
    "\n",
    "# the quantum circuit has 2*n*d parameters\n",
    "number_of_parameters = 2 * number_of_qubits * number_of_layers\n",
    "\n",
    "# define value for the initial parameters\n",
    "parameters = np.random.uniform(0, 2 * np.pi, size=number_of_parameters)\n",
    "\n",
    "# get the model dict using our function\n",
    "model_dict = get_model_dict(circuit, parameters)\n",
    "\n",
    "# for convenience sort by binary order\n",
    "model_dict = dict(sorted(model_dict.items()))\n",
    "\n",
    "# do the plotting\n",
    "fig, ax = plt.subplots(1, 1)\n",
    "\n",
    "plt.bar(\n",
    "    training_data_dict.keys(),\n",
    "    np.array(list(training_data_dict.values()))\n",
    "    / sum(training_data_dict.values()),  # turn the counts into probabilities\n",
    "    alpha=0.5,\n",
    "    edgecolor=\"royalblue\",\n",
    "    linewidth=2,\n",
    "    label=\"Training Distribution\",\n",
    ")\n",
    "plt.bar(\n",
    "    model_dict.keys(),\n",
    "    np.array(list(model_dict.values()))\n",
    "    / sum(model_dict.values()),  # turn the counts into probabilities\n",
    "    alpha=0.5,\n",
    "    edgecolor=\"red\",\n",
    "    linewidth=2,\n",
    "    label=\"Model Distribution\",\n",
    ")\n",
    "\n",
    "plt.xticks(rotation=\"vertical\")\n",
    "plt.legend(fontsize=15)\n",
    "ax.set_ylabel(\"Counts\", fontsize=16)\n",
    "ax.set_xlabel(\"Outcome\", fontsize=16)\n",
    "ax.tick_params(labelsize=14)\n",
    "plt.ylim(0, 0.30)\n",
    "plt.show()"
   ]
  },
  {
   "cell_type": "markdown",
   "metadata": {
    "id": "2uzrbrHRf60l"
   },
   "source": [
    "A crucial component of our generative modeling task is the loss function that we optimize to learn the data. Here, we use the KL divergence \n",
    "\n",
    "$$\\text{KL}(p_{data}, p_{model}) = \\sum_{x\\sim \\mathcal{D}} \\left[ p_{data}(x) \\log(p_{data}(x)) - p_{data}(x) \\log(p_{model}(x)) \\right]$$\n",
    "\n",
    "which measures the similarity between data generated from our model and from the dataset. The KL divergence approaches $0$ if the distributions match perfectly, i.e.,  $p_{data} = p_{model}$. "
   ]
  },
  {
   "cell_type": "code",
   "execution_count": 8,
   "metadata": {
    "id": "fYyhQTBZgtMU"
   },
   "outputs": [],
   "source": [
    "def kl_divergence(data_distribution, model_distribution):\n",
    "    # we will require a small offset \"e\" to avoid possible log(0) singularities\n",
    "    e = 1e-6\n",
    "\n",
    "    # make sure the values in the dictionaries add up to 1\n",
    "    sum_data = sum(data_distribution.values())\n",
    "    sum_model = sum(model_distribution.values())\n",
    "    for bin_outcome, count in data_distribution.items():\n",
    "        data_distribution[bin_outcome] = max(count / sum_data, e)\n",
    "    for bin_outcome, count in model_distribution.items():\n",
    "        model_distribution[bin_outcome] = max(count / sum_model, e)\n",
    "\n",
    "    # calculate the first term in the KL divergence formula\n",
    "    term1 = 0\n",
    "    for bin_outcome, prob in data_distribution.items():\n",
    "        term1 += prob * np.log(prob)\n",
    "\n",
    "    # calculate the second term in the KL divergence formula\n",
    "    term2 = 0\n",
    "    for bin_outcome, prob in data_distribution.items():\n",
    "        term2 += prob * np.log(model_distribution.get(bin_outcome, e))\n",
    "\n",
    "    return term1 - term2"
   ]
  },
  {
   "cell_type": "markdown",
   "metadata": {
    "id": "8hnsSsZDgxYJ"
   },
   "source": [
    "For our random initial parameter guess we can estimate the KL divergence value and obtain:"
   ]
  },
  {
   "cell_type": "code",
   "execution_count": 9,
   "metadata": {
    "colab": {
     "base_uri": "https://localhost:8080/"
    },
    "executionInfo": {
     "elapsed": 7,
     "status": "ok",
     "timestamp": 1667649930299,
     "user": {
      "displayName": "Manuel Rudolph",
      "userId": "10788476904675569866"
     },
     "user_tz": -60
    },
    "id": "OEvMXEy7fZqX",
    "outputId": "146fefab-6b2b-4727-a8d1-456dfaa77bdb"
   },
   "outputs": [
    {
     "data": {
      "text/plain": [
       "1.4231586563831473"
      ]
     },
     "execution_count": 9,
     "metadata": {},
     "output_type": "execute_result"
    }
   ],
   "source": [
    "kl_divergence(training_data_dict, model_dict)"
   ]
  },
  {
   "cell_type": "markdown",
   "metadata": {
    "id": "XZbCfEP4g3NV"
   },
   "source": [
    "## Optimizing a quantum circuit generative model"
   ]
  },
  {
   "cell_type": "markdown",
   "metadata": {
    "id": "eyqaVMDWiGSY"
   },
   "source": [
    "Our goal now is to optimize the parameters of the quantum circuit with the goal of lowering the KL divergence. One approach for doing that is via *gradient descent*. Similarly to Part 2 of this tutorial series, we define a simple function to estimate a numerical gradient of the KL divergence using finite differences:\n",
    "\n",
    "$$ grad(\\text{KL})(x) \\equiv \\nabla \\text{KL}(x) \\approx \\frac{\\text{KL}(x+\\epsilon) - \\text{KL}(x+\\epsilon)}{2\\epsilon} $$\n",
    "\n",
    "with a small $\\epsilon$ (epsilon)."
   ]
  },
  {
   "cell_type": "code",
   "execution_count": 10,
   "metadata": {
    "id": "GUbAkVY7gp7i"
   },
   "outputs": [],
   "source": [
    "def calculate_gradient(model_parameters, circuit, finite_distance_eps):\n",
    "    gradient_vector = np.zeros(len(model_parameters))\n",
    "\n",
    "    # loop over all parameters\n",
    "    for kk in range(len(model_parameters)):\n",
    "        # define the eps vector in the direction of the parameter\n",
    "        delta_vector = np.zeros(len(model_parameters))\n",
    "        delta_vector[kk] = finite_distance_eps\n",
    "\n",
    "        # add or subtract eps from the parameter\n",
    "        params_plus = model_parameters + delta_vector\n",
    "        params_minus = model_parameters - delta_vector\n",
    "\n",
    "        # get the corresponding measurements from the quantum circuit\n",
    "        model_dict_plus = get_model_dict(circuit, params_plus)\n",
    "        model_dict_minus = get_model_dict(circuit, params_minus)\n",
    "\n",
    "        # calculate the KL divergence values\n",
    "        kl_plus = kl_divergence(training_data_dict, model_dict_plus)\n",
    "        kl_minus = kl_divergence(training_data_dict, model_dict_minus)\n",
    "\n",
    "        # calculate the finite difference gradient\n",
    "        gradient = (kl_plus - kl_minus) / (2 * finite_distance_eps)\n",
    "        gradient_vector[kk] = gradient\n",
    "\n",
    "    return gradient_vector"
   ]
  },
  {
   "cell_type": "markdown",
   "metadata": {
    "id": "YCmLpe9YkUxY"
   },
   "source": [
    "This time, we choose $\\epsilon = 0.05$, which is a little larger than last time. We do this because we want to be able to confidently differentiate the two evaluations of the model at $2\\epsilon$ different parameters with a finite number of samples from the quantum computer."
   ]
  },
  {
   "cell_type": "code",
   "execution_count": 11,
   "metadata": {
    "id": "_5ht01MgkQM7"
   },
   "outputs": [],
   "source": [
    "eps = 5e-2"
   ]
  },
  {
   "cell_type": "markdown",
   "metadata": {
    "id": "g54nLEi7k1bo"
   },
   "source": [
    "And as in Part 2, we define a simple gradient descent algorithm via\n",
    "\n",
    "$$ \\theta^{(t+1)} = \\theta^{(t)} - \\eta\\cdot \\nabla\\text{KL}(x; \\theta^{(t)}),$$\n",
    "\n",
    "with a _learning rate_ $\\eta$ (eta), where $t$ is the training iteration index."
   ]
  },
  {
   "cell_type": "code",
   "execution_count": 12,
   "metadata": {},
   "outputs": [],
   "source": [
    "# to keep track of the progress\n",
    "from tqdm import tqdm"
   ]
  },
  {
   "cell_type": "code",
   "execution_count": 13,
   "metadata": {
    "colab": {
     "base_uri": "https://localhost:8080/"
    },
    "executionInfo": {
     "elapsed": 68615,
     "status": "ok",
     "timestamp": 1667648823227,
     "user": {
      "displayName": "Manuel Rudolph",
      "userId": "10788476904675569866"
     },
     "user_tz": -60
    },
    "id": "Y81j42uhkqTv",
    "outputId": "1dd435f8-d1a4-4cce-8f27-b3f2cdf6a719"
   },
   "outputs": [
    {
     "name": "stderr",
     "output_type": "stream",
     "text": [
      "100%|████████████████████████████████████████████████████████████████████████████████| 100/100 [01:09<00:00,  1.43it/s]"
     ]
    },
    {
     "name": "stdout",
     "output_type": "stream",
     "text": [
      "CPU times: total: 1min 9s\n",
      "Wall time: 1min 9s\n"
     ]
    },
    {
     "name": "stderr",
     "output_type": "stream",
     "text": [
      "\n"
     ]
    }
   ],
   "source": [
    "%%time\n",
    "\n",
    "# generate initial random parameters\n",
    "np.random.seed(42)\n",
    "parameters = np.random.uniform(0, 2 * np.pi, size=number_of_parameters)\n",
    "\n",
    "# learning rate and number of iterations\n",
    "learning_rate = 0.1\n",
    "T = 100\n",
    "\n",
    "all_kls = []\n",
    "\n",
    "# evaluate and record the initial KL divergence loss\n",
    "model_dict = get_model_dict(circuit, parameters)\n",
    "all_kls.append(kl_divergence(training_data_dict, model_dict))\n",
    "\n",
    "# train!\n",
    "for t in tqdm(range(T)):\n",
    "    # one gradient descent step\n",
    "    gradient_vector = calculate_gradient(parameters, circuit, eps)\n",
    "    parameters -= learning_rate * gradient_vector\n",
    "\n",
    "    # evaluate and record the KL divergence loss\n",
    "    model_dict = get_model_dict(circuit, parameters)\n",
    "    all_kls.append(kl_divergence(training_data_dict, model_dict))\n",
    "\n",
    "\n",
    "final_parameters = parameters.copy()"
   ]
  },
  {
   "cell_type": "markdown",
   "metadata": {
    "id": "nJAmJ9kblmDV"
   },
   "source": [
    "And plot up the optimization results:"
   ]
  },
  {
   "cell_type": "code",
   "execution_count": 14,
   "metadata": {
    "colab": {
     "base_uri": "https://localhost:8080/",
     "height": 289
    },
    "executionInfo": {
     "elapsed": 21,
     "status": "ok",
     "timestamp": 1667648823229,
     "user": {
      "displayName": "Manuel Rudolph",
      "userId": "10788476904675569866"
     },
     "user_tz": -60
    },
    "id": "z6eRRJZBlhu-",
    "outputId": "be12c364-5c0e-4ca0-bcaf-c86d062c0cc2"
   },
   "outputs": [
    {
     "data": {
      "image/png": "[encoded data removed]",
      "text/plain": [
       "<Figure size 432x288 with 1 Axes>"
      ]
     },
     "metadata": {
      "needs_background": "light"
     },
     "output_type": "display_data"
    }
   ],
   "source": [
    "fig, ax = plt.subplots(1, 1)\n",
    "\n",
    "plt.plot(all_kls, linewidth=3)\n",
    "\n",
    "ax.set_ylabel(\"KL Divergence\", fontsize=16)\n",
    "ax.set_xlabel(\"Iteration $t$\", fontsize=16)\n",
    "plt.ylim(0, 2)\n",
    "plt.show()"
   ]
  },
  {
   "cell_type": "markdown",
   "metadata": {
    "id": "icJDzuhfm-yB"
   },
   "source": [
    "This is a lot of improvement in terms of the KL divergence! To visually confirm that the freshly optimized model represents the data distribution much better, let us plot the model distribution together with the training data."
   ]
  },
  {
   "cell_type": "code",
   "execution_count": 15,
   "metadata": {
    "colab": {
     "base_uri": "https://localhost:8080/",
     "height": 315
    },
    "executionInfo": {
     "elapsed": 757,
     "status": "ok",
     "timestamp": 1667650233117,
     "user": {
      "displayName": "Manuel Rudolph",
      "userId": "10788476904675569866"
     },
     "user_tz": -60
    },
    "id": "jdb7I3B5loOY",
    "outputId": "1aa1f1bc-e0d1-4aab-a2c8-e2ee207d0450"
   },
   "outputs": [
    {
     "data": {
      "image/png": "[encoded data removed]",
      "text/plain": [
       "<Figure size 432x288 with 1 Axes>"
      ]
     },
     "metadata": {
      "needs_background": "light"
     },
     "output_type": "display_data"
    }
   ],
   "source": [
    "np.random.seed(42)\n",
    "\n",
    "# get the model dict using our function\n",
    "model_dict = get_model_dict(circuit, final_parameters)\n",
    "\n",
    "# for convenience sort by binary order\n",
    "model_dict = dict(sorted(model_dict.items()))\n",
    "\n",
    "# do the plotting\n",
    "fig, ax = plt.subplots(1, 1)\n",
    "\n",
    "x_points = np.linspace(-1.5, 1.5, 1000)\n",
    "\n",
    "plt.bar(\n",
    "    training_data_dict.keys(),\n",
    "    np.array(list(training_data_dict.values()))\n",
    "    / sum(training_data_dict.values()),  # turn the counts into probabilities\n",
    "    alpha=0.5,\n",
    "    edgecolor=\"royalblue\",\n",
    "    linewidth=2,\n",
    "    label=\"Training Distribution\",\n",
    ")\n",
    "plt.bar(\n",
    "    model_dict.keys(),\n",
    "    np.array(list(model_dict.values()))\n",
    "    / sum(model_dict.values()),  # turn the counts into probabilities\n",
    "    alpha=0.5,\n",
    "    edgecolor=\"red\",\n",
    "    linewidth=2,\n",
    "    label=\"Optimized Model Distribution, d=2\",\n",
    ")\n",
    "\n",
    "plt.xticks(rotation=\"vertical\")\n",
    "plt.legend(fontsize=15)\n",
    "ax.set_ylabel(\"Counts\", fontsize=16)\n",
    "ax.set_xlabel(\"Outcome\", fontsize=16)\n",
    "ax.tick_params(labelsize=14)\n",
    "plt.ylim(0, 0.30)\n",
    "plt.show()"
   ]
  },
  {
   "cell_type": "markdown",
   "metadata": {
    "id": "Z0ZwnJjGnmYp"
   },
   "source": [
    "This model distribution resembles the training data distribution pretty well, and our trained quantum circuit could already be used as a generative model.\n",
    "\n",
    "But let us take a few steps back and think about about the structure of the quantum circuit and how it may affect performance."
   ]
  },
  {
   "cell_type": "markdown",
   "metadata": {
    "id": "W9F4mHPYoA-A"
   },
   "source": [
    "## The role of entanglement"
   ]
  },
  {
   "cell_type": "markdown",
   "metadata": {
    "id": "wgFL2zbxoF1p"
   },
   "source": [
    "Remember that we defined the number of layers $d=2$, which gave us the circuit layout that you can see above. How would this all have worked if we used $d=1$, i.e., only one layer of entangling *CNOT* gates? This exploration is similar to our QML 104 tutorial, which you can find [here](https://alqor.io/tutorials/a-beginners-guide-to-quantum-machine-learning)."
   ]
  },
  {
   "cell_type": "code",
   "execution_count": 16,
   "metadata": {
    "colab": {
     "base_uri": "https://localhost:8080/",
     "height": 276
    },
    "executionInfo": {
     "elapsed": 1011,
     "status": "ok",
     "timestamp": 1667648824615,
     "user": {
      "displayName": "Manuel Rudolph",
      "userId": "10788476904675569866"
     },
     "user_tz": -60
    },
    "id": "xaqnacWVnZ4_",
    "outputId": "1d8c7678-14e9-4934-a937-e46a1cae2914"
   },
   "outputs": [
    {
     "data": {
      "image/png": "[encoded data removed]",
      "text/plain": [
       "<Figure size 718.879x325.08 with 1 Axes>"
      ]
     },
     "execution_count": 16,
     "metadata": {},
     "output_type": "execute_result"
    }
   ],
   "source": [
    "number_of_layers = 1\n",
    "\n",
    "circuit1 = get_circuit(number_of_qubits, number_of_layers)\n",
    "circuit1.draw(\"mpl\")"
   ]
  },
  {
   "cell_type": "markdown",
   "metadata": {
    "id": "CBhuRZ5Nol7P"
   },
   "source": [
    "Train it ..."
   ]
  },
  {
   "cell_type": "code",
   "execution_count": 17,
   "metadata": {
    "colab": {
     "base_uri": "https://localhost:8080/"
    },
    "executionInfo": {
     "elapsed": 35283,
     "status": "ok",
     "timestamp": 1667648859888,
     "user": {
      "displayName": "Manuel Rudolph",
      "userId": "10788476904675569866"
     },
     "user_tz": -60
    },
    "id": "2C-RpGO3odwX",
    "outputId": "c1ea5a51-3323-447b-a894-7abcd022732c"
   },
   "outputs": [
    {
     "name": "stderr",
     "output_type": "stream",
     "text": [
      "100%|████████████████████████████████████████████████████████████████████████████████| 100/100 [00:35<00:00,  2.85it/s]"
     ]
    },
    {
     "name": "stdout",
     "output_type": "stream",
     "text": [
      "CPU times: total: 35 s\n",
      "Wall time: 35.1 s\n"
     ]
    },
    {
     "name": "stderr",
     "output_type": "stream",
     "text": [
      "\n"
     ]
    }
   ],
   "source": [
    "%%time\n",
    "\n",
    "number_of_parameters1 = 2 * number_of_qubits * number_of_layers\n",
    "\n",
    "# generate initial random parameters\n",
    "np.random.seed(42)\n",
    "parameters = np.random.uniform(0, 2 * np.pi, size=number_of_parameters1)\n",
    "\n",
    "# learning rate and number of iterations\n",
    "learning_rate = 0.1\n",
    "T = 100\n",
    "\n",
    "all_kls1 = []\n",
    "\n",
    "# evaluate and record the initial KL divergence loss\n",
    "model_dict = get_model_dict(circuit1, parameters)\n",
    "all_kls1.append(kl_divergence(training_data_dict, model_dict))\n",
    "\n",
    "# train!\n",
    "for t in tqdm(range(T)):\n",
    "    # one gradient descent step\n",
    "    gradient_vector = calculate_gradient(parameters, circuit1, eps)\n",
    "    parameters -= learning_rate * gradient_vector\n",
    "\n",
    "    # evaluate and record the KL divergence loss\n",
    "    model_dict = get_model_dict(circuit1, parameters)\n",
    "    all_kls1.append(kl_divergence(training_data_dict, model_dict))\n",
    "\n",
    "\n",
    "final_parameters1 = parameters.copy()"
   ]
  },
  {
   "cell_type": "markdown",
   "metadata": {
    "id": "3MJuEonopIHV"
   },
   "source": [
    "... and plot it together with the previous run with $d=2$:"
   ]
  },
  {
   "cell_type": "code",
   "execution_count": 18,
   "metadata": {
    "colab": {
     "base_uri": "https://localhost:8080/",
     "height": 289
    },
    "executionInfo": {
     "elapsed": 490,
     "status": "ok",
     "timestamp": 1667650031720,
     "user": {
      "displayName": "Manuel Rudolph",
      "userId": "10788476904675569866"
     },
     "user_tz": -60
    },
    "id": "-_Y8TZs_o8Bz",
    "outputId": "59447bfa-3508-4c73-f876-22e475973364"
   },
   "outputs": [
    {
     "data": {
      "image/png": "[encoded data removed]",
      "text/plain": [
       "<Figure size 432x288 with 1 Axes>"
      ]
     },
     "metadata": {
      "needs_background": "light"
     },
     "output_type": "display_data"
    }
   ],
   "source": [
    "fig, ax = plt.subplots(1, 1)\n",
    "\n",
    "plt.plot(all_kls1, linewidth=3, label=\"d=1 layer\")\n",
    "plt.plot(all_kls, linewidth=3, label=\"d=2 layers\")\n",
    "\n",
    "ax.set_ylabel(\"KL Divergence\", fontsize=16)\n",
    "ax.set_xlabel(\"Iteration $t$\", fontsize=16)\n",
    "plt.legend(fontsize=14)\n",
    "plt.ylim(0, 2)\n",
    "plt.show()"
   ]
  },
  {
   "cell_type": "markdown",
   "metadata": {
    "id": "ByuZIzpjqB5a"
   },
   "source": [
    "We can see that $d=2$ reaches slightly better KL divergence values than $d=1$. Let's try the more adventurous $d = 5$ and compare."
   ]
  },
  {
   "cell_type": "code",
   "execution_count": 19,
   "metadata": {
    "id": "lXIjtuWSrepB"
   },
   "outputs": [],
   "source": [
    "number_of_layers = 5\n",
    "\n",
    "circuit5 = get_circuit(number_of_qubits, number_of_layers)"
   ]
  },
  {
   "cell_type": "code",
   "execution_count": 20,
   "metadata": {
    "colab": {
     "base_uri": "https://localhost:8080/"
    },
    "executionInfo": {
     "elapsed": 183813,
     "status": "ok",
     "timestamp": 1667649044084,
     "user": {
      "displayName": "Manuel Rudolph",
      "userId": "10788476904675569866"
     },
     "user_tz": -60
    },
    "id": "ksOMSECDrkVp",
    "outputId": "473b78b4-80ff-4544-8d0b-2c1cb1191386"
   },
   "outputs": [
    {
     "name": "stderr",
     "output_type": "stream",
     "text": [
      "100%|████████████████████████████████████████████████████████████████████████████████| 100/100 [03:21<00:00,  2.01s/it]"
     ]
    },
    {
     "name": "stdout",
     "output_type": "stream",
     "text": [
      "CPU times: total: 3min 20s\n",
      "Wall time: 3min 21s\n"
     ]
    },
    {
     "name": "stderr",
     "output_type": "stream",
     "text": [
      "\n"
     ]
    }
   ],
   "source": [
    "%%time\n",
    "\n",
    "number_of_parameters5 = 2 * number_of_qubits * number_of_layers\n",
    "\n",
    "# generate initial random parameters\n",
    "np.random.seed(42)\n",
    "parameters = np.random.uniform(0, 2 * np.pi, size=number_of_parameters5)\n",
    "\n",
    "# learning rate and number of iterations\n",
    "learning_rate = 0.1\n",
    "T = 100\n",
    "\n",
    "all_kls5 = []\n",
    "\n",
    "# evaluate and record the initial KL divergence loss\n",
    "model_dict = get_model_dict(circuit5, parameters)\n",
    "all_kls5.append(kl_divergence(training_data_dict, model_dict))\n",
    "\n",
    "# train!\n",
    "for t in tqdm(range(T)):\n",
    "    # one gradient descent step\n",
    "    gradient_vector = calculate_gradient(parameters, circuit5, eps)\n",
    "    parameters -= learning_rate * gradient_vector\n",
    "\n",
    "    # evaluate and record the KL divergence loss\n",
    "    model_dict = get_model_dict(circuit5, parameters)\n",
    "    all_kls5.append(kl_divergence(training_data_dict, model_dict))\n",
    "\n",
    "\n",
    "final_parameters5 = parameters.copy()"
   ]
  },
  {
   "cell_type": "markdown",
   "metadata": {
    "id": "_CD36MFArwmy"
   },
   "source": [
    "Plot up all KL divergences that we collected:"
   ]
  },
  {
   "cell_type": "code",
   "execution_count": 21,
   "metadata": {
    "colab": {
     "base_uri": "https://localhost:8080/",
     "height": 289
    },
    "executionInfo": {
     "elapsed": 281,
     "status": "ok",
     "timestamp": 1667650246477,
     "user": {
      "displayName": "Manuel Rudolph",
      "userId": "10788476904675569866"
     },
     "user_tz": -60
    },
    "id": "4Yoii2tUrurK",
    "outputId": "4cbc7ea2-d59e-44ef-cb78-420129552475"
   },
   "outputs": [
    {
     "data": {
      "image/png": "[encoded data removed]",
      "text/plain": [
       "<Figure size 432x288 with 1 Axes>"
      ]
     },
     "metadata": {
      "needs_background": "light"
     },
     "output_type": "display_data"
    }
   ],
   "source": [
    "fig, ax = plt.subplots(1, 1)\n",
    "\n",
    "plt.plot(all_kls1, linewidth=3, label=\"d=1 layers\")\n",
    "plt.plot(all_kls, linewidth=3, label=\"d=2 layers\")\n",
    "plt.plot(all_kls5, linewidth=3, label=\"d=5 layers\")\n",
    "\n",
    "ax.set_ylabel(\"KL Divergence\", fontsize=16)\n",
    "ax.set_xlabel(\"Iteration $t$\", fontsize=16)\n",
    "plt.legend(fontsize=14)\n",
    "plt.ylim(0, 2)\n",
    "plt.show()"
   ]
  },
  {
   "cell_type": "markdown",
   "metadata": {
    "id": "QD5GehxUr9B1"
   },
   "source": [
    "$d=5$ enables the KL divergence to go much lower, and approach the perfect value of $KL = 0$. The corresponding model distribution looks like this:"
   ]
  },
  {
   "cell_type": "code",
   "execution_count": 22,
   "metadata": {
    "colab": {
     "base_uri": "https://localhost:8080/",
     "height": 315
    },
    "executionInfo": {
     "elapsed": 489,
     "status": "ok",
     "timestamp": 1667650263307,
     "user": {
      "displayName": "Manuel Rudolph",
      "userId": "10788476904675569866"
     },
     "user_tz": -60
    },
    "id": "qizVEgT4pDz1",
    "outputId": "384571d0-2af9-4f00-e620-ab41f5ef94d8"
   },
   "outputs": [
    {
     "data": {
      "image/png": "[encoded data removed]",
      "text/plain": [
       "<Figure size 432x288 with 1 Axes>"
      ]
     },
     "metadata": {
      "needs_background": "light"
     },
     "output_type": "display_data"
    }
   ],
   "source": [
    "np.random.seed(42)\n",
    "\n",
    "# get the model dict using our function\n",
    "model_dict = get_model_dict(circuit5, final_parameters5)\n",
    "\n",
    "# for convenience sort by binary order\n",
    "model_dict = dict(sorted(model_dict.items()))\n",
    "\n",
    "# do the plotting\n",
    "fig, ax = plt.subplots(1, 1)\n",
    "\n",
    "plt.bar(\n",
    "    training_data_dict.keys(),\n",
    "    np.array(list(training_data_dict.values()))\n",
    "    / sum(training_data_dict.values()),  # turn the counts into probabilities\n",
    "    alpha=0.5,\n",
    "    edgecolor=\"royalblue\",\n",
    "    linewidth=2,\n",
    "    label=\"Training Distribution\",\n",
    ")\n",
    "plt.bar(\n",
    "    model_dict.keys(),\n",
    "    np.array(list(model_dict.values()))\n",
    "    / sum(model_dict.values()),  # turn the counts into probabilities\n",
    "    alpha=0.5,\n",
    "    edgecolor=\"red\",\n",
    "    linewidth=2,\n",
    "    label=\"Optimized Model Distribution, d=5\",\n",
    ")\n",
    "\n",
    "plt.xticks(rotation=\"vertical\")\n",
    "plt.legend(fontsize=15)\n",
    "ax.set_ylabel(\"Counts\", fontsize=16)\n",
    "ax.set_xlabel(\"Outcome\", fontsize=16)\n",
    "ax.tick_params(labelsize=14)\n",
    "plt.ylim(0, 0.30)\n",
    "plt.show()"
   ]
  },
  {
   "cell_type": "markdown",
   "metadata": {
    "id": "qfaJdDJosQvB"
   },
   "source": [
    "This really is a much better fit on the training distribution $p_{data}$, just as the low KL divergence indicated. But why? Is it just the additional parameters $\\theta$ in the quantum circuit with more layers? No! In fact, without any entangling gates, the additional parameters would be redundant. What makes this quantum circuit model powerful (also called more *expressive*) is the entangling gates sandwiched between parametrized single-qubit gates. Lets think about this on the level of a two-qubit *wavefunction*.\n"
   ]
  },
  {
   "cell_type": "markdown",
   "metadata": {
    "id": "ljAguckvxffG"
   },
   "source": [
    "## Optional discussion on entanglement\n",
    "\n",
    "**NOTE: If the following calculation is too involved for you, don't worry! You will be still be able to take away the most important message.**"
   ]
  },
  {
   "cell_type": "markdown",
   "metadata": {
    "id": "NfNOUpk_uUpj"
   },
   "source": [
    "Assume that you want to learn the target distribution that contains $50\\%$ $00$ and $50\\%$ $11$. You might notice that this is the distribution that you would expect if you measured a *Bell state*. See our recent tutorial on this very special state [here](bell).\n",
    "\n",
    "A general two-qubit wavefunction can be written as:\n",
    "\n",
    "$$\n",
    "|\\psi\\rangle = \\alpha_{00}|00\\rangle + \\alpha_{01}|01\\rangle + \\alpha_{10}|10\\rangle + \\alpha_{00}|11\\rangle\n",
    "$$\n",
    "\n",
    "where all $\\alpha$ are complex numbers and their absolute squares $|\\alpha|^2$ add up to $1$. If the two qubits are not entangled, then by definition, you can split up the state of both qubits into the product of the individual states:\n",
    "\n",
    "$$\n",
    "|\\psi\\rangle = |\\psi\\rangle_1 \\otimes |\\psi\\rangle_2\n",
    "$$\n",
    "\n",
    "Writing each state with it's own amplitudes $\\alpha^{(1)}$ and $\\alpha^{(2)}$, respectively, we can write\n",
    "\n",
    "$$\n",
    "|\\psi\\rangle = (\\alpha^{(1)}_0|0\\rangle_1 + \\alpha^{(1)}_1|1\\rangle_1) \\otimes (\\alpha^{(2)}_0|0\\rangle_2 + \\alpha^{(2)}_1|1\\rangle_2)\n",
    "$$\n",
    "\n",
    "**Question**: Can you find a combination of $\\alpha^{(1)}_0, \\alpha^{(1)}_1, \\alpha^{(2)}_0, \\alpha^{(2)}_1$ such that you can multiply the terms back together and achieve $|\\alpha^{(1)}_0 \\alpha^{(2)}_0|^2 = |\\alpha^{(1)}_1 \\alpha^{(2)}_1|^2 = 0.5$, and all other terms are $0$? Such a state would create the desired target distribution."
   ]
  },
  {
   "cell_type": "markdown",
   "metadata": {
    "id": "NwoPygAqwfRn"
   },
   "source": [
    "No, that is not possible! You need at least one *CNOT* gate, that entangles the two qubits.\n",
    "\n",
    "The important message is: \n",
    "**Without any entangling gates, you are very restricted in the distributions $p_{model}$ that you can attain. And inversely, increasing the number of entangling gates in your quantum circuit allows you to model increasingly complicated distributions.**"
   ]
  },
  {
   "cell_type": "markdown",
   "metadata": {
    "id": "m6bfoVFTgTRM"
   },
   "source": [
    "## Conclusion"
   ]
  },
  {
   "cell_type": "markdown",
   "metadata": {
    "id": "Tu-fwo2Uuhqd"
   },
   "source": [
    "Quantum circuit generative models utilize the phenomena of entanglement and wavefunction collapse (i.e., the measurement) as a resource, and are thus promissing candidates for efficiently learning and sampling from complicated discrete probability distributions. In this tutorial, you learned how to train a quantum circuit generative model using the KL divergence loss function, and how more entanglement enables the model to learn continuously better models of the training data distribution.\n",
    "\\\n",
    "\\\n",
    "But there is much more to learn. For example, to we really want to reach $KL = 0$ on the training dataset? Can more entanglement be detrimental for training? How do you choose a good ansatz for a particular dataset? Does KL divergence training scale well as we increase the number of qubits? And much more...\n",
    "\\\n",
    "\\\n",
    "Stay tuned for our next and final tutorial in the series of *Generative Modeling with Quantum Hardware*, where we explore cutting edge research in the domain quantum circuit generative models. See you soon!"
   ]
  }
 ],
 "metadata": {
  "colab": {
   "provenance": [
    {
     "file_id": "1qRf6DX6AxUsX8pH--Q8S2oWdCvsg0ZKn",
     "timestamp": 1669209524575
    }
   ]
  },
  "kernelspec": {
   "display_name": "Python 3 (ipykernel)",
   "language": "python",
   "name": "python3"
  },
  "language_info": {
   "codemirror_mode": {
    "name": "ipython",
    "version": 3
   },
   "file_extension": ".py",
   "mimetype": "text/x-python",
   "name": "python",
   "nbconvert_exporter": "python",
   "pygments_lexer": "ipython3",
   "version": "3.10.8"
  }
 },
 "nbformat": 4,
 "nbformat_minor": 4
}
