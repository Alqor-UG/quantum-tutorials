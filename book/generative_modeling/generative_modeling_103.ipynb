{
 "cells": [
  {
   "cell_type": "markdown",
   "metadata": {
    "id": "9s1037rMmiNh"
   },
   "source": [
    "# Tutorial 3 – An untrained generative model with qubits"
   ]
  },
  {
   "cell_type": "markdown",
   "metadata": {
    "id": "c908sMsk9PcC"
   },
   "source": [
    "Welcome back to our tutorial on generative modeling with quantum hardware. So far, we have learned that, in a generative machine learning task, you receive data and the goal is to learn a model of the true distribution underlying the data. Then, you want to be able to generate new data from this model, which has similar characteristics, but is not necessarily inside the training set.\\\n",
    "The moving pieces are:\n",
    "- **The dataset**. What type of data is it?\n",
    "- **The model**. Is it flexible enough to approximate the data distribution well? Or is it highly specialized like in the earlier gaussian case?\n",
    "- **The loss function**. How do you estimate the distance between the training data samples and your model distribution?\n",
    "- **The optimization algorithm**. How do you get from (potentially very bad) initial parameters to a good set of parameters?"
   ]
  },
  {
   "cell_type": "markdown",
   "metadata": {
    "id": "uqFionmu92VS"
   },
   "source": [
    "In this tutorial, we will be focusing on the **model** component, and replace the gaussian probability density function of the last two tutorials with a **quantum circuit**. In turn, we will also have a look at how to adapt the **dataset** such that it is compatible with the quantum circuit model.\n",
    "\n",
    "To simulate the outcomes of quantum circuits, we will be using the *qiskit* Python library. See more about **qiskit** [here](https://qiskit.org/)."
   ]
  },
  {
   "cell_type": "markdown",
   "metadata": {
    "id": "b-UwFakB-Y6G"
   },
   "source": [
    "Lets first install **qiskit** and import the necessary Python libraries."
   ]
  },
  {
   "cell_type": "code",
   "execution_count": 1,
   "metadata": {
    "id": "OYcBXANT9grE"
   },
   "outputs": [],
   "source": [
    "# !pip install qiskit\n",
    "# !pip install pylatexenc"
   ]
  },
  {
   "cell_type": "code",
   "execution_count": 2,
   "metadata": {
    "id": "fB5IK2m8-_Bf"
   },
   "outputs": [],
   "source": [
    "import numpy as np\n",
    "import matplotlib.pyplot as plt\n",
    "\n",
    "from qiskit.circuit import QuantumCircuit, Parameter\n",
    "from qiskit import Aer"
   ]
  },
  {
   "cell_type": "markdown",
   "metadata": {
    "id": "dV9QCj_hn-mL"
   },
   "source": [
    "## A brief reminder of quantum circuits "
   ]
  },
  {
   "cell_type": "markdown",
   "metadata": {
    "id": "QspDcCxQ_GJG"
   },
   "source": [
    "In our [Quantum Machine Learning Tutorial 101](qml101), we presented this minimal example of a quantum circuit with one qubit and one parameter $\\theta$.  "
   ]
  },
  {
   "cell_type": "code",
   "execution_count": 3,
   "metadata": {
    "colab": {
     "base_uri": "https://localhost:8080/",
     "height": 140
    },
    "executionInfo": {
     "elapsed": 1438,
     "status": "ok",
     "timestamp": 1666340419209,
     "user": {
      "displayName": "Manuel Rudolph",
      "userId": "10788476904675569866"
     },
     "user_tz": -120
    },
    "id": "XbKp3ssW-1hw",
    "outputId": "9456ef6a-e837-43ae-c5ba-c047941b3848"
   },
   "outputs": [
    {
     "data": {
      "image/png": "[encoded data removed]",
      "text/plain": [
       "<Figure size 297.479x144.48 with 1 Axes>"
      ]
     },
     "execution_count": 3,
     "metadata": {},
     "output_type": "execute_result"
    }
   ],
   "source": [
    "# define a symbolic parameter theta\n",
    "theta = Parameter(r\"$\\theta$\")\n",
    "\n",
    "# create a quantum circuit with one qubit\n",
    "circuit = QuantumCircuit(1)\n",
    "# apply an X rotation with the symbolic parameter theta\n",
    "circuit.rx(theta, 0)\n",
    "# define the measurement\n",
    "circuit.measure_all()\n",
    "# draw the resulting circuit\n",
    "circuit.draw(\"mpl\")"
   ]
  },
  {
   "cell_type": "markdown",
   "metadata": {
    "id": "53IiqvcNAIdL"
   },
   "source": [
    "This diagram represents the what we just coded up using **qiskit**: We start with one qubit, apply one gate, and then measure it. Let us now find out how the value of $\\theta$ modulates the distribution of outcomes."
   ]
  },
  {
   "cell_type": "markdown",
   "metadata": {
    "id": "Eh12xYv8IZnB"
   },
   "source": [
    "To run the circuit, we need to import and initialize a simulator backend:"
   ]
  },
  {
   "cell_type": "code",
   "execution_count": 4,
   "metadata": {
    "id": "1MnfTl1IAHMi"
   },
   "outputs": [],
   "source": [
    "simulator = Aer.get_backend(\"aer_simulator\")"
   ]
  },
  {
   "cell_type": "code",
   "execution_count": 5,
   "metadata": {
    "colab": {
     "base_uri": "https://localhost:8080/",
     "height": 359
    },
    "executionInfo": {
     "elapsed": 723,
     "status": "ok",
     "timestamp": 1666341118868,
     "user": {
      "displayName": "Manuel Rudolph",
      "userId": "10788476904675569866"
     },
     "user_tz": -120
    },
    "id": "XOYBsORT_Rkw",
    "outputId": "fa843691-8ee2-4827-d30b-51f4d6c9d503"
   },
   "outputs": [
    {
     "name": "stdout",
     "output_type": "stream",
     "text": [
      "The results for theta = 0.785 was: {'0': 844, '1': 156}\n",
      "The results for theta = 1.571 was: {'0': 530, '1': 470}\n",
      "The results for theta = 2.356 was: {'0': 143, '1': 857}\n"
     ]
    },
    {
     "data": {
      "image/png": "[encoded data removed]",
      "text/plain": [
       "<Figure size 1584x288 with 3 Axes>"
      ]
     },
     "metadata": {
      "needs_background": "light"
     },
     "output_type": "display_data"
    }
   ],
   "source": [
    "# to plot it up\n",
    "fig, (ax1, ax2, ax3) = plt.subplots(1, 3, figsize=(22,4))\n",
    "\n",
    "for ax, theta in zip((ax1, ax2, ax3), [np.pi*1/4, np.pi*1/2, np.pi*3/4]):\n",
    "\n",
    "    # bind the parameter theta of the circuit to pi/4\n",
    "    circuit_with_params = circuit.bind_parameters([theta])\n",
    "\n",
    "    # run the circuit and get the result\n",
    "    result = simulator.run(circuit_with_params, shots=1000).result()\n",
    "\n",
    "    # extract the measurement counts as a python dictionary\n",
    "    count_dict = result.get_counts()\n",
    "\n",
    "    # for convenience sort by binary order \n",
    "    count_dict = dict(sorted(count_dict.items()))\n",
    "\n",
    "    # print the counts\n",
    "    print(f\"The results for theta = {round(theta, 3)} was:\", count_dict)\n",
    "\n",
    "    ax.bar(\n",
    "      count_dict.keys(),\n",
    "      count_dict.values(),\n",
    "      alpha=0.5,\n",
    "      color=\"tab:orange\",\n",
    "      edgecolor=\"red\",\n",
    "      linewidth=2,\n",
    "    )\n",
    "    ax.set_title(rf\"$\\theta =${round(theta, 3)}\", fontsize=16)\n",
    "    ax.set_ylabel(\"Counts\", fontsize=16)\n",
    "    ax.set_xlabel(\"Outcome\", fontsize=16)\n",
    "    ax.tick_params(labelsize=14)\n",
    "plt.show()"
   ]
  },
  {
   "cell_type": "markdown",
   "metadata": {
    "id": "L_oKuzTAC0ss"
   },
   "source": [
    "It becomes clear that $\\theta$ controls the probability distribution over outcomes \"0\" or \"1\". $\\theta=\\frac{\\pi}{2}$ creates an equal superposition of \"0\" and \"1\" in the measurement basis, wheras $\\theta=\\frac{\\pi}{4}$ and $\\theta=\\frac{3\\pi}{2}$ had a larger probability for measuring \"0\" or \"1\", respectively. The slight discrepancy in the measurement outcomes from the exact probabilities, for example $50\\%$ \"0\" and $50\\%$ \"1\" for the $\\theta=\\frac{\\pi}{2}$ case, are due to the inherent randomness of quantum measurements. If you toss a coin 1000 times, the most likely individual outcome is 500/500, but you are very unlikely to get that perfect balance of outcomes and not any other outcome that is close to it. However, if you take more and more measurements, the observed probabilities of measurements will approach the exact probabilities of $50\\%$."
   ]
  },
  {
   "cell_type": "markdown",
   "metadata": {
    "id": "suY7kec4r3FB"
   },
   "source": [
    "## Designing and measuring a parametrized quantum circuit"
   ]
  },
  {
   "cell_type": "markdown",
   "metadata": {
    "id": "EolURpWMEVxu"
   },
   "source": [
    "Let us now write a function that returns a **qiskit** circuit with a flexible number of qubits $n$, and with varying *depth* $d$. The *depth* of a quantum circuit is a vague term for the number of gates in a quantum circuit, or, more commonly, how often a fixed structure of gates is repeated. These structures are commonly called circuit *layers*. Because we will be working with multiple qubits, the quantum circuit should also contain two-qubit *CNOT* gates. In addition to the $\\theta$ values of single-qubit gates controlling the measurement probabilities for each qubit, the *CNOT* gates correlate the measurement outcomes and create *entanglement* in the prepared quantum state. See our tutorial on [Bell's Game](https://alqor.io/tutorials/introduction-to-quantum-technologies/featured-tutorial-on-the-nobel-prize-2022-how-to-win-bells-game), which highlights the power of entanglement in light of the recent Nobel Prices in Physics."
   ]
  },
  {
   "cell_type": "code",
   "execution_count": 6,
   "metadata": {
    "id": "pgiqIGIIArh-"
   },
   "outputs": [],
   "source": [
    "def get_circuit(number_of_qubits, number_of_layers):\n",
    "\n",
    "    number_of_parameters = 2 * number_of_qubits * number_of_layers\n",
    "    thetas = [Parameter(r\"$\\theta$\" + f\"{ii+1}\") for ii in range(number_of_parameters)]\n",
    "\n",
    "    # initialize the qiskit circuit\n",
    "    circuit = QuantumCircuit(number_of_qubits)\n",
    "\n",
    "    parameter_counter = 0\n",
    "\n",
    "    # loop over the layers of the quantum circuit\n",
    "    for l in range(number_of_layers):\n",
    "\n",
    "        # apply a layer of RX rotations\n",
    "        for n in range(number_of_qubits):\n",
    "            circuit.rx(thetas[parameter_counter], n)\n",
    "            parameter_counter += 1\n",
    "\n",
    "        # apply a layer of RZ rotations\n",
    "        for n in range(number_of_qubits):\n",
    "            circuit.rz(thetas[parameter_counter], n)\n",
    "            parameter_counter += 1\n",
    "\n",
    "        # apply a layer of CNOTs\n",
    "        for n in range(number_of_qubits - 1):\n",
    "            circuit.cnot(n, n + 1)\n",
    "\n",
    "    # instructions to measure all qubits\n",
    "    circuit.measure_all()\n",
    "\n",
    "    return circuit"
   ]
  },
  {
   "cell_type": "markdown",
   "metadata": {
    "id": "LYC880CIHaVc"
   },
   "source": [
    "For $n=4$ qubits and $d=2$ layers, the quantum circuit looks like this:"
   ]
  },
  {
   "cell_type": "code",
   "execution_count": 7,
   "metadata": {
    "colab": {
     "base_uri": "https://localhost:8080/",
     "height": 276
    },
    "executionInfo": {
     "elapsed": 790,
     "status": "ok",
     "timestamp": 1666341667208,
     "user": {
      "displayName": "Manuel Rudolph",
      "userId": "10788476904675569866"
     },
     "user_tz": -120
    },
    "id": "uu9Bp2q3BNLk",
    "outputId": "0a2521d6-ad16-4d1b-fb73-4442aaaa8481"
   },
   "outputs": [
    {
     "data": {
      "image/png": "[encoded data removed]",
      "text/plain": [
       "<Figure size 959.679x325.08 with 1 Axes>"
      ]
     },
     "execution_count": 7,
     "metadata": {},
     "output_type": "execute_result"
    }
   ],
   "source": [
    "number_of_qubits = 4\n",
    "number_of_layers = 2\n",
    "\n",
    "circuit = get_circuit(number_of_qubits, number_of_layers)\n",
    "circuit.draw(\"mpl\")"
   ]
  },
  {
   "cell_type": "markdown",
   "metadata": {
    "id": "v3Izr4UQHv_G"
   },
   "source": [
    "You can see that there are $16$ $\\theta$ parameters $\\theta_1, \\dots \\theta_{16}$ in the circuit. In fact, the circuit has $2\\cdot n \\cdot d$ parameters in general. Let us select random parameters $\\theta_i \\in [0, 2\\pi]$ and observe the measurement outcome distribution."
   ]
  },
  {
   "cell_type": "code",
   "execution_count": 8,
   "metadata": {
    "colab": {
     "base_uri": "https://localhost:8080/",
     "height": 347
    },
    "executionInfo": {
     "elapsed": 246,
     "status": "ok",
     "timestamp": 1666341802001,
     "user": {
      "displayName": "Manuel Rudolph",
      "userId": "10788476904675569866"
     },
     "user_tz": -120
    },
    "id": "iegd-0nvGRyy",
    "outputId": "4193472b-e39a-4340-a247-1c6b02515aaa"
   },
   "outputs": [
    {
     "name": "stdout",
     "output_type": "stream",
     "text": [
      "The results was: {'1111': 283, '1011': 218, '1010': 23, '0001': 72, '0100': 63, '1100': 13, '0011': 77, '0101': 99, '0111': 14, '1110': 24, '0000': 67, '1001': 23, '0010': 6, '0110': 8, '1000': 4, '1101': 6}\n"
     ]
    },
    {
     "data": {
      "image/png": "[encoded data removed]",
      "text/plain": [
       "<Figure size 432x288 with 1 Axes>"
      ]
     },
     "metadata": {
      "needs_background": "light"
     },
     "output_type": "display_data"
    }
   ],
   "source": [
    "np.random.seed(42)\n",
    "\n",
    "# the quantum circuit has 2*n*d parameters\n",
    "number_of_parameters = 2 * number_of_qubits * number_of_layers\n",
    "\n",
    "# define value for the initial parameters\n",
    "parameters = np.random.uniform(0, 2 * np.pi, size=number_of_parameters)\n",
    "\n",
    "# bind the circuit parameters to numbers\n",
    "circuit_with_params = circuit.bind_parameters(parameters)\n",
    "\n",
    "# run the circuit and get the result\n",
    "result = simulator.run(circuit_with_params, shots=1000).result()\n",
    "\n",
    "# extract the measurement counts as a python dictionary\n",
    "model_dict = result.get_counts()\n",
    "\n",
    "print(\"The results was:\", model_dict)\n",
    "\n",
    "# for convenience sort by binary order \n",
    "model_dict = dict(sorted(model_dict.items()))\n",
    "\n",
    "# do the plotting\n",
    "fig, ax = plt.subplots(1, 1)\n",
    "\n",
    "plt.bar(\n",
    "    model_dict.keys(),\n",
    "    model_dict.values(),\n",
    "    alpha=0.5,\n",
    "    color=\"tab:orange\",\n",
    "    edgecolor=\"red\",\n",
    "    linewidth=2,\n",
    ")\n",
    "\n",
    "plt.xticks(rotation=\"vertical\")\n",
    "ax.set_ylabel(\"Counts\", fontsize=16)\n",
    "ax.set_xlabel(\"Outcome\", fontsize=16)\n",
    "ax.tick_params(labelsize=14)\n",
    "plt.show()"
   ]
  },
  {
   "cell_type": "markdown",
   "metadata": {
    "id": "N172HTbEKjic"
   },
   "source": [
    "Lets think about what this plot represents. We start out with four qubits and a quantum circuit acting on it. Then we prepare and measure the quantum state multiple times and observe outcomes of the encoded proabbility distirbution. Does this sound familiar to you? You might think this sounds like a generative model - and you are right! The parametrized quantum state encodes our model distribution, and we can generate data from it by measuring the qubits. \n",
    "\n",
    "The **data** now is discrete, i.e., it consists of \"0\"s and \"1\"s, instead of continuous numbers in the domain $[-1.5, 1.5]$ as in our earlier tutorials. You can think of quantum circuit generative models as enabling continuous parametrization of a discrete probability distribution with $2^n$ possible outcomes - something, that is not easily done classically. While it may seem that only being able to model discrete probability distributions is a limitation, but in fact there are many potential use cases for generative models on discrete data, e.g., in finance applications."
   ]
  },
  {
   "cell_type": "markdown",
   "metadata": {
    "id": "1Cagw8nAvvX7"
   },
   "source": [
    "## A dataset for quantum computers"
   ]
  },
  {
   "cell_type": "markdown",
   "metadata": {
    "id": "GJUOl1geNHi1"
   },
   "source": [
    "So lets think about a potential dataset for our quantum generative model. Last time, the data looked like this:"
   ]
  },
  {
   "cell_type": "code",
   "execution_count": 9,
   "metadata": {
    "id": "MY8y6jhcH8BB"
   },
   "outputs": [],
   "source": [
    "data_samples = np.array(\n",
    "    [\n",
    "        -3.61078109e-01,\n",
    "        -1.29291442e-01,\n",
    "        -9.82588388e-02,\n",
    "        -2.58432923e-01,\n",
    "        -4.97863965e-01,\n",
    "        -4.78795061e-01,\n",
    "        -5.10663163e-01,\n",
    "        4.36223299e-02,\n",
    "        -1.01858250e-02,\n",
    "        -5.57657880e-01,\n",
    "        -5.61011437e-01,\n",
    "        -2.63656495e-01,\n",
    "        -5.00136079e-01,\n",
    "        -6.30125377e-01,\n",
    "        -1.12999295e-01,\n",
    "        -3.22838879e-01,\n",
    "        -7.75881873e-01,\n",
    "        1.68190537e-01,\n",
    "        -2.69496934e-01,\n",
    "        -3.04754810e-01,\n",
    "        -2.62099948e-01,\n",
    "        1.36922064e-01,\n",
    "        3.93391710e-01,\n",
    "        -8.12181958e-01,\n",
    "        -3.15903057e-01,\n",
    "        1.10533721e-01,\n",
    "        -2.50864695e-01,\n",
    "        6.56386891e-02,\n",
    "        -2.37497275e-01,\n",
    "        -6.04398679e-01,\n",
    "        -5.32560555e-01,\n",
    "        -1.62669444e-01,\n",
    "        -4.45701188e-01,\n",
    "        -1.67952827e-01,\n",
    "        -5.07722157e-01,\n",
    "        -8.51854037e-02,\n",
    "        -1.35821066e00,\n",
    "        -3.39440908e-01,\n",
    "        -6.41656480e-01,\n",
    "        -9.51452941e-01,\n",
    "        -8.23083293e-01,\n",
    "        -5.69844420e-01,\n",
    "        -1.04400576e-01,\n",
    "        -3.71350420e-01,\n",
    "        -8.65458568e-01,\n",
    "        -2.64222047e-01,\n",
    "        8.06578890e-04,\n",
    "        -5.68337779e-01,\n",
    "        -6.25077227e-01,\n",
    "        -1.00012510e00,\n",
    "        7.59518951e-01,\n",
    "        2.46827712e-01,\n",
    "        5.70561107e-01,\n",
    "        6.52003162e-01,\n",
    "        6.73384341e-01,\n",
    "        8.04894781e-01,\n",
    "        6.34541410e-01,\n",
    "        3.63315273e-01,\n",
    "        4.36242632e-01,\n",
    "        3.31473086e-01,\n",
    "        5.18170902e-01,\n",
    "        6.00943305e-01,\n",
    "        7.09919182e-01,\n",
    "        5.42156544e-01,\n",
    "        5.96010036e-01,\n",
    "        6.32350524e-01,\n",
    "        5.11792431e-01,\n",
    "        7.26352234e-01,\n",
    "        5.24889933e-01,\n",
    "        6.33500447e-01,\n",
    "        7.76251971e-01,\n",
    "        7.53647980e-01,\n",
    "        3.36153030e-01,\n",
    "        8.15441364e-01,\n",
    "        5.57272462e-01,\n",
    "        1.44661947e-01,\n",
    "        6.16792976e-01,\n",
    "        6.91086153e-01,\n",
    "        6.87286823e-01,\n",
    "        3.98429153e-01,\n",
    "        1.07054311e00,\n",
    "        6.24690432e-01,\n",
    "        6.84406406e-01,\n",
    "        7.26905590e-01,\n",
    "        3.09651946e-01,\n",
    "        7.78085930e-01,\n",
    "        3.60425786e-01,\n",
    "        6.33481589e-01,\n",
    "        3.17310855e-01,\n",
    "        6.56363955e-01,\n",
    "        6.10979533e-01,\n",
    "        8.08938177e-01,\n",
    "        7.71336408e-01,\n",
    "        6.11452930e-01,\n",
    "        5.03192825e-01,\n",
    "        5.66868324e-01,\n",
    "        7.22434360e-01,\n",
    "        5.64687162e-01,\n",
    "        5.11510302e-01,\n",
    "        7.02255988e-01,\n",
    "    ]\n",
    ")"
   ]
  },
  {
   "cell_type": "markdown",
   "metadata": {
    "id": "zZcRuoATKuHj"
   },
   "source": [
    "Plot it up:"
   ]
  },
  {
   "cell_type": "code",
   "execution_count": 10,
   "metadata": {
    "colab": {
     "base_uri": "https://localhost:8080/",
     "height": 288
    },
    "executionInfo": {
     "elapsed": 241,
     "status": "ok",
     "timestamp": 1666342194984,
     "user": {
      "displayName": "Manuel Rudolph",
      "userId": "10788476904675569866"
     },
     "user_tz": -120
    },
    "id": "ishPVGIkIFxJ",
    "outputId": "5e5d1ac0-671f-41a2-eca2-c3484b747187"
   },
   "outputs": [
    {
     "data": {
      "image/png": "[encoded data removed]",
      "text/plain": [
       "<Figure size 432x288 with 1 Axes>"
      ]
     },
     "metadata": {
      "needs_background": "light"
     },
     "output_type": "display_data"
    }
   ],
   "source": [
    "fig, ax = plt.subplots(1, 1)\n",
    "\n",
    "x_points = np.linspace(-1.5, 1.5, 1000)\n",
    "\n",
    "plt.hist(\n",
    "    data_samples,\n",
    "    bins=16,\n",
    "    alpha=0.5,\n",
    "    edgecolor=\"royalblue\",\n",
    "    linewidth=2,\n",
    "    label=\"Training Data\",\n",
    ")\n",
    "\n",
    "plt.legend(fontsize=15)\n",
    "ax.set_ylabel(\"Counts\", fontsize=16)\n",
    "ax.set_xlabel(\"Data Value\", fontsize=16)\n",
    "ax.tick_params(labelsize=14)\n",
    "plt.show()"
   ]
  },
  {
   "cell_type": "markdown",
   "metadata": {
    "id": "eqCMyDQXOG8_"
   },
   "source": [
    "We already suggestively plotted a histogram of the continuous data with $16$ bins. What we are going to do now is to count the number of data samples in each bin, and assign each bin to one of the $16$ possible binary outcomes of a quantum circuit. It is most comforable to assign them in the order of ascending binary numbers, i.e., $0000, 0001, 0010, \\dots, 1110, 1111$."
   ]
  },
  {
   "cell_type": "code",
   "execution_count": 11,
   "metadata": {
    "colab": {
     "base_uri": "https://localhost:8080/"
    },
    "executionInfo": {
     "elapsed": 218,
     "status": "ok",
     "timestamp": 1666342215749,
     "user": {
      "displayName": "Manuel Rudolph",
      "userId": "10788476904675569866"
     },
     "user_tz": -120
    },
    "id": "nvgLp6veOCUO",
    "outputId": "9168e3b1-3460-4b6f-9c73-d56da1bfceca"
   },
   "outputs": [
    {
     "name": "stdout",
     "output_type": "stream",
     "text": [
      "{'0000': 1, '0001': 0, '0010': 2, '0011': 4, '0100': 4, '0101': 10, '0110': 7, '0111': 9, '1000': 7, '1001': 5, '1010': 3, '1011': 8, '1100': 14, '1101': 19, '1110': 6, '1111': 1}\n"
     ]
    }
   ],
   "source": [
    "# get the data in 16 bins and extract the counts\n",
    "counts, bins = np.histogram(data_samples, bins=16)\n",
    "\n",
    "# generate the 2^4 = 16 discrete outcomes as bitstrings \n",
    "string_outcomes = [\n",
    "    bin(ii)[2:].zfill(number_of_qubits) for ii in range(2**number_of_qubits)\n",
    "]\n",
    "\n",
    "# group counts and strings into a dictionary\n",
    "training_data_dict = dict(zip(string_outcomes, counts))\n",
    "\n",
    "print(training_data_dict)"
   ]
  },
  {
   "cell_type": "markdown",
   "metadata": {
    "id": "TSnxDRPbPlCF"
   },
   "source": [
    "This new form of the data looks very familiar to *qiskit* practitioners. It represents a discretized form of the continuous dataset, and can in fact be plotted together with our quantum circuit outcomes:"
   ]
  },
  {
   "cell_type": "code",
   "execution_count": 12,
   "metadata": {
    "colab": {
     "base_uri": "https://localhost:8080/",
     "height": 310
    },
    "executionInfo": {
     "elapsed": 270,
     "status": "ok",
     "timestamp": 1666342228689,
     "user": {
      "displayName": "Manuel Rudolph",
      "userId": "10788476904675569866"
     },
     "user_tz": -120
    },
    "id": "QO81D5BGOg9Q",
    "outputId": "a222597f-4811-4f55-fdc1-26b89571153a"
   },
   "outputs": [
    {
     "data": {
      "image/png": "[encoded data removed]",
      "text/plain": [
       "<Figure size 432x288 with 1 Axes>"
      ]
     },
     "metadata": {
      "needs_background": "light"
     },
     "output_type": "display_data"
    }
   ],
   "source": [
    "fig, ax = plt.subplots(1, 1)\n",
    "\n",
    "x_points = np.linspace(-1.5, 1.5, 1000)\n",
    "\n",
    "plt.bar(\n",
    "    training_data_dict.keys(),\n",
    "    np.array(list(training_data_dict.values())) / sum(training_data_dict.values()), # turn the counts into probabilities\n",
    "    alpha=0.5,\n",
    "    edgecolor=\"royalblue\",\n",
    "    linewidth=2,\n",
    "    label=\"Training Data\",\n",
    ")\n",
    "plt.bar(\n",
    "    model_dict.keys(),\n",
    "    np.array(list(model_dict.values())) / sum(model_dict.values()), # turn the counts into probabilities\n",
    "    alpha=0.5,\n",
    "    edgecolor=\"red\",\n",
    "    linewidth=2,\n",
    "    label=\"Model Data\",\n",
    ")\n",
    "\n",
    "plt.xticks(rotation=\"vertical\")\n",
    "plt.legend(fontsize=15)\n",
    "ax.set_ylabel(\"Probability\", fontsize=16)\n",
    "ax.set_xlabel(\"Outcome\", fontsize=16)\n",
    "ax.tick_params(labelsize=14)\n",
    "plt.show()"
   ]
  },
  {
   "cell_type": "markdown",
   "metadata": {
    "id": "wX3AzaZiTu8H"
   },
   "source": [
    "While we are able to plot the training data probabilities and our empirical quantum circuit measurement probabilities together, the distributions clearly don't match at all. In the previous tutorials, we could make educated guesses for how to parametrize the gaussian model to match the gaussian data, but would you know how to do that with a parametrized quantum circuit? No, that is too hard to know in general and for arbitrary datasets. This is where training of the model parameters comes in. For that we need a loss function."
   ]
  },
  {
   "cell_type": "markdown",
   "metadata": {
    "id": "5vP-X3lsv5ve"
   },
   "source": [
    "## A loss function for generative modeling"
   ]
  },
  {
   "cell_type": "markdown",
   "metadata": {
    "id": "Cvxiw_nea3Io"
   },
   "source": [
    "We remember the KL divergence from the last tutorial:\n",
    "\n",
    "$$\\text{KL}(p_{data}, p_{model}) = \\sum_{x\\sim \\mathcal{D}} \\left[ p_{data}(x) \\log(p_{data}(x)) - p_{data}(x) \\log(p_{model}(x)) \\right]$$\n",
    "\n",
    "Since we are now working with discrete $x$ as well as dictionaries of measurement counts, we will have to define a KL divergence loss function that accepts these formats:"
   ]
  },
  {
   "cell_type": "code",
   "execution_count": 13,
   "metadata": {
    "id": "24zMrHrVa4jB"
   },
   "outputs": [],
   "source": [
    "def kl_divergence(data_distribution, model_distribution):\n",
    "    # we will require a small offset \"e\" to avoid possible log(0) singularities\n",
    "    e = 1e-6\n",
    "\n",
    "    # make sure the values in the dictionaries add up to 1\n",
    "    sum_data = sum(data_distribution.values())\n",
    "    sum_model = sum(model_distribution.values())\n",
    "    for bin_outcome, count in data_distribution.items():\n",
    "        data_distribution[bin_outcome] = max(count / sum_data, e)\n",
    "    for bin_outcome, count in model_distribution.items():\n",
    "        model_distribution[bin_outcome] = max(count / sum_model, e)\n",
    "\n",
    "    # calculate the first term in the KL divergence formula\n",
    "    term1 = 0\n",
    "    for bin_outcome, prob in data_distribution.items():\n",
    "        term1 += prob * np.log(prob)\n",
    "\n",
    "    # calculate the second term in the KL divergence formula\n",
    "    term2 = 0\n",
    "    for bin_outcome, prob in data_distribution.items():\n",
    "        term2 += prob * np.log(model_distribution.get(bin_outcome, e))\n",
    "\n",
    "    return term1 - term2"
   ]
  },
  {
   "cell_type": "markdown",
   "metadata": {
    "id": "Pb2C36T6Mga2"
   },
   "source": [
    "And measure our *initial* loss given the dataset, our quantum circuit, and a random parameter guess."
   ]
  },
  {
   "cell_type": "code",
   "execution_count": 14,
   "metadata": {
    "colab": {
     "base_uri": "https://localhost:8080/"
    },
    "executionInfo": {
     "elapsed": 275,
     "status": "ok",
     "timestamp": 1666342318237,
     "user": {
      "displayName": "Manuel Rudolph",
      "userId": "10788476904675569866"
     },
     "user_tz": -120
    },
    "id": "7aPFAdXrbKaX",
    "outputId": "006ecfcf-0ebf-49b3-eccc-a137f33a07a8"
   },
   "outputs": [
    {
     "data": {
      "text/plain": [
       "1.4587267014826186"
      ]
     },
     "execution_count": 14,
     "metadata": {},
     "output_type": "execute_result"
    }
   ],
   "source": [
    "kl_divergence(training_data_dict, model_dict)"
   ]
  },
  {
   "cell_type": "markdown",
   "metadata": {
    "id": "AMqaJbhWwKvd"
   },
   "source": [
    "## Wrapping it up"
   ]
  },
  {
   "cell_type": "markdown",
   "metadata": {
    "id": "aaGjyrTAbQW5"
   },
   "source": [
    "As expected, the KL divergence is not zero and in fact quite large. In the next tutorial in this series on generative modeling using quantum hardware, we will apply the gradient descent optimization algorithm to train the circuit parameters to match this particular data distribution. Furthermore, we will study the role that *entanglement* plays in this algorithm and how it affects training performance."
   ]
  },
  {
   "cell_type": "markdown",
   "metadata": {
    "id": "BW-uyz89Vg3q"
   },
   "source": [
    "To summarize what we saw in this tutorial, we went implemented a quantum circuit generative **model** using *qiskit*. Because of the binary nature of qubit measurements, quantum circuit generative models operate on datasets consisting of discrete **data**. Interestingly, we were able to transfer the continuous dataset from the earlier tutorials and transform it into a dataset that's suitable for quantum circuits. However, the initial KL divergence value between the training dataset and $1000$ samples from our quantum circuit model was still quite large.\n",
    "\n",
    "See you soon when we train this quantum circuit model!"
   ]
  }
 ],
 "metadata": {
  "colab": {
   "provenance": [
    {
     "file_id": "1DE8_dZVywqLxf65Ntu1AfZD5aM6EAJds",
     "timestamp": 1669209295479
    }
   ]
  },
  "kernelspec": {
   "display_name": "Python 3 (ipykernel)",
   "language": "python",
   "name": "python3"
  },
  "language_info": {
   "codemirror_mode": {
    "name": "ipython",
    "version": 3
   },
   "file_extension": ".py",
   "mimetype": "text/x-python",
   "name": "python",
   "nbconvert_exporter": "python",
   "pygments_lexer": "ipython3",
   "version": "3.10.8"
  }
 },
 "nbformat": 4,
 "nbformat_minor": 4
}
