{
 "cells": [
  {
   "cell_type": "markdown",
   "id": "7674fc07-9b54-4173-a6f9-bdf2ea63e099",
   "metadata": {
    "id": "7674fc07-9b54-4173-a6f9-bdf2ea63e099"
   },
   "source": [
    "## Generative Modeling with Quantum Hardware - Part 1"
   ]
  },
  {
   "cell_type": "markdown",
   "id": "b588976c-6d66-415c-9c7f-bd1a9f092ed3",
   "metadata": {
    "id": "b588976c-6d66-415c-9c7f-bd1a9f092ed3"
   },
   "source": [
    "This is the very first tutorial in a series in which we will discuss generative modelling. In previous series we already discussed how supervised learning works. With these algorithms, the computers learns to classify distinguish data based on some labels we give him. Often we take here the example were the algorithm gets thousands of images of cats and dogs, where we tell him what it sees in the data. At some point it will be able to classify also other cats and dogs. \n",
    "\n",
    "But what happens when no labels are available ? This is the field of generative modeling is a sub-domain of machine learning (ML). The goal is to learn from (often unlabeled) data, to generate similar but previously unseed data. Generative Models have undergone a series of breakthroughs in the last decade, with state of the art generative models like GANs (cite) and Diffusion Models (cite) being able to generate breath-taking images like these:\\\n",
    "\n",
    "![StyleGAN and DALL-E 2 generating photorealistic images](images/photorealistic_images.png \"StyleGAN and DALL-E 2\")\n",
    "\n",
    "As a very practical example I asked stable diffusion to provide me \"a portrait of a female scientist sketching generative models on a white-board\". And as a result we obtained the provided images. Feel free to try it for yourself [here](https://colab.research.google.com/drive/1WzKrJh9NeEgin-RTYPtSCb0bt6tb-sir#scrollTo=vF9Q0xKX8gLR).\n",
    "\n",
    "But what are generative models and what do they have to do with quantum computers?\n"
   ]
  },
  {
   "cell_type": "markdown",
   "id": "80ac62e7-b8c4-46bb-b662-a645230f4993",
   "metadata": {
    "id": "80ac62e7-b8c4-46bb-b662-a645230f4993"
   },
   "source": [
    "In this notebook, we will go over an example of an intuitive generatie modeling task which highlights many of the building blocks that can later be replaced with quantum circuits."
   ]
  },
  {
   "cell_type": "code",
   "execution_count": 1,
   "id": "b5f51c5b-53c6-456a-aeef-1a41af7c91d7",
   "metadata": {
    "id": "b5f51c5b-53c6-456a-aeef-1a41af7c91d7"
   },
   "outputs": [],
   "source": [
    "# The usual imports\n",
    "import numpy as np\n",
    "import matplotlib.pyplot as plt"
   ]
  },
  {
   "cell_type": "markdown",
   "id": "025d2955-c3d7-4a98-804f-eef2ead4b8da",
   "metadata": {
    "id": "025d2955-c3d7-4a98-804f-eef2ead4b8da"
   },
   "source": [
    "Just like in any machine learning task, we start out with data. This will be the _training data_ for our machine learning algorithm."
   ]
  },
  {
   "cell_type": "code",
   "execution_count": 2,
   "id": "a6361e26-b366-450b-915c-4d1b37540402",
   "metadata": {
    "colab": {
     "base_uri": "https://localhost:8080/"
    },
    "executionInfo": {
     "elapsed": 14,
     "status": "ok",
     "timestamp": 1663699413501,
     "user": {
      "displayName": "Fred Jendrzejewski",
      "userId": "18233741657522664753"
     },
     "user_tz": -120
    },
    "id": "a6361e26-b366-450b-915c-4d1b37540402",
    "outputId": "d6f70c3a-a475-4e4a-f096-c32a9aa0f0ce"
   },
   "outputs": [
    {
     "name": "stdout",
     "output_type": "stream",
     "text": [
      "(100,)\n"
     ]
    }
   ],
   "source": [
    "data_samples = np.array(\n",
    "      [-3.61078109e-01, -1.29291442e-01, -9.82588388e-02, -2.58432923e-01,\n",
    "       -4.97863965e-01, -4.78795061e-01, -5.10663163e-01,  4.36223299e-02,\n",
    "       -1.01858250e-02, -5.57657880e-01, -5.61011437e-01, -2.63656495e-01,\n",
    "       -5.00136079e-01, -6.30125377e-01, -1.12999295e-01, -3.22838879e-01,\n",
    "       -7.75881873e-01,  1.68190537e-01, -2.69496934e-01, -3.04754810e-01,\n",
    "       -2.62099948e-01,  1.36922064e-01,  3.93391710e-01, -8.12181958e-01,\n",
    "       -3.15903057e-01,  1.10533721e-01, -2.50864695e-01,  6.56386891e-02,\n",
    "       -2.37497275e-01, -6.04398679e-01, -5.32560555e-01, -1.62669444e-01,\n",
    "       -4.45701188e-01, -1.67952827e-01, -5.07722157e-01, -8.51854037e-02,\n",
    "       -1.35821066e+00, -3.39440908e-01, -6.41656480e-01, -9.51452941e-01,\n",
    "       -8.23083293e-01, -5.69844420e-01, -1.04400576e-01, -3.71350420e-01,\n",
    "       -8.65458568e-01, -2.64222047e-01,  8.06578890e-04, -5.68337779e-01,\n",
    "       -6.25077227e-01, -1.00012510e+00,  7.59518951e-01,  2.46827712e-01,\n",
    "        5.70561107e-01,  6.52003162e-01,  6.73384341e-01,  8.04894781e-01,\n",
    "        6.34541410e-01,  3.63315273e-01,  4.36242632e-01,  3.31473086e-01,\n",
    "        5.18170902e-01,  6.00943305e-01,  7.09919182e-01,  5.42156544e-01,\n",
    "        5.96010036e-01,  6.32350524e-01,  5.11792431e-01,  7.26352234e-01,\n",
    "        5.24889933e-01,  6.33500447e-01,  7.76251971e-01,  7.53647980e-01,\n",
    "        3.36153030e-01,  8.15441364e-01,  5.57272462e-01,  1.44661947e-01,\n",
    "        6.16792976e-01,  6.91086153e-01,  6.87286823e-01,  3.98429153e-01,\n",
    "        1.07054311e+00,  6.24690432e-01,  6.84406406e-01,  7.26905590e-01,\n",
    "        3.09651946e-01,  7.78085930e-01,  3.60425786e-01,  6.33481589e-01,\n",
    "        3.17310855e-01,  6.56363955e-01,  6.10979533e-01,  8.08938177e-01,\n",
    "        7.71336408e-01,  6.11452930e-01,  5.03192825e-01,  5.66868324e-01,\n",
    "        7.22434360e-01,  5.64687162e-01,  5.11510302e-01,  7.02255988e-01]\n",
    ")\n",
    "\n",
    "print(data_samples.shape)"
   ]
  },
  {
   "cell_type": "markdown",
   "id": "e2ca6190-2c3d-4da4-92ce-99b38520fd56",
   "metadata": {
    "id": "e2ca6190-2c3d-4da4-92ce-99b38520fd56"
   },
   "source": [
    "Here we have 100 numbers stored in a numpy array. You can think of them as 100 images with one pixel each, or any other kind of data which only has 1 dimension. \n",
    "Lets assume that this is data that we collected in the real world, and that there was a process behind the data generation, i.e., there exists a set of rules that produced this data. In more mathematical terms, this dataset $\\mathcal{D}\\{x_i\\}_i$ consists of data samples $x_i, i=1\\dots 100$ , and the process that generated the data is characterized by the probablity distribution $p_{data}(x)$. This probability distribution is generally not known, but it is what we are interested in. Because our goal in the context of generative modeling is to build a _model_ of $p_{data}(x)$, which encodes a probability distribution $p_{model}(x)$, and which approximates the true data distribution $p_{model}(x) \\approx p_{data}(x)$. We then want to generate new data samples using our model which follow similar rules as the true data, but they are also novel. With such a model, we don't have to go out into the real world to collect all possible data samples from $p_{data}$, we just have to learn the rules behind how the training data $\\mathcal{D}\\{x_i\\}_i$, i.e., the numbers in the above numpy array, were created."
   ]
  },
  {
   "cell_type": "markdown",
   "id": "6499c7a3-59dd-4a07-bf38-9ba7c09bd2e8",
   "metadata": {
    "id": "6499c7a3-59dd-4a07-bf38-9ba7c09bd2e8"
   },
   "source": [
    "Lets take a first look at the data:"
   ]
  },
  {
   "cell_type": "code",
   "execution_count": 3,
   "id": "b454cd0d-e927-4a80-bde0-b8eb366ca32a",
   "metadata": {
    "colab": {
     "base_uri": "https://localhost:8080/",
     "height": 306
    },
    "executionInfo": {
     "elapsed": 453,
     "status": "ok",
     "timestamp": 1663699413946,
     "user": {
      "displayName": "Fred Jendrzejewski",
      "userId": "18233741657522664753"
     },
     "user_tz": -120
    },
    "id": "b454cd0d-e927-4a80-bde0-b8eb366ca32a",
    "outputId": "af1a0c7d-447b-46ec-8f69-6827bbe2303a"
   },
   "outputs": [
    {
     "data": {
      "image/png": "[encoded data removed]",
      "text/plain": [
       "<Figure size 432x288 with 1 Axes>"
      ]
     },
     "metadata": {
      "needs_background": "light"
     },
     "output_type": "display_data"
    }
   ],
   "source": [
    "fig, ax = plt.subplots(1,1)\n",
    "\n",
    "ax.scatter(data_samples, np.zeros(len(data_samples)), alpha=0.3)\n",
    "\n",
    "ax.set_title(\"Occurences of the Data\", fontsize=16)\n",
    "ax.set_xlabel(\"Data Value\", fontsize=16)\n",
    "ax.set_ylim(-0.1, 0.3)\n",
    "ax.set_yticklabels(\"\")\n",
    "ax.tick_params(labelsize=14)\n",
    "\n",
    "plt.show()"
   ]
  },
  {
   "cell_type": "markdown",
   "id": "7f6722b3-8334-435e-96c3-fb383d09cd23",
   "metadata": {
    "id": "7f6722b3-8334-435e-96c3-fb383d09cd23"
   },
   "source": [
    "This plot shows that the samples in the dataset are mostly in the domain $[-1, 1]$. Lets check out the _density_ of the data samples through a histogram plot:"
   ]
  },
  {
   "cell_type": "code",
   "execution_count": 4,
   "id": "9da09ea9-be39-408b-b3d6-3b57851a9cc7",
   "metadata": {
    "colab": {
     "base_uri": "https://localhost:8080/",
     "height": 361
    },
    "executionInfo": {
     "elapsed": 721,
     "status": "ok",
     "timestamp": 1663699414660,
     "user": {
      "displayName": "Fred Jendrzejewski",
      "userId": "18233741657522664753"
     },
     "user_tz": -120
    },
    "id": "9da09ea9-be39-408b-b3d6-3b57851a9cc7",
    "outputId": "692d7b51-7eea-430e-d9c8-8ef30990034f"
   },
   "outputs": [
    {
     "data": {
      "image/png": "[encoded data removed]",
      "text/plain": [
       "<Figure size 1008x360 with 2 Axes>"
      ]
     },
     "metadata": {
      "needs_background": "light"
     },
     "output_type": "display_data"
    }
   ],
   "source": [
    "fig, (ax1, ax2) = plt.subplots(1,2, figsize=(14, 5))\n",
    "\n",
    "ax1.hist(data_samples, bins=15, alpha=0.5, edgecolor=\"royalblue\", linewidth=2)\n",
    "ax2.hist(data_samples, bins=100, alpha=0.5, edgecolor=\"royalblue\", linewidth=0.2)\n",
    "\n",
    "ax1.set_title(\"Wider Histogram Bins\", fontsize=16)\n",
    "ax2.set_title(\"Narrower Histogram Bins\", fontsize=16)\n",
    "ax1.set_xlabel(\"Data Value\", fontsize=16)\n",
    "ax1.set_ylabel(\"Occurances\", fontsize=16)\n",
    "ax2.set_xlabel(\"Data Entry\", fontsize=16)\n",
    "ax2.set_ylabel(\"Occurances\", fontsize=16)\n",
    "ax1.tick_params(labelsize=14)\n",
    "ax2.tick_params(labelsize=14)\n",
    "\n",
    "plt.show()"
   ]
  },
  {
   "cell_type": "markdown",
   "id": "0514df49-2283-414c-b02b-fb1c865dfe17",
   "metadata": {
    "id": "0514df49-2283-414c-b02b-fb1c865dfe17"
   },
   "source": [
    "We plot two histgrams with wider and narrower bins, which gives us a sense of coarse and fine trends of the dataset distribution."
   ]
  },
  {
   "cell_type": "markdown",
   "id": "cac356e9-a5c0-4c92-a366-828bbba1e9bb",
   "metadata": {
    "id": "cac356e9-a5c0-4c92-a366-828bbba1e9bb"
   },
   "source": [
    "Do you see a familiar structure in that data? It may remind you of a gaussian distribution! In this simple example, could it be the case that the data was generated from two gaussians?\\\n",
    "Gaussian distributions are characterized by the parameters $\\mu$ (the mean of the gaussian) and $\\sigma$ (the width of the gaussian). The _density_ $\\rho(x)$ of the distribution around each point $x$ in the data space is then defined as: $$ \\rho(x; \\mu, \\sigma) = \\frac{1}{\\sigma\\sqrt{2\\pi}} e^{-\\frac12 (\\frac{x-\\mu}{\\sigma})^2}$$"
   ]
  },
  {
   "cell_type": "markdown",
   "id": "e9830333-714b-4aa6-b89a-2dedc360f10b",
   "metadata": {
    "id": "e9830333-714b-4aa6-b89a-2dedc360f10b"
   },
   "source": [
    "Lets code it up:"
   ]
  },
  {
   "cell_type": "code",
   "execution_count": 5,
   "id": "66da5f8a-e33f-43d2-a226-95b4fca2facd",
   "metadata": {
    "id": "66da5f8a-e33f-43d2-a226-95b4fca2facd"
   },
   "outputs": [],
   "source": [
    "def gaussian(x, mu, sigma):\n",
    "    return np.exp(-0.5*((x - mu)/sigma)**2.) / (sigma*np.sqrt(2*np.pi))"
   ]
  },
  {
   "cell_type": "markdown",
   "id": "bf309a61-9927-4047-874b-4d51f7b30e44",
   "metadata": {
    "id": "bf309a61-9927-4047-874b-4d51f7b30e44"
   },
   "source": [
    "If we assume that the true underlying distribution is well-approximated by two gaussian distribtions, we might be able to build a _model_, which represents our best guess of the underlying distribution for an optimal set of parameters $\\mu$ and $\\sigma$. The model density consisting of two gaussians and parameteters $\\mu_1,\\mu_2,\\sigma_1,\\sigma_2$ can be defined as\n",
    "$$ \\rho_{model}(x) = \\frac{\\rho(x; \\mu_1, \\sigma_1) + \\rho(x; \\mu_2, \\sigma_2)}{2}$$\n",
    "And in Python:"
   ]
  },
  {
   "cell_type": "code",
   "execution_count": 6,
   "id": "0496f5e0-ccc9-41ea-aa3d-b4b8f707a49e",
   "metadata": {
    "id": "0496f5e0-ccc9-41ea-aa3d-b4b8f707a49e"
   },
   "outputs": [],
   "source": [
    "def model_density_function(x_points, mus, sigmas):\n",
    "    density_left = gaussian(x_points, mus[0], sigmas[0])\n",
    "    density_right = gaussian(x_points, mus[1], sigmas[1])\n",
    "    return (density_left + density_right)/2"
   ]
  },
  {
   "cell_type": "markdown",
   "id": "f4aa6b91-e9b5-482c-8c8b-e218db7c5dcb",
   "metadata": {
    "id": "f4aa6b91-e9b5-482c-8c8b-e218db7c5dcb"
   },
   "source": [
    "Which appear to be reasonable initial guesses for the parameters? To keep it simple, we choose $\\mu_1=-0.5, \\mu_2 = 0.5$, which are close to the peaks that we observe in the histogram with wider bins. For the width of the gaussians, we remind ourselves that approximately $67\\%$ of the area under a gaussian distribution is inside one standard deviation $\\sigma$. So how about we choose $\\sigma_1=\\sigma_2=0.2$. "
   ]
  },
  {
   "cell_type": "code",
   "execution_count": 7,
   "id": "cda88aca-7315-4665-9b96-66563f37259b",
   "metadata": {
    "id": "cda88aca-7315-4665-9b96-66563f37259b"
   },
   "outputs": [],
   "source": [
    "model_mus = [-0.3, 0.6]\n",
    "model_sigmas = [0.2, 0.2]"
   ]
  },
  {
   "cell_type": "markdown",
   "id": "2e7eedb8-3fde-422a-ab95-1f7c9cdc5649",
   "metadata": {
    "id": "2e7eedb8-3fde-422a-ab95-1f7c9cdc5649"
   },
   "source": [
    "When we input these values for $\\mu$ and $\\sigma$ into the model density function, and then scan values of $x$, we get the following plot:"
   ]
  },
  {
   "cell_type": "code",
   "execution_count": 8,
   "id": "138cc2d5-1109-4c54-aa42-d52993e0464c",
   "metadata": {
    "colab": {
     "base_uri": "https://localhost:8080/",
     "height": 288
    },
    "executionInfo": {
     "elapsed": 405,
     "status": "ok",
     "timestamp": 1663699415372,
     "user": {
      "displayName": "Fred Jendrzejewski",
      "userId": "18233741657522664753"
     },
     "user_tz": -120
    },
    "id": "138cc2d5-1109-4c54-aa42-d52993e0464c",
    "outputId": "5e210814-860b-499a-8368-218e2fc8e31c"
   },
   "outputs": [
    {
     "data": {
      "image/png": "[encoded data removed]",
      "text/plain": [
       "<Figure size 432x288 with 1 Axes>"
      ]
     },
     "metadata": {
      "needs_background": "light"
     },
     "output_type": "display_data"
    }
   ],
   "source": [
    "fig, ax = plt.subplots(1,1)\n",
    "\n",
    "x_points = np.linspace(-1.5, 1.5, 1000)\n",
    "\n",
    "plt.hist(data_samples, bins=15, density=True, alpha=0.5, edgecolor=\"royalblue\", linewidth=2, label=\"Training Data\")\n",
    "plt.plot(x_points, model_density_function(x_points, model_mus, model_sigmas), color=\"red\", linewidth=2, label=\"Model\")\n",
    "\n",
    "plt.legend(fontsize=15)\n",
    "ax.set_ylabel(\"Density\", fontsize=16)\n",
    "ax.set_xlabel(\"Data Value\", fontsize=16)\n",
    "ax.tick_params(labelsize=14)\n",
    "plt.show()"
   ]
  },
  {
   "cell_type": "markdown",
   "id": "990abbe9-6fa6-48a0-83d4-48e9b46ac688",
   "metadata": {
    "id": "990abbe9-6fa6-48a0-83d4-48e9b46ac688"
   },
   "source": [
    "This already looks pretty good! With this, we have implicitly defined the model distribution $p_{model}(x)$! Keep in mind that the model _density_ $\\rho_{model}(x)$ and the model _probability distribution_ $p_{model}(x)$ are not the same thing. Instead, $p_{model}(x) \\sim \\int \\rho_{model}(x) \\ dx$ represents the area below the curve below the $\\rho_{model}(x)$ function, i.e. its integral.\n",
    "\n",
    "\n",
    "But one crucial step is missing to make the a **generative** model: the _generation_ part. Luckily, we know how to efficiently sample random numbers from gaussian distributions, and the _numpy_ library provides simple functionality for this:"
   ]
  },
  {
   "cell_type": "code",
   "execution_count": 9,
   "id": "ed3a1b9e-53fe-4820-be7a-3a7311fb6dd5",
   "metadata": {
    "id": "ed3a1b9e-53fe-4820-be7a-3a7311fb6dd5"
   },
   "outputs": [],
   "source": [
    "def sample_model_distribution(n_samples, mus, sigmas):    \n",
    "    n_left_samples = n_samples//2\n",
    "    n_right_samples = n_samples - n_left_samples\n",
    "    \n",
    "    samples = np.append(\n",
    "        np.random.normal(mus[0], sigmas[0], size=n_left_samples),\n",
    "        np.random.normal(mus[1], sigmas[1], size=n_right_samples)\n",
    "    )\n",
    "    return samples"
   ]
  },
  {
   "cell_type": "markdown",
   "id": "88a51798-60ef-4adc-876b-e5de461fc998",
   "metadata": {
    "id": "88a51798-60ef-4adc-876b-e5de461fc998"
   },
   "source": [
    "Collect samples from our model and plot it up!"
   ]
  },
  {
   "cell_type": "code",
   "execution_count": 10,
   "id": "6b9c7df0-5e5f-47b4-a00a-be9a4d7616bc",
   "metadata": {
    "id": "6b9c7df0-5e5f-47b4-a00a-be9a4d7616bc"
   },
   "outputs": [],
   "source": [
    "np.random.seed(42)\n",
    "generated_samples = sample_model_distribution(1000, model_mus, model_sigmas)"
   ]
  },
  {
   "cell_type": "code",
   "execution_count": 11,
   "id": "4e2e12da-15ae-44a1-b9a7-ee84e4b4e69f",
   "metadata": {
    "colab": {
     "base_uri": "https://localhost:8080/",
     "height": 361
    },
    "executionInfo": {
     "elapsed": 1069,
     "status": "ok",
     "timestamp": 1663699416436,
     "user": {
      "displayName": "Fred Jendrzejewski",
      "userId": "18233741657522664753"
     },
     "user_tz": -120
    },
    "id": "4e2e12da-15ae-44a1-b9a7-ee84e4b4e69f",
    "outputId": "d96c5c4d-d2e3-4160-eae9-03678d2b3d06"
   },
   "outputs": [
    {
     "data": {
      "image/png": "[encoded data removed]",
      "text/plain": [
       "<Figure size 1008x360 with 2 Axes>"
      ]
     },
     "metadata": {
      "needs_background": "light"
     },
     "output_type": "display_data"
    }
   ],
   "source": [
    "fig, (ax1, ax2) = plt.subplots(1,2, figsize=(14, 5))\n",
    "\n",
    "ax1.hist(data_samples, bins=15, density=True, alpha=0.5, edgecolor=\"royalblue\", linewidth=2, label=\"Training Data\")\n",
    "ax1.hist(generated_samples, bins=15, density=True, alpha=0.5, edgecolor=\"red\", linewidth=2, label=\"Generated Data\")\n",
    "ax2.hist(data_samples, bins=100, density=True, alpha=0.5, edgecolor=\"royalblue\", linewidth=1, label=\"Training Data\")\n",
    "ax2.hist(generated_samples, bins=100, density=True, alpha=0.5, edgecolor=\"red\", linewidth=1, label=\"Generated Data\")\n",
    "\n",
    "ax1.set_title(\"Wider Histogram Bins\", fontsize=16)\n",
    "ax2.set_title(\"Thinner Histogram Bins\", fontsize=16)\n",
    "ax1.set_xlabel(\"Data Value\", fontsize=16)\n",
    "ax1.set_ylabel(\"Density\", fontsize=16)\n",
    "ax2.set_xlabel(\"Data Value\", fontsize=16)\n",
    "ax2.set_ylabel(\"Density\", fontsize=16)\n",
    "ax1.tick_params(labelsize=14)\n",
    "ax2.tick_params(labelsize=14)\n",
    "\n",
    "plt.show()"
   ]
  },
  {
   "cell_type": "markdown",
   "id": "1248e279-2779-4fc0-ae39-d7628059c219",
   "metadata": {
    "id": "1248e279-2779-4fc0-ae39-d7628059c219"
   },
   "source": [
    "We now have a full-fledged generative model for 1-dimensional data samples, where we can tune the parameters $\\mu_1,\\mu_2,\\sigma_1,\\sigma_2$ and then sample from $p_{model}(x)$. "
   ]
  },
  {
   "cell_type": "markdown",
   "id": "e36b1e9b-e13c-4da0-afbe-b7c2bd23882e",
   "metadata": {
    "id": "e36b1e9b-e13c-4da0-afbe-b7c2bd23882e"
   },
   "source": [
    "## Summary and outlook\n",
    "\n",
    "Let's recap what we have done so far and how this exemplifies common tasks in generative ML tasks. The moving pieces that we saw were:\n",
    "\n",
    "- **The dataset**. How does it look like? Here, we had 100 1-dimensional data samples.\n",
    "- **The model**.  The goal is to learn a model of the true underlying probability distribution of the data, i.e., you want to learn the distribution from which the data itself was sampled from. In our case the highly specialized gaussian distribution.\n",
    "\n",
    "After plotting a histogram with the data, we made an educated guess that the true underlying distribution of the data, i.e., the distribution that the data itself was sampled from, consists of two gaussian distributions. With reasonable initial parameter guesses, we are now able to generate samples which apparently follow a very similar distributionto the original data samples. But is this machine learning? Not quite. The **learning** part is missing. We have a generative model, but we were only able to guess the underlying structure (i.e., the gaussians), as well as good initial parameters because the task is rather simple.  In later tutorials, we will see how the gaussian model can be substituded by quantum circuits with many more parameters.\n",
    "\n",
    "In more realistic cases, we won't be able to guess such good initial models. This is why modern ML models are built using up to billions of parameters which are optimized/trained according to a _loss function_. And this is the topic of our [next tutorial](https://). \n"
   ]
  }
 ],
 "metadata": {
  "colab": {
   "collapsed_sections": [],
   "provenance": [
    {
     "file_id": "https://github.com/MSRudolph/Alqor_Tutorials/blob/main/generative_modeling/Generative_modeling_tuturial_1_split.ipynb",
     "timestamp": 1663699127778
    }
   ]
  },
  "kernelspec": {
   "display_name": "quditqc",
   "language": "python",
   "name": "quditqc"
  },
  "language_info": {
   "codemirror_mode": {
    "name": "ipython",
    "version": 3
   },
   "file_extension": ".py",
   "mimetype": "text/x-python",
   "name": "python",
   "nbconvert_exporter": "python",
   "pygments_lexer": "ipython3",
   "version": "3.9.7"
  }
 },
 "nbformat": 4,
 "nbformat_minor": 5
}
