{
 "cells": [
  {
   "cell_type": "markdown",
   "metadata": {
    "id": "PnKV8Zx8mioZ"
   },
   "source": [
    "(qml001)=\n",
    "# QML 001 - A summary of classical supervised learning\n",
    "\n",
    "In this tutorial, we will discuss some basic ideas behind classical supervised learning before we jump into the quantum part. \n",
    "\n",
    "The notebook is structured as follows:\n",
    "\n",
    "- We introduce the learning task of classifying data points $x_i$ with labels $y_i$\n",
    "- We introduce simple classification through logistic regression with bias and weight.\n",
    "- We provide simple training\n",
    "- We test the performance of the circuit.\n",
    "\n",
    "\n",
    "We will always focus on simplicity throughout this tutorial and leave the more complex discussions to the extensive literature. So readers thank think \"yet another tutorial on logistic regression\", can most likely directly jump to the very [first tutorial](qml101) on quantum machine learning."
   ]
  },
  {
   "cell_type": "markdown",
   "metadata": {
    "id": "FgQjg2qvneFB"
   },
   "source": [
    "## A simple learning task\n",
    "\n",
    "For simplicity we will start out with a simple problem, where each data set has only a single variable and extend it later to higher dimensional data sets."
   ]
  },
  {
   "cell_type": "code",
   "execution_count": null,
   "metadata": {
    "id": "ZttXKz30nylz"
   },
   "outputs": [],
   "source": [
    "from typing import Union, List\n",
    "\n",
    "import numpy as np\n",
    "import matplotlib.pyplot as plt\n",
    "\n",
    "from tqdm import tqdm\n"
   ]
  },
  {
   "cell_type": "code",
   "execution_count": null,
   "metadata": {
    "colab": {
     "base_uri": "https://localhost:8080/",
     "height": 283
    },
    "executionInfo": {
     "elapsed": 335,
     "status": "ok",
     "timestamp": 1649424176207,
     "user": {
      "displayName": "Fred Jendrzejewski",
      "userId": "18233741657522664753"
     },
     "user_tz": -120
    },
    "id": "Ng1SglPRoBT9",
    "outputId": "b746fa7e-22ba-4ac1-db5d-d399ed756d1e"
   },
   "outputs": [
    {
     "data": {
      "image/png": "[encoded data removed]",
      "text/plain": [
       "<Figure size 432x288 with 1 Axes>"
      ]
     },
     "metadata": {
      "needs_background": "light"
     },
     "output_type": "display_data"
    }
   ],
   "source": [
    "np.random.seed(1)\n",
    "x = np.random.uniform(-np.pi, np.pi, 100)\n",
    "y = 1.0* (x <  1)\n",
    "\n",
    "f, ax = plt.subplots()\n",
    "ax.plot(x, y, \"o\")\n",
    "ax.set_xlabel(r\"input value $x_i$\");\n",
    "ax.set_ylabel(r\"label $y_i$\");"
   ]
  },
  {
   "cell_type": "markdown",
   "metadata": {
    "id": "C7Imt-gGoypd"
   },
   "source": [
    "The learning task is now  to predict the label $y_i$ from the input value $x_i$. To get started we have to divide the data set into a training part and a test part:\n",
    "\n",
    "- On the *training set* we will optimize the algorithm to achieve the highest possible accuracy in predicting the label.\n",
    "- On the *test set* we will test the performance of the algorithm with data it has never seen.\n",
    "\n",
    "The usual problem is here to find a good balance between a sufficient amount of training data, yet leaving enough test data to have a statistically significant test."
   ]
  },
  {
   "cell_type": "code",
   "execution_count": null,
   "metadata": {
    "id": "TpncjVfspXRE"
   },
   "outputs": [],
   "source": [
    "from sklearn.model_selection import train_test_split"
   ]
  },
  {
   "cell_type": "code",
   "execution_count": null,
   "metadata": {
    "colab": {
     "base_uri": "https://localhost:8080/",
     "height": 368
    },
    "executionInfo": {
     "elapsed": 977,
     "status": "ok",
     "timestamp": 1649424180390,
     "user": {
      "displayName": "Fred Jendrzejewski",
      "userId": "18233741657522664753"
     },
     "user_tz": -120
    },
    "id": "G_oeKC3JpeBJ",
    "outputId": "dfce0ce4-26fd-4d06-dcdc-45abeff3a691"
   },
   "outputs": [
    {
     "data": {
      "text/plain": [
       "Text(0.5, 1.0, 'test data')"
      ]
     },
     "execution_count": 39,
     "metadata": {},
     "output_type": "execute_result"
    },
    {
     "data": {
      "image/png": "[encoded data removed]",
      "text/plain": [
       "<Figure size 1080x360 with 2 Axes>"
      ]
     },
     "metadata": {
      "needs_background": "light"
     },
     "output_type": "display_data"
    }
   ],
   "source": [
    "x_train, x_test, y_train, y_test = train_test_split(\n",
    "    x, y, test_size=0.20, random_state=42\n",
    ")\n",
    "\n",
    "f, (ax1, ax2) = plt.subplots(1, 2, figsize=(15, 5), sharex=True, sharey=True)\n",
    "ax1.plot(x_train, y_train, \"o\")\n",
    "ax1.set_xlabel(\"input value\")\n",
    "ax1.set_ylabel(\" given labels\")\n",
    "ax1.set_title(\"training data\")\n",
    "\n",
    "ax2.plot(x_test, y_test, \"o\")\n",
    "ax2.set_xlabel(\"input value\")\n",
    "ax2.set_title(\"test data\")"
   ]
  },
  {
   "cell_type": "markdown",
   "metadata": {
    "id": "jRy_bpqPqglm"
   },
   "source": [
    "## Logistice regression as a minimal algorithm\n",
    "\n",
    "It is now time to set up the algorithm for the training. We will use [logistic regression](https://en.wikipedia.org/wiki/Logistic_regression), despite the fact that this horse has been ridden to death. It is has just all the right ingredients that are necessary to agree on basic concepts and notations. The logistic function itself is defined as:\n",
    "\n",
    "$$\n",
    "p(x) = \\frac{1}{1+e^{-(W\\cdot x+b)}}\n",
    "$$\n",
    "\n",
    "It has a number of useful properties for us:\n",
    "\n",
    "- It interpolates nicely between 0 and 1.\n",
    "- The value of the transition is set by the *bias* $b$. For $x \\gg b$ the exponential goes to zero and $p(x) \\rightarrow 1$, while it goes to 0 for the other side. \n",
    "- The sharpness of the transition is set by the weight $W$, which tells us how much of an influence we should attach to the input value $x$.\n",
    "\n",
    "Below you can find a general example of such a logistic regression."
   ]
  },
  {
   "cell_type": "code",
   "execution_count": null,
   "metadata": {
    "colab": {
     "base_uri": "https://localhost:8080/",
     "height": 296
    },
    "executionInfo": {
     "elapsed": 335,
     "status": "ok",
     "timestamp": 1649424190193,
     "user": {
      "displayName": "Fred Jendrzejewski",
      "userId": "18233741657522664753"
     },
     "user_tz": -120
    },
    "id": "tnceVURft-W5",
    "outputId": "51825704-3a92-4084-aed1-bd47939adfbf"
   },
   "outputs": [
    {
     "data": {
      "image/png": "[encoded data removed]",
      "text/plain": [
       "<Figure size 432x288 with 1 Axes>"
      ]
     },
     "metadata": {
      "needs_background": "light"
     },
     "output_type": "display_data"
    }
   ],
   "source": [
    "weight = 3\n",
    "bias = 1\n",
    "\n",
    "y_log = 1/(1+np.exp(-(weight*x+bias)))\n",
    "f, ax = plt.subplots()\n",
    "ax.plot(x, y_log, 'o')\n",
    "ax.set_xlabel('x_i')\n",
    "ax.set_ylabel('p(x)')\n",
    "ax.set_title(\"logistic regression\");"
   ]
  },
  {
   "cell_type": "markdown",
   "metadata": {
    "id": "dBDzX75c0bqC"
   },
   "source": [
    "We can use this logistic regression for labelling, but simply deciding that the label is 0, if $p(x) <\\frac{1}{2}$ and and 1 if $p(x) > \\frac{1}{2}$."
   ]
  },
  {
   "cell_type": "code",
   "execution_count": null,
   "metadata": {
    "id": "-bs7d-A7yyZh"
   },
   "outputs": [],
   "source": [
    "def get_accuracy(weight: float, bias: float, xvals: List[float], yvals: List[int]\n",
    ") -> Union[float, List[int]]:\n",
    "    \"\"\"\n",
    "    Calculates the accuracy of the logistic regression for a given set of data.\n",
    "\n",
    "    Args:\n",
    "      weight: the training parameter for the weight\n",
    "      bias: the training parameter for the bias\n",
    "      xvals: the input values\n",
    "      yvals: the labels\n",
    "    Returns:\n",
    "      The accuracy and the predicted labels.\n",
    "    \"\"\"\n",
    "    pred_labels = np.zeros(len(xvals))\n",
    "    accurate_prediction = 0\n",
    "    for ii, xinput, yinput in zip(range(len(xvals)), xvals, yvals.astype(int)):\n",
    "        # set the circuit parameter\n",
    "        y_log = 1/(1+np.exp(-(weight*xinput+bias)))\n",
    "        pred_label = 1.0*(y_log>1/2)\n",
    "        pred_labels[ii] = pred_label\n",
    "        if yinput == pred_label:\n",
    "            accurate_prediction += 1\n",
    "    return accurate_prediction / len(yvals), pred_labels"
   ]
  },
  {
   "cell_type": "markdown",
   "metadata": {
    "id": "EGLDaLASBzbJ"
   },
   "source": [
    "And now we can have a look at the labeling with some randomly guessed initial values."
   ]
  },
  {
   "cell_type": "code",
   "execution_count": null,
   "metadata": {
    "colab": {
     "base_uri": "https://localhost:8080/",
     "height": 300
    },
    "executionInfo": {
     "elapsed": 448,
     "status": "ok",
     "timestamp": 1649424211720,
     "user": {
      "displayName": "Fred Jendrzejewski",
      "userId": "18233741657522664753"
     },
     "user_tz": -120
    },
    "id": "7ebklqJn0HwQ",
    "outputId": "3a870104-387b-4979-a1bb-3fae4b8f4a0b"
   },
   "outputs": [
    {
     "name": "stdout",
     "output_type": "stream",
     "text": [
      "The circuit has an accuracy of 0.85\n"
     ]
    },
    {
     "data": {
      "text/plain": [
       "<matplotlib.legend.Legend at 0x7f75c9992110>"
      ]
     },
     "execution_count": 43,
     "metadata": {},
     "output_type": "execute_result"
    },
    {
     "data": {
      "image/png": "[encoded data removed]",
      "text/plain": [
       "<Figure size 432x288 with 1 Axes>"
      ]
     },
     "metadata": {
      "needs_background": "light"
     },
     "output_type": "display_data"
    }
   ],
   "source": [
    "weight = -0.8\n",
    "bias = 0\n",
    "accuracy, y_pred = get_accuracy(bias = bias, weight=weight, xvals=x_train, yvals=y_train)\n",
    "\n",
    "false_label = abs(y_pred - y_train) > 0\n",
    "\n",
    "x_false = x_train[false_label]\n",
    "y_false = y_pred[false_label]\n",
    "\n",
    "print(f\"The circuit has an accuracy of {accuracy}\")\n",
    "f, ax = plt.subplots()\n",
    "ax.plot(x_train, y_pred, \"o\", label=\"predicted label\")\n",
    "ax.plot(x_false, y_false, \"ro\", label=\"false label\")\n",
    "ax.legend()"
   ]
  },
  {
   "cell_type": "markdown",
   "metadata": {
    "id": "Rl3cGwA3B6P0"
   },
   "source": [
    "As we can see above there is quite a regime, where the model does to predict the labels very well. This can be improved by training the model parameters systematically. "
   ]
  },
  {
   "cell_type": "markdown",
   "metadata": {
    "id": "FUpRQY2m3zd8"
   },
   "source": [
    "## Training the minimalistic algorithm\n",
    "\n",
    "To improve the performance of the circuit, we have to train it. This basically involves the minimization of some loss function as a function of the circuit parameters $W$ and $b$. In this example, we can simply calculate the accuracy of the circuit as a function of the bias and obtain its minimimum."
   ]
  },
  {
   "cell_type": "code",
   "execution_count": null,
   "metadata": {
    "colab": {
     "base_uri": "https://localhost:8080/"
    },
    "executionInfo": {
     "elapsed": 326,
     "status": "ok",
     "timestamp": 1649424234149,
     "user": {
      "displayName": "Fred Jendrzejewski",
      "userId": "18233741657522664753"
     },
     "user_tz": -120
    },
    "id": "j7w-5-n-4bWp",
    "outputId": "ec8f156a-2696-4a5e-d12a-2a2df9dd491b"
   },
   "outputs": [
    {
     "name": "stderr",
     "output_type": "stream",
     "text": [
      "100%|██████████| 101/101 [00:00<00:00, 761.27it/s]\n"
     ]
    }
   ],
   "source": [
    "weight = -1\n",
    "\n",
    "Nbias = 101\n",
    "biases = np.linspace(-2, 2, Nbias)\n",
    "accuracies = np.zeros(Nbias)\n",
    "\n",
    "for ii, bias_val in enumerate(tqdm(biases)):\n",
    "    accuracy, y_pred = get_accuracy(bias = bias_val, weight=weight, xvals=x_train, yvals=y_train)\n",
    "    accuracies[ii] = accuracy"
   ]
  },
  {
   "cell_type": "code",
   "execution_count": null,
   "metadata": {
    "colab": {
     "base_uri": "https://localhost:8080/",
     "height": 297
    },
    "executionInfo": {
     "elapsed": 415,
     "status": "ok",
     "timestamp": 1649424236892,
     "user": {
      "displayName": "Fred Jendrzejewski",
      "userId": "18233741657522664753"
     },
     "user_tz": -120
    },
    "id": "NBPrIS_X5wCi",
    "outputId": "eba51845-ac49-4548-c69c-57327f9b9e96"
   },
   "outputs": [
    {
     "data": {
      "text/plain": [
       "<matplotlib.legend.Legend at 0x7f75bd886f10>"
      ]
     },
     "execution_count": 47,
     "metadata": {},
     "output_type": "execute_result"
    },
    {
     "data": {
      "image/png": "[encoded data removed]",
      "text/plain": [
       "<Figure size 432x288 with 1 Axes>"
      ]
     },
     "metadata": {
      "needs_background": "light"
     },
     "output_type": "display_data"
    }
   ],
   "source": [
    "opt_bias = biases[accuracies.argmax()]\n",
    "\n",
    "f, ax = plt.subplots()\n",
    "ax.plot(biases, accuracies)\n",
    "ax.axvline(opt_bias, color=\"C1\", label=\"optimal bias\")\n",
    "ax.set_ylabel(\"accuracy\")\n",
    "ax.set_xlabel(\"biases\")\n",
    "ax.legend()"
   ]
  },
  {
   "cell_type": "markdown",
   "metadata": {
    "id": "9gf8m_uM6i8E"
   },
   "source": [
    "We clearly identify a optimal value for the bias at which the accuracy is maximal. This allows to test the accuracy on the optimal value of the weights again to obtain."
   ]
  },
  {
   "cell_type": "code",
   "execution_count": null,
   "metadata": {
    "colab": {
     "base_uri": "https://localhost:8080/",
     "height": 283
    },
    "executionInfo": {
     "elapsed": 350,
     "status": "ok",
     "timestamp": 1649424242706,
     "user": {
      "displayName": "Fred Jendrzejewski",
      "userId": "18233741657522664753"
     },
     "user_tz": -120
    },
    "id": "8ZzCgUBe1XlI",
    "outputId": "6b35dbcc-ae6f-4bc5-bca0-53bd4468745c"
   },
   "outputs": [
    {
     "name": "stdout",
     "output_type": "stream",
     "text": [
      "The trained circuit has an accuracy of 1.0\n"
     ]
    },
    {
     "data": {
      "image/png": "[encoded data removed]",
      "text/plain": [
       "<Figure size 432x288 with 1 Axes>"
      ]
     },
     "metadata": {
      "needs_background": "light"
     },
     "output_type": "display_data"
    }
   ],
   "source": [
    "accuracy, y_pred = get_accuracy(bias = opt_bias , weight= weight, xvals=x_train, yvals=y_train)\n",
    "\n",
    "false_label = abs(y_pred - y_train) > 0\n",
    "\n",
    "x_false = x_train[false_label]\n",
    "y_false = y_pred[false_label]\n",
    "\n",
    "f, ax = plt.subplots()\n",
    "ax.plot(x_train, y_pred, \"o\", label=\"predicted label\")\n",
    "ax.plot(x_false, y_false, \"ro\", label=\"false label\")\n",
    "ax.legend()\n",
    "\n",
    "\n",
    "print(f\"The trained circuit has an accuracy of {accuracy:.2}\")"
   ]
  },
  {
   "cell_type": "markdown",
   "metadata": {
    "id": "gDU-Cv4P6wn5"
   },
   "source": [
    "## Testing the algorithm\n",
    "\n",
    "Having finished the training, we can test the circuit now on data points that it has never seen."
   ]
  },
  {
   "cell_type": "code",
   "execution_count": null,
   "metadata": {
    "colab": {
     "base_uri": "https://localhost:8080/",
     "height": 283
    },
    "executionInfo": {
     "elapsed": 321,
     "status": "ok",
     "timestamp": 1649424274995,
     "user": {
      "displayName": "Fred Jendrzejewski",
      "userId": "18233741657522664753"
     },
     "user_tz": -120
    },
    "id": "NAuM4pYscZUQ",
    "outputId": "00012b87-939d-4496-a97c-ee925ce7f2ef"
   },
   "outputs": [
    {
     "name": "stdout",
     "output_type": "stream",
     "text": [
      "The circuit has a test accuracy of 1.0\n"
     ]
    },
    {
     "data": {
      "image/png": "[encoded data removed]",
      "text/plain": [
       "<Figure size 432x288 with 1 Axes>"
      ]
     },
     "metadata": {
      "needs_background": "light"
     },
     "output_type": "display_data"
    }
   ],
   "source": [
    "test_accuracy, y_test_pred = get_accuracy(\n",
    "    bias = opt_bias, weight=weight, xvals=x_test, yvals=y_test\n",
    ")\n",
    "\n",
    "false_label = abs(y_test_pred - y_test) > 0\n",
    "\n",
    "x_false = x_test[false_label]\n",
    "y_false = y_test_pred[false_label]\n",
    "\n",
    "print(f\"The circuit has a test accuracy of {test_accuracy:.2}\")\n",
    "f, ax = plt.subplots()\n",
    "ax.plot(x_test, y_test_pred, \"o\", label=\"predicted label\")\n",
    "ax.plot(x_false, y_false, \"ro\", label=\"false label\")\n",
    "ax.legend();"
   ]
  },
  {
   "cell_type": "markdown",
   "metadata": {
    "id": "YjSZ3vEC7v5b"
   },
   "source": [
    "## Summary of classical supervised learning\n",
    "\n",
    "In this tutorial, we studied some basic concepts like training and classification for an extremely simple case. We saw:\n",
    "\n",
    "- the existence of a classification algorithm.\n",
    "- How it relates input and output label.\n",
    "- How it is trained.\n",
    "- How it is tested on test data.\n",
    "\n",
    "In the [first tutorial on QML](https://colab.research.google.com/drive/1XMkIBrU1lBLTT-oVufVTifHivss0HDI1?usp=sharing), we will see how this translate in the simplest fashion to quantum algorithms.\n"
   ]
  }
 ],
 "metadata": {
  "colab": {
   "name": "qml_001.ipynb",
   "provenance": [
    {
     "file_id": "1XMkIBrU1lBLTT-oVufVTifHivss0HDI1",
     "timestamp": 1649169572409
    }
   ]
  },
  "kernelspec": {
   "display_name": "Python 3 (ipykernel)",
   "language": "python",
   "name": "python3"
  },
  "language_info": {
   "codemirror_mode": {
    "name": "ipython",
    "version": 3
   },
   "file_extension": ".py",
   "mimetype": "text/x-python",
   "name": "python",
   "nbconvert_exporter": "python",
   "pygments_lexer": "ipython3",
   "version": "3.10.8"
  }
 },
 "nbformat": 4,
 "nbformat_minor": 4
}
