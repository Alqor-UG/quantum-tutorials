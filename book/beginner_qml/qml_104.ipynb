{
 "cells": [
  {
   "cell_type": "markdown",
   "metadata": {
    "id": "PnKV8Zx8mioZ"
   },
   "source": [
    "# QML 104 - More is different ? Working with multiple qubits\n",
    "\n",
    "In the [previous tutorial](qml103) we saw how we might be able to handle more complex inputs through reuploading. However, we only discussed algorithms with single qubits until now and there is little chance that such algorithms have an impact beyond their pedagogical power.\n",
    "\n",
    "In this tutorial, we will present one for to introduce multiple qubits and entangle them. We will learn:\n",
    "\n",
    "- How multiple qubits can work with multiple labels.\n",
    "- Entanglement might be used to control the performance of the circuit. \n",
    "\n",
    "We will always focus on simplicity throughout this tutorial and leave the more complex discussions to the extensive literature."
   ]
  },
  {
   "cell_type": "code",
   "execution_count": null,
   "metadata": {
    "id": "r_lP5JN4vt9p"
   },
   "outputs": [],
   "source": [
    "# only necessary on colab to have all the required packages installed\n",
    "\n",
    "!pip install qiskit\n",
    "!pip install pylatexenc"
   ]
  },
  {
   "cell_type": "code",
   "execution_count": null,
   "metadata": {
    "id": "ZttXKz30nylz"
   },
   "outputs": [],
   "source": [
    "from typing import Union, List\n",
    "\n",
    "import numpy as np\n",
    "import matplotlib.pyplot as plt\n",
    "\n",
    "from tqdm import tqdm\n",
    "\n",
    "# for splitting the data set\n",
    "from sklearn.model_selection import train_test_split\n",
    "\n",
    "# for the quantum circuits\n",
    "from qiskit.circuit import QuantumCircuit, Parameter\n",
    "from qiskit import Aer"
   ]
  },
  {
   "cell_type": "markdown",
   "metadata": {
    "id": "FgQjg2qvneFB"
   },
   "source": [
    "## A multi-label data set\n",
    "\n",
    "In the [first tutorials](qml101) we saw how to label data that depend only on one input and had binary labels $y_i \\in \\{0, 1\\}$. In the [third tutorial](qml103), we worked with a data set that had a two-dimensional input $\\mathbf{x}_i = (x_{1,i}, x_{2,i})$ and a binary label $y_i \\in \\{0, 1\\}$. We will now build up on this work and use a data set that has:\n",
    "\n",
    "- one dimensional input $x$.\n",
    "- Labels that go from $y_i \\in \\{0, 1, 2, 3\\}$. Extending our previous data set."
   ]
  },
  {
   "cell_type": "code",
   "execution_count": null,
   "metadata": {
    "colab": {
     "base_uri": "https://localhost:8080/",
     "height": 279
    },
    "executionInfo": {
     "elapsed": 286,
     "status": "ok",
     "timestamp": 1650993279489,
     "user": {
      "displayName": "Fred Jendrzejewski",
      "userId": "18233741657522664753"
     },
     "user_tz": -120
    },
    "id": "vFEKo-I3CC9e",
    "outputId": "f9c7af29-6ca1-4344-aaa4-cb637a4b2f53"
   },
   "outputs": [
    {
     "data": {
      "image/png": "[encoded data removed]",
      "text/plain": [
       "<Figure size 432x288 with 1 Axes>"
      ]
     },
     "metadata": {
      "needs_background": "light"
     },
     "output_type": "display_data"
    }
   ],
   "source": [
    "np.random.seed(1)\n",
    "xdata = np.random.uniform(0, 2, 100)\n",
    "ydata = np.ceil(2*xdata)-1\n",
    "\n",
    "f, ax = plt.subplots()\n",
    "ax.plot(xdata, ydata, \"o\")\n",
    "ax.set_xlabel(\"input value\")\n",
    "ax.set_ylabel(\"label\");"
   ]
  },
  {
   "cell_type": "markdown",
   "metadata": {
    "id": "C7Imt-gGoypd"
   },
   "source": [
    "Once again we split the data set and get into the training."
   ]
  },
  {
   "cell_type": "code",
   "execution_count": null,
   "metadata": {
    "colab": {
     "base_uri": "https://localhost:8080/",
     "height": 369
    },
    "executionInfo": {
     "elapsed": 826,
     "status": "ok",
     "timestamp": 1650993280309,
     "user": {
      "displayName": "Fred Jendrzejewski",
      "userId": "18233741657522664753"
     },
     "user_tz": -120
    },
    "id": "G_oeKC3JpeBJ",
    "outputId": "c3d62f35-3748-4a10-b6e3-667f71858f23"
   },
   "outputs": [
    {
     "data": {
      "image/png": "[encoded data removed]",
      "text/plain": [
       "<Figure size 1080x360 with 2 Axes>"
      ]
     },
     "metadata": {
      "needs_background": "light"
     },
     "output_type": "display_data"
    }
   ],
   "source": [
    "x_train, x_test, y_train, y_test = train_test_split(\n",
    "    xdata, ydata, test_size=0.20, random_state=42\n",
    ")\n",
    "\n",
    "\n",
    "f, (ax1, ax2) = plt.subplots(1, 2, figsize=(15, 5), sharex=True, sharey=True)\n",
    "ax1.plot(x_train, y_train, \"o\")\n",
    "ax1.set_xlabel(\"input value\")\n",
    "ax1.set_ylabel(\" given labels\")\n",
    "ax1.set_title(\"training data\")\n",
    "\n",
    "ax2.plot(x_test, y_test, \"o\")\n",
    "ax2.set_xlabel(\"input value\")\n",
    "ax2.set_title(\"test data\")\n",
    "\n",
    "f.tight_layout()"
   ]
  },
  {
   "cell_type": "markdown",
   "metadata": {
    "id": "jRy_bpqPqglm"
   },
   "source": [
    "## Handling multiple labels\n",
    "\n",
    "To achieve training now, we have to handle labels that go beyond binary. Quite interestingly there is a multitude of approaches on how to encode such labels, one of them was propose in the original paper [data-reuploading approach](https://quantum-journal.org/papers/q-2020-02-06-226/). However, we will follow a more intuitive path in which we simply use the qubits as [binary encoding](https://en.wikipedia.org/wiki/Binary_number) of the labels. To represent the number $3$, we therefore need two qubits as the result $|11\\rangle$ is then translated in $2^1+1^1 = 3$.   In summary, we will \n",
    "\n",
    "1. Prepare the initial state, where multiple qubits are initialized in $0$.\n",
    "2. Apply a parametrized circuit with parameters $\\mathbf{w}$ that depend on the input $U(\\mathbf{w},x_i)$.\n",
    "3. Read out the label from the measurement of the qubit.\n",
    "\n",
    "The main difference is now that we have multiple qubits that we should handle in this approach and we have to choose how to properly parametrize the circuit. This falls into the large class of variational circuits, about which we might do a series of tutorials, if interest exists. A nice review on different choices can be found [in this paper](https://arxiv.org/abs/2008.08605).  Here, we will choose the following parametrization. \n",
    "\n",
    "1. We apply a rotation gate $R_x$ on each qubit.\n",
    "2. We entangle the two qubit through a parametrized two qubit gate. A wide choice exists, but the  $R_{zz}$ gate is especially nice as it creates entanglement and does not commute with the $R_x$ gates.\n",
    "3. We apply another rotation gate $R_x$ on each qubit.\n",
    "\n",
    "Let us just visualize it once in `qiskit`."
   ]
  },
  {
   "cell_type": "code",
   "execution_count": null,
   "metadata": {
    "id": "X4sZra11pyHs"
   },
   "outputs": [],
   "source": [
    "sim = Aer.get_backend(\"aer_simulator\")"
   ]
  },
  {
   "cell_type": "code",
   "execution_count": null,
   "metadata": {
    "colab": {
     "base_uri": "https://localhost:8080/",
     "height": 185
    },
    "executionInfo": {
     "elapsed": 1427,
     "status": "ok",
     "timestamp": 1650993281733,
     "user": {
      "displayName": "Fred Jendrzejewski",
      "userId": "18233741657522664753"
     },
     "user_tz": -120
    },
    "id": "tnceVURft-W5",
    "outputId": "f964530b-b893-4bdf-fcd7-d2811bb3a970"
   },
   "outputs": [
    {
     "data": {
      "image/png": "[encoded data removed]",
      "text/plain": [
       "<Figure size 538.279x204.68 with 1 Axes>"
      ]
     },
     "execution_count": 7,
     "metadata": {},
     "output_type": "execute_result"
    }
   ],
   "source": [
    "theta1 = Parameter(r\"$\\theta_1$\")\n",
    "theta2 = Parameter(r\"$\\theta_2$\")\n",
    "\n",
    "alpha0 = Parameter(r\"$\\alpha_0$\")\n",
    "\n",
    "qc = QuantumCircuit(2)\n",
    "\n",
    "# first upload\n",
    "qc.rx(theta1, 0)\n",
    "qc.rx(theta2, 1)\n",
    "\n",
    "# first processing\n",
    "qc.rzz(alpha0, 0,1)\n",
    "\n",
    "# second upload\n",
    "qc.rx(theta1, 0)\n",
    "qc.rx(theta2, 1)\n",
    "\n",
    "\n",
    "qc.measure_all()\n",
    "qc.draw(\"mpl\")"
   ]
  },
  {
   "cell_type": "markdown",
   "metadata": {
    "id": "dBDzX75c0bqC"
   },
   "source": [
    "We can now look at the performance of the code with some randomly initialized weight in predicting the appropiate label."
   ]
  },
  {
   "cell_type": "code",
   "execution_count": null,
   "metadata": {
    "id": "-bs7d-A7yyZh"
   },
   "outputs": [],
   "source": [
    "def get_accuracy(\n",
    "    qc: QuantumCircuit, weights: List[float] , alphas: List[float], xvals: List[float], yvals: List[int]) -> Union[float, List[int]]:\n",
    "    \"\"\"\n",
    "    Calculates the accuracy of the circuit for a given set of data.\n",
    "\n",
    "    Args:\n",
    "      qc: the quantum circuit\n",
    "      alphas: the training parameters for the z processing gate\n",
    "      gammas: the training parameters for the x processing gate\n",
    "      weights: the weights for the inputs\n",
    "      xvals: the input values\n",
    "      yvals: the labels\n",
    "    Returns:\n",
    "      The accuracy and the predicted labels.\n",
    "    \"\"\"\n",
    "    pred_labels = np.zeros(len(xvals))\n",
    "    accurate_prediction = 0\n",
    "    for ii, xinput, yinput in zip(range(len(xvals)), xvals, yvals.astype(int)):\n",
    "        # set the circuit parameter\n",
    "        circuit = qc.assign_parameters(\n",
    "            {theta1: weights[0]*xinput,\n",
    "             theta2: weights[1]*xinput,\n",
    "             alpha0: alphas\n",
    "             },\n",
    "            inplace=False,\n",
    "        )\n",
    "        # run the job and obtain the counts\n",
    "        Nshots = 4000\n",
    "        job = sim.run(circuit, shots=Nshots)\n",
    "        counts1 = job.result().get_counts()  # e.g. counts = {\"00\": 2000, \"11\": 2000}\n",
    "\n",
    "        # obtain the predicted label on average\n",
    "        av_label = 0\n",
    "        for el in counts1:\n",
    "          av_label += int(el,2)*counts1[el]/Nshots\n",
    "        pred_label = round(av_label) \n",
    "        \n",
    "        pred_labels[ii] = pred_label\n",
    "        if yinput == pred_label:\n",
    "            accurate_prediction += 1\n",
    "    return accurate_prediction / len(yvals), pred_labels"
   ]
  },
  {
   "cell_type": "code",
   "execution_count": null,
   "metadata": {
    "colab": {
     "base_uri": "https://localhost:8080/",
     "height": 300
    },
    "executionInfo": {
     "elapsed": 1050,
     "status": "ok",
     "timestamp": 1650993282781,
     "user": {
      "displayName": "Fred Jendrzejewski",
      "userId": "18233741657522664753"
     },
     "user_tz": -120
    },
    "id": "7ebklqJn0HwQ",
    "outputId": "c0c1df04-f04e-4796-d28d-daf3c2286268"
   },
   "outputs": [
    {
     "name": "stdout",
     "output_type": "stream",
     "text": [
      "The randomly initialized circuit has an accuracy of 0.275\n"
     ]
    },
    {
     "data": {
      "text/plain": [
       "<matplotlib.legend.Legend at 0x7f016e522a50>"
      ]
     },
     "execution_count": 9,
     "metadata": {},
     "output_type": "execute_result"
    },
    {
     "data": {
      "image/png": "[encoded data removed]",
      "text/plain": [
       "<Figure size 432x288 with 1 Axes>"
      ]
     },
     "metadata": {
      "needs_background": "light"
     },
     "output_type": "display_data"
    }
   ],
   "source": [
    "np.random.seed(123)\n",
    "\n",
    "weights = np.random.uniform(size=2)\n",
    "alphas = np.random.uniform()\n",
    "\n",
    "\n",
    "accuracy, y_pred = get_accuracy(qc, alphas=alphas, weights=weights, xvals=x_train, yvals=y_train)\n",
    "\n",
    "false_label = abs(y_pred - y_train) > 0\n",
    "\n",
    "x_false = x_train[false_label]\n",
    "y_false = y_pred[false_label]\n",
    "\n",
    "print(f\"The randomly initialized circuit has an accuracy of {accuracy}\")\n",
    "\n",
    "f, ax = plt.subplots()\n",
    "ax.plot(x_train, y_pred, \"o\", label=\"predicted label\")\n",
    "ax.plot(x_false, y_false, \"ro\", label=\"false label\")\n",
    "ax.legend()"
   ]
  },
  {
   "cell_type": "markdown",
   "metadata": {
    "id": "FUpRQY2m3zd8"
   },
   "source": [
    "## Training\n",
    "\n",
    "We once again have to train the circuit as discussed in the[ previous tutorial](qml103) with [`scipy.optimize`](https://docs.scipy.org/doc/scipy/reference/optimize.html) package to optimize the target function."
   ]
  },
  {
   "cell_type": "code",
   "execution_count": null,
   "metadata": {
    "id": "mIkhchO33G2N"
   },
   "outputs": [],
   "source": [
    "from scipy.optimize import minimize"
   ]
  },
  {
   "cell_type": "code",
   "execution_count": null,
   "metadata": {
    "id": "M4-nNB-o3WbS"
   },
   "outputs": [],
   "source": [
    "def get_cost_for_circ(xvals, yvals, machine=sim):\n",
    "    \"\"\"\n",
    "    Runs parametrized circuit\n",
    "\n",
    "    Args:\n",
    "        x: position of the dot\n",
    "        y: its state label\n",
    "        params: parameters of the circuit\n",
    "    \"\"\"\n",
    "\n",
    "    def execute_circ(params_flat):\n",
    "        weights = params_flat[:2]\n",
    "        alphas = params_flat[2]\n",
    "        accuracy, y_pred = get_accuracy(qc, alphas=alphas, weights=weights, xvals=xvals, yvals=yvals)\n",
    "        print(f\"accuracy = {accuracy}\")\n",
    "        return 1-accuracy\n",
    "\n",
    "    return execute_circ"
   ]
  },
  {
   "cell_type": "code",
   "execution_count": null,
   "metadata": {
    "colab": {
     "base_uri": "https://localhost:8080/"
    },
    "executionInfo": {
     "elapsed": 36662,
     "status": "ok",
     "timestamp": 1650993319442,
     "user": {
      "displayName": "Fred Jendrzejewski",
      "userId": "18233741657522664753"
     },
     "user_tz": -120
    },
    "id": "sJD6ZB-_3KEK",
    "outputId": "98ea3423-df70-469f-f792-d983c797a135"
   },
   "outputs": [
    {
     "name": "stdout",
     "output_type": "stream",
     "text": [
      "accuracy = 0.975\n",
      "accuracy = 0.6125\n",
      "accuracy = 0.3125\n",
      "accuracy = 0.375\n",
      "accuracy = 0.2625\n",
      "accuracy = 0.5375\n",
      "accuracy = 0.8\n",
      "accuracy = 0.8\n",
      "accuracy = 0.75\n",
      "accuracy = 0.9375\n",
      "accuracy = 0.95\n",
      "accuracy = 0.95\n",
      "accuracy = 0.9625\n",
      "accuracy = 0.975\n",
      "accuracy = 0.975\n",
      "accuracy = 0.9875\n",
      "accuracy = 0.9625\n",
      "accuracy = 0.95\n",
      "accuracy = 0.975\n",
      "accuracy = 0.9625\n",
      "accuracy = 0.975\n",
      "accuracy = 0.975\n",
      "accuracy = 0.9875\n",
      "accuracy = 0.9875\n",
      "accuracy = 0.9625\n",
      "accuracy = 0.95\n",
      "accuracy = 0.9625\n",
      "accuracy = 0.975\n",
      "accuracy = 0.9625\n",
      "accuracy = 0.975\n",
      "accuracy = 0.975\n",
      "accuracy = 0.975\n",
      "accuracy = 0.975\n",
      "accuracy = 0.975\n",
      "accuracy = 0.975\n",
      "accuracy = 0.9625\n",
      "accuracy = 0.975\n"
     ]
    }
   ],
   "source": [
    "total_cost = get_cost_for_circ(x_train, y_train, sim)\n",
    "\n",
    "# initial parameters which are randomly initialized\n",
    "np.random.seed(123)\n",
    "params = np.random.uniform(size=3)\n",
    "params_flat = params.flatten()\n",
    "\n",
    "# params, which are guessed close to what we know to be a good result\n",
    "params_flat = [0.9,0.9,0.7]\n",
    "\n",
    "# minimze with COBYLA optimize, which often performs quite well\n",
    "res = minimize(total_cost, params_flat, method=\"COBYLA\")"
   ]
  },
  {
   "cell_type": "markdown",
   "metadata": {
    "id": "FQKjrklslGmK"
   },
   "source": [
    "We can see that the accuracy is converging to a value of more than 95% and it is now time to look into the optimal training parameters."
   ]
  },
  {
   "cell_type": "code",
   "execution_count": null,
   "metadata": {
    "colab": {
     "base_uri": "https://localhost:8080/"
    },
    "executionInfo": {
     "elapsed": 14,
     "status": "ok",
     "timestamp": 1650993319443,
     "user": {
      "displayName": "Fred Jendrzejewski",
      "userId": "18233741657522664753"
     },
     "user_tz": -120
    },
    "id": "pV2o-yta82hm",
    "outputId": "b40ba530-b927-4451-99f2-523bf58fbc80"
   },
   "outputs": [
    {
     "name": "stdout",
     "output_type": "stream",
     "text": [
      "optimal weights = [0.9010178  0.90824815]\n",
      "optimal alpha = 0.7131673355135238\n"
     ]
    }
   ],
   "source": [
    "opt_weights = res.x[:2]\n",
    "opt_alphas = res.x[2]\n",
    "\n",
    "print(f\"optimal weights = {opt_weights}\")\n",
    "print(f\"optimal alpha = {opt_alphas}\")"
   ]
  },
  {
   "cell_type": "markdown",
   "metadata": {
    "id": "9gf8m_uM6i8E"
   },
   "source": [
    "We can now test the accuracy on the optimal value of the weights again to test the accuracy."
   ]
  },
  {
   "cell_type": "code",
   "execution_count": null,
   "metadata": {
    "colab": {
     "base_uri": "https://localhost:8080/",
     "height": 300
    },
    "executionInfo": {
     "elapsed": 778,
     "status": "ok",
     "timestamp": 1650993320217,
     "user": {
      "displayName": "Fred Jendrzejewski",
      "userId": "18233741657522664753"
     },
     "user_tz": -120
    },
    "id": "8ZzCgUBe1XlI",
    "outputId": "1248ab07-b91d-4f15-b7f3-c84f6ce565c1"
   },
   "outputs": [
    {
     "name": "stdout",
     "output_type": "stream",
     "text": [
      "The trained circuit has an accuracy of 0.96\n"
     ]
    },
    {
     "data": {
      "text/plain": [
       "<matplotlib.legend.Legend at 0x7f016e5952d0>"
      ]
     },
     "execution_count": 14,
     "metadata": {},
     "output_type": "execute_result"
    },
    {
     "data": {
      "image/png": "[encoded data removed]",
      "text/plain": [
       "<Figure size 432x288 with 1 Axes>"
      ]
     },
     "metadata": {
      "needs_background": "light"
     },
     "output_type": "display_data"
    }
   ],
   "source": [
    "accuracy, y_pred = get_accuracy(qc, weights=opt_weights, alphas = opt_alphas, xvals=x_train, yvals=y_train)\n",
    "\n",
    "false_label = abs(y_pred - y_train) > 0\n",
    "\n",
    "x_false = x_train[false_label]\n",
    "y_false = y_pred[false_label]\n",
    "\n",
    "print(f\"The trained circuit has an accuracy of {accuracy:.2}\")\n",
    "\n",
    "f, ax = plt.subplots()\n",
    "ax.plot(x_train, y_pred, \"o\", label=\"predicted label\")\n",
    "ax.plot(x_false, y_false, \"ro\", label=\"false label\")\n",
    "ax.legend()"
   ]
  },
  {
   "cell_type": "markdown",
   "metadata": {
    "id": "TceIxqTKpR6v"
   },
   "source": [
    "We can see quite excellent training for this data set. One common question that always comes up for these kinds of circuits is also about the potential role of entanglement. The simplest thing would be to simply set the alpha parameter to zero."
   ]
  },
  {
   "cell_type": "code",
   "execution_count": null,
   "metadata": {
    "colab": {
     "base_uri": "https://localhost:8080/"
    },
    "executionInfo": {
     "elapsed": 803,
     "status": "ok",
     "timestamp": 1650993321011,
     "user": {
      "displayName": "Fred Jendrzejewski",
      "userId": "18233741657522664753"
     },
     "user_tz": -120
    },
    "id": "Ei3ZJ-snpmfZ",
    "outputId": "168c1c08-49c4-4627-bd6c-3626307d013a"
   },
   "outputs": [
    {
     "name": "stdout",
     "output_type": "stream",
     "text": [
      "The trained circuit without entanglement has an accuracy of 0.79\n"
     ]
    }
   ],
   "source": [
    "accuracy_wo_entanglement, _ = get_accuracy(qc, weights=opt_weights, alphas = 0, xvals=x_train, yvals=y_train)\n",
    "print(f\"The trained circuit without entanglement has an accuracy of {accuracy_wo_entanglement:.2}\")"
   ]
  },
  {
   "cell_type": "markdown",
   "metadata": {
    "id": "cDec4x9ZpyNd"
   },
   "source": [
    "We can see that the correlation between the two qubits plays and substantial role in the prediction of the labels. The training of the circuit without any kind of entanglement is left to the reader. Or you just send us a comment if you would like to have a cleaner introduction on this issue."
   ]
  },
  {
   "cell_type": "markdown",
   "metadata": {
    "id": "gDU-Cv4P6wn5"
   },
   "source": [
    "## Test\n",
    "\n",
    "Having finished the training, we can test the circuit now on data points that it has never seen."
   ]
  },
  {
   "cell_type": "code",
   "execution_count": null,
   "metadata": {
    "colab": {
     "base_uri": "https://localhost:8080/",
     "height": 300
    },
    "executionInfo": {
     "elapsed": 483,
     "status": "ok",
     "timestamp": 1650993321491,
     "user": {
      "displayName": "Fred Jendrzejewski",
      "userId": "18233741657522664753"
     },
     "user_tz": -120
    },
    "id": "NAuM4pYscZUQ",
    "outputId": "358116b8-676f-465c-da05-fc5bbce1c53b"
   },
   "outputs": [
    {
     "name": "stdout",
     "output_type": "stream",
     "text": [
      "The circuit has a test accuracy of 1.0\n"
     ]
    },
    {
     "data": {
      "text/plain": [
       "<matplotlib.legend.Legend at 0x7f016e403c50>"
      ]
     },
     "execution_count": 16,
     "metadata": {},
     "output_type": "execute_result"
    },
    {
     "data": {
      "image/png": "[encoded data removed]",
      "text/plain": [
       "<Figure size 432x288 with 1 Axes>"
      ]
     },
     "metadata": {
      "needs_background": "light"
     },
     "output_type": "display_data"
    }
   ],
   "source": [
    "test_accuracy, y_test_pred = get_accuracy(\n",
    "    qc, weights=opt_weights,  alphas = opt_alphas, xvals=x_test, yvals=y_test\n",
    ")\n",
    "\n",
    "false_label = abs(y_test_pred - y_test) > 0\n",
    "\n",
    "x_false = x_test[false_label]\n",
    "y_false = y_test_pred[false_label]\n",
    "\n",
    "print(f\"The circuit has a test accuracy of {test_accuracy:.2}\")\n",
    "\n",
    "f, ax = plt.subplots()\n",
    "ax.plot(x_test, y_test_pred, \"o\", label=\"predicted label\")\n",
    "ax.plot(x_false, y_false, \"ro\", label=\"false label\")\n",
    "ax.legend()"
   ]
  },
  {
   "cell_type": "markdown",
   "metadata": {
    "id": "YOtwNStAlYzU"
   },
   "source": [
    "## Summary and outlook\n",
    "\n",
    "In this last tutorial of this introductory series, we have seen that the data reuploading can be extended towards multiple labels. \n",
    "- The crucial step was the extension to multiple qubits. \n",
    "- To make the algorithm work efficiently we entangled the qudits with an entanglement gate and then trained the full circuit with the whole data set.\n",
    "\n",
    "Of course, we have not gone into complex data-sets like the MNIST or other problems in this series. This will be up to the more complex literature or more advanced courses. However, we hope that this series gave you a basic idea of some fairly common concepts that are used in the field nowadays."
   ]
  },
  {
   "cell_type": "code",
   "execution_count": null,
   "metadata": {},
   "outputs": [],
   "source": []
  }
 ],
 "metadata": {
  "colab": {
   "collapsed_sections": [],
   "name": "qml_104.ipynb",
   "provenance": [
    {
     "file_id": "1K5hZ7eoI4BTdISJcHxvzJ1zkJWDJSuVh",
     "timestamp": 1650396545552
    },
    {
     "file_id": "1K_iNYS-Xuj762D0YFwMTDNuGkohu60GF",
     "timestamp": 1649686841039
    },
    {
     "file_id": "1XMkIBrU1lBLTT-oVufVTifHivss0HDI1",
     "timestamp": 1646996143437
    }
   ]
  },
  "kernelspec": {
   "display_name": "Python 3 (ipykernel)",
   "language": "python",
   "name": "python3"
  },
  "language_info": {
   "codemirror_mode": {
    "name": "ipython",
    "version": 3
   },
   "file_extension": ".py",
   "mimetype": "text/x-python",
   "name": "python",
   "nbconvert_exporter": "python",
   "pygments_lexer": "ipython3",
   "version": "3.10.8"
  }
 },
 "nbformat": 4,
 "nbformat_minor": 4
}
